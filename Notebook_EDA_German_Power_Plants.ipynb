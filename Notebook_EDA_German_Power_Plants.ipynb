{
 "cells": [
  {
   "cell_type": "markdown",
   "id": "0d1a5761-ca45-4b30-a8a2-06f324c1d91d",
   "metadata": {},
   "source": [
    "# EDA of Conventional and Renewable Power Plants in Germany"
   ]
  },
  {
   "cell_type": "markdown",
   "id": "2facd0e1-bea1-4e3b-a4d3-f74d4fe1d276",
   "metadata": {},
   "source": [
    "Project Overview\n",
    "\n",
    "The goal of the EDA (Exploratory Data Analysis) is to gain a comprehensive overview of the various energy sources used by conventional and renewable power plants in Germany. This includes analyzing installed capacity, the number of power plants, and their geographical distribution at the federal state level.\n",
    "\n",
    "In addition, regional and temporal trends are examined to determine whether certain energy sources or types of power plants are more common in specific regions and how installed capacity has developed over the years.\n",
    "\n",
    "A particular focus is placed on comparing conventional and renewable power plants — both in terms of the number of facilities and installed capacity, as well as their regional distribution. The analysis aims to reveal developments and patterns in the German energy sector.\n",
    "\n",
    "For the Exploratory Data Analysis (EDA), data on both conventional and renewable power plants in Germany is used:\n",
    "\n",
    "    Conventional power plants: https://data.open-power-system-data.org/conventional_power_plants/2020-10-01\n",
    "\n",
    "    Renewable power plants: https://data.open-power-system-data.org/renewable_power_plants/2020-08-25\n"
   ]
  },
  {
   "cell_type": "code",
   "execution_count": 1,
   "id": "fbe0240f-5180-4cd1-b8d7-3ba78dc1800b",
   "metadata": {},
   "outputs": [],
   "source": [
    "#Load required libraries\n",
    "\n",
    "import pandas as pd\n",
    "import numpy as np\n",
    "from skimpy import skim\n",
    "from summarytools import dfSummary\n",
    "import plotly.express as px\n",
    "from plotly.subplots import make_subplots\n",
    "import plotly.graph_objects as go"
   ]
  },
  {
   "cell_type": "markdown",
   "id": "570fe24b-94a8-49f3-be7a-b7e2d4ad0219",
   "metadata": {},
   "source": [
    "# 1. Conventional Power Plants in Germany "
   ]
  },
  {
   "cell_type": "code",
   "execution_count": 38,
   "id": "7e0f5a9d-8d99-4eb8-9ca1-494cca8e443c",
   "metadata": {},
   "outputs": [
    {
     "data": {
      "text/html": [
       "<div>\n",
       "<style scoped>\n",
       "    .dataframe tbody tr th:only-of-type {\n",
       "        vertical-align: middle;\n",
       "    }\n",
       "\n",
       "    .dataframe tbody tr th {\n",
       "        vertical-align: top;\n",
       "    }\n",
       "\n",
       "    .dataframe thead th {\n",
       "        text-align: right;\n",
       "    }\n",
       "</style>\n",
       "<table border=\"1\" class=\"dataframe\">\n",
       "  <thead>\n",
       "    <tr style=\"text-align: right;\">\n",
       "      <th></th>\n",
       "      <th>id</th>\n",
       "      <th>name_bnetza</th>\n",
       "      <th>block_bnetza</th>\n",
       "      <th>name_uba</th>\n",
       "      <th>company</th>\n",
       "      <th>street</th>\n",
       "      <th>postcode</th>\n",
       "      <th>city</th>\n",
       "      <th>state</th>\n",
       "      <th>country</th>\n",
       "      <th>...</th>\n",
       "      <th>efficiency_estimate</th>\n",
       "      <th>energy_source_level_1</th>\n",
       "      <th>energy_source_level_2</th>\n",
       "      <th>energy_source_level_3</th>\n",
       "      <th>eeg</th>\n",
       "      <th>network_node</th>\n",
       "      <th>voltage</th>\n",
       "      <th>network_operator</th>\n",
       "      <th>merge_comment</th>\n",
       "      <th>comment</th>\n",
       "    </tr>\n",
       "  </thead>\n",
       "  <tbody>\n",
       "    <tr>\n",
       "      <th>0</th>\n",
       "      <td>BNA0012a</td>\n",
       "      <td>Werkskraftwerk Sappi Alfeld</td>\n",
       "      <td>Turbine 5</td>\n",
       "      <td>NaN</td>\n",
       "      <td>Sappi Alfeld GmbH</td>\n",
       "      <td>Mühlenmarsch 1</td>\n",
       "      <td>31061</td>\n",
       "      <td>Alfeld</td>\n",
       "      <td>Niedersachsen</td>\n",
       "      <td>DE</td>\n",
       "      <td>...</td>\n",
       "      <td>0.38</td>\n",
       "      <td>Renewable energy</td>\n",
       "      <td>Bioenergy</td>\n",
       "      <td>Biomass and biogas</td>\n",
       "      <td>yes</td>\n",
       "      <td>NaN</td>\n",
       "      <td>Mittelspannung (MS)</td>\n",
       "      <td>Überlandwerk Leinetal GmbH</td>\n",
       "      <td>NaN</td>\n",
       "      <td>NaN</td>\n",
       "    </tr>\n",
       "    <tr>\n",
       "      <th>1</th>\n",
       "      <td>BNA0021</td>\n",
       "      <td>HKW Altenstadt</td>\n",
       "      <td>NaN</td>\n",
       "      <td>NaN</td>\n",
       "      <td>Heizkraftwerk Altenstadt GmbH &amp; Co. KG</td>\n",
       "      <td>Triebstraße 90</td>\n",
       "      <td>86972</td>\n",
       "      <td>Altenstadt</td>\n",
       "      <td>Bayern</td>\n",
       "      <td>DE</td>\n",
       "      <td>...</td>\n",
       "      <td>0.38</td>\n",
       "      <td>Renewable energy</td>\n",
       "      <td>Bioenergy</td>\n",
       "      <td>Biomass and biogas</td>\n",
       "      <td>yes</td>\n",
       "      <td>NaN</td>\n",
       "      <td>Mittelspannung (MS)</td>\n",
       "      <td>LEW Verteilnetz GmbH</td>\n",
       "      <td>NaN</td>\n",
       "      <td>NaN</td>\n",
       "    </tr>\n",
       "    <tr>\n",
       "      <th>2</th>\n",
       "      <td>BNA0027</td>\n",
       "      <td>Zellstoff Stendal GmbH</td>\n",
       "      <td>-</td>\n",
       "      <td>Arneburg</td>\n",
       "      <td>Zellstoff Stendal GmbH</td>\n",
       "      <td>Goldbecker Straße 1</td>\n",
       "      <td>39596</td>\n",
       "      <td>Arneburg</td>\n",
       "      <td>Sachsen-Anhalt</td>\n",
       "      <td>DE</td>\n",
       "      <td>...</td>\n",
       "      <td>0.38</td>\n",
       "      <td>Renewable energy</td>\n",
       "      <td>Bioenergy</td>\n",
       "      <td>Biomass and biogas</td>\n",
       "      <td>yes</td>\n",
       "      <td>DE0075603959600000E00000000013559 DE0075603959...</td>\n",
       "      <td>USp. Mittel- / Niederspannung (MS/NS)</td>\n",
       "      <td>Infrastrukturbetrieb der Stadt Arneburg</td>\n",
       "      <td>List matching type: Single UBA power plant ass...</td>\n",
       "      <td>NaN</td>\n",
       "    </tr>\n",
       "    <tr>\n",
       "      <th>3</th>\n",
       "      <td>BNA0055</td>\n",
       "      <td>UTB</td>\n",
       "      <td>NaN</td>\n",
       "      <td>NaN</td>\n",
       "      <td>Pfleiderer Baruth GmbH</td>\n",
       "      <td>An der Birkenpfuhlheide 3</td>\n",
       "      <td>15837</td>\n",
       "      <td>Baruth/Mark</td>\n",
       "      <td>Brandenburg</td>\n",
       "      <td>DE</td>\n",
       "      <td>...</td>\n",
       "      <td>0.38</td>\n",
       "      <td>Renewable energy</td>\n",
       "      <td>Bioenergy</td>\n",
       "      <td>Biomass and biogas</td>\n",
       "      <td>yes</td>\n",
       "      <td>UTB/Eon-edis</td>\n",
       "      <td>Mittelspannung (MS)</td>\n",
       "      <td>E.DIS AG</td>\n",
       "      <td>NaN</td>\n",
       "      <td>NaN</td>\n",
       "    </tr>\n",
       "    <tr>\n",
       "      <th>4</th>\n",
       "      <td>BNA0062</td>\n",
       "      <td>BHW Beeskow</td>\n",
       "      <td>NaN</td>\n",
       "      <td>NaN</td>\n",
       "      <td>Sonae Arauco Beeskow GmbH</td>\n",
       "      <td>NaN</td>\n",
       "      <td>15848</td>\n",
       "      <td>Beeskow</td>\n",
       "      <td>Brandenburg</td>\n",
       "      <td>DE</td>\n",
       "      <td>...</td>\n",
       "      <td>0.38</td>\n",
       "      <td>Renewable energy</td>\n",
       "      <td>Bioenergy</td>\n",
       "      <td>Biomass and biogas</td>\n",
       "      <td>yes</td>\n",
       "      <td>Umspannwerk Beeskow der E.DIS AG</td>\n",
       "      <td>Hochspannung (HS)</td>\n",
       "      <td>E.DIS AG</td>\n",
       "      <td>NaN</td>\n",
       "      <td>NaN</td>\n",
       "    </tr>\n",
       "  </tbody>\n",
       "</table>\n",
       "<p>5 rows × 38 columns</p>\n",
       "</div>"
      ],
      "text/plain": [
       "         id                  name_bnetza block_bnetza  name_uba  \\\n",
       "0  BNA0012a  Werkskraftwerk Sappi Alfeld    Turbine 5       NaN   \n",
       "1   BNA0021               HKW Altenstadt          NaN       NaN   \n",
       "2   BNA0027       Zellstoff Stendal GmbH            -  Arneburg   \n",
       "3   BNA0055                          UTB          NaN       NaN   \n",
       "4   BNA0062                  BHW Beeskow          NaN       NaN   \n",
       "\n",
       "                                  company                     street postcode  \\\n",
       "0                       Sappi Alfeld GmbH             Mühlenmarsch 1    31061   \n",
       "1  Heizkraftwerk Altenstadt GmbH & Co. KG             Triebstraße 90    86972   \n",
       "2                  Zellstoff Stendal GmbH        Goldbecker Straße 1    39596   \n",
       "3                  Pfleiderer Baruth GmbH  An der Birkenpfuhlheide 3    15837   \n",
       "4               Sonae Arauco Beeskow GmbH                        NaN    15848   \n",
       "\n",
       "          city           state country  ...  efficiency_estimate  \\\n",
       "0       Alfeld   Niedersachsen      DE  ...                 0.38   \n",
       "1   Altenstadt          Bayern      DE  ...                 0.38   \n",
       "2     Arneburg  Sachsen-Anhalt      DE  ...                 0.38   \n",
       "3  Baruth/Mark     Brandenburg      DE  ...                 0.38   \n",
       "4      Beeskow     Brandenburg      DE  ...                 0.38   \n",
       "\n",
       "   energy_source_level_1 energy_source_level_2 energy_source_level_3  eeg  \\\n",
       "0       Renewable energy             Bioenergy    Biomass and biogas  yes   \n",
       "1       Renewable energy             Bioenergy    Biomass and biogas  yes   \n",
       "2       Renewable energy             Bioenergy    Biomass and biogas  yes   \n",
       "3       Renewable energy             Bioenergy    Biomass and biogas  yes   \n",
       "4       Renewable energy             Bioenergy    Biomass and biogas  yes   \n",
       "\n",
       "                                        network_node  \\\n",
       "0                                                NaN   \n",
       "1                                                NaN   \n",
       "2  DE0075603959600000E00000000013559 DE0075603959...   \n",
       "3                                      UTB/Eon-edis    \n",
       "4                   Umspannwerk Beeskow der E.DIS AG   \n",
       "\n",
       "                                 voltage  \\\n",
       "0                    Mittelspannung (MS)   \n",
       "1                    Mittelspannung (MS)   \n",
       "2  USp. Mittel- / Niederspannung (MS/NS)   \n",
       "3                    Mittelspannung (MS)   \n",
       "4                      Hochspannung (HS)   \n",
       "\n",
       "                          network_operator  \\\n",
       "0               Überlandwerk Leinetal GmbH   \n",
       "1                     LEW Verteilnetz GmbH   \n",
       "2  Infrastrukturbetrieb der Stadt Arneburg   \n",
       "3                                 E.DIS AG   \n",
       "4                                 E.DIS AG   \n",
       "\n",
       "                                       merge_comment  comment  \n",
       "0                                                NaN      NaN  \n",
       "1                                                NaN      NaN  \n",
       "2  List matching type: Single UBA power plant ass...      NaN  \n",
       "3                                                NaN      NaN  \n",
       "4                                                NaN      NaN  \n",
       "\n",
       "[5 rows x 38 columns]"
      ]
     },
     "execution_count": 38,
     "metadata": {},
     "output_type": "execute_result"
    }
   ],
   "source": [
    "#Load and preview csv-file containing data about conventional power plants in Germany\n",
    "\n",
    "df_conv_power = pd.read_csv('/home/lazor/Documents/github/Python/EDA_German_Power_Plants/Data/Data_Conventional_Power_Plants_Germany.csv')\n",
    "df_conv_power.head()"
   ]
  },
  {
   "cell_type": "markdown",
   "id": "4303b634-6eed-49c2-a7df-307979d332dd",
   "metadata": {},
   "source": [
    "## 1.1 Data Inspection: Conventional Power Plants"
   ]
  },
  {
   "cell_type": "code",
   "execution_count": null,
   "id": "9ea56d04-d66e-4a08-8b37-8dea8feaa975",
   "metadata": {},
   "outputs": [],
   "source": [
    "#Inspect the dataframe using skim()\n",
    "skim(df_conv_power)"
   ]
  },
  {
   "cell_type": "code",
   "execution_count": null,
   "id": "f20488ea-128f-421c-96a4-70a9531325ff",
   "metadata": {},
   "outputs": [],
   "source": [
    "# Inspect the dataframe using summarytools\n",
    "dfSummary(df_conv_power)"
   ]
  },
  {
   "cell_type": "markdown",
   "id": "09c41970-0f29-4a19-a041-3182a4792ef2",
   "metadata": {},
   "source": [
    "The dataset df_conv_power has 909 rows and 38 columns, with both categorical (names, locations, energy sources, technical specifications) and numerical data (capacity, coordinates, years (commissioned, retrofit, shutdown)). Some columns, like retrofit, shutdown, and efficiency_data, have a lot of missing values (over 85%), meaning this information was only recorded for a few power plants. However, key details such as IDs, names, and locations are complete, so the data can still be used for general analysis."
   ]
  },
  {
   "cell_type": "code",
   "execution_count": 3,
   "id": "ce78c892-e4e2-4c35-856c-096768ee2a87",
   "metadata": {},
   "outputs": [
    {
     "data": {
      "text/plain": [
       "id                        object\n",
       "name_bnetza               object\n",
       "block_bnetza              object\n",
       "name_uba                  object\n",
       "company                   object\n",
       "street                    object\n",
       "postcode                  object\n",
       "city                      object\n",
       "state                     object\n",
       "country                   object\n",
       "capacity_net_bnetza      float64\n",
       "capacity_gross_uba       float64\n",
       "energy_source             object\n",
       "technology                object\n",
       "chp                       object\n",
       "chp_capacity_uba          object\n",
       "commissioned             float64\n",
       "commissioned_original     object\n",
       "retrofit                 float64\n",
       "shutdown                 float64\n",
       "status                    object\n",
       "type                      object\n",
       "lat                      float64\n",
       "lon                      float64\n",
       "eic_code_plant            object\n",
       "eic_code_block            object\n",
       "efficiency_data          float64\n",
       "efficiency_source         object\n",
       "efficiency_estimate      float64\n",
       "energy_source_level_1     object\n",
       "energy_source_level_2     object\n",
       "energy_source_level_3     object\n",
       "eeg                       object\n",
       "network_node              object\n",
       "voltage                   object\n",
       "network_operator          object\n",
       "merge_comment             object\n",
       "comment                  float64\n",
       "dtype: object"
      ]
     },
     "execution_count": 3,
     "metadata": {},
     "output_type": "execute_result"
    }
   ],
   "source": [
    "#Overview over basic statistics, columns and datatypes\n",
    "df_conv_power.describe()\n",
    "df_conv_power.columns\n",
    "df_conv_power.dtypes"
   ]
  },
  {
   "cell_type": "markdown",
   "id": "a06d850e-3144-4dce-9a7b-aaf8833a0741",
   "metadata": {},
   "source": [
    "## 1.2 Data Cleansing: Conventional Power Plants"
   ]
  },
  {
   "cell_type": "markdown",
   "id": "9c34d825-742c-4f7d-bd46-58d058314029",
   "metadata": {},
   "source": [
    "#### Inspection and Cleansing of Column 'country'"
   ]
  },
  {
   "cell_type": "markdown",
   "id": "e2b1c4da-f73e-43a1-908b-57c1cfdca780",
   "metadata": {},
   "source": [
    "Before proceeding with the analysis, the dataset of conventional power plants is inspected and cleaned. The goal is to ensure that only relevant and valid entries remain, that is power plants located in Germany and classified as conventional. The cleansing process also focuses on improving data consistency in the columns describing energy sources."
   ]
  },
  {
   "cell_type": "code",
   "execution_count": 39,
   "id": "d91f3668-78ac-4c9e-bff6-20ab984e123d",
   "metadata": {},
   "outputs": [
    {
     "data": {
      "text/plain": [
       "array(['Niedersachsen', 'Bayern', 'Sachsen-Anhalt', 'Brandenburg',\n",
       "       'Nordrhein-Westfalen', 'Berlin', 'Thüringen', 'Baden-Württemberg',\n",
       "       'Hessen', 'Hamburg', 'Mecklenburg-Vorpommern', 'Saarland',\n",
       "       'Bremen', 'Schleswig-Holstein', 'Rheinland-Pfalz', 'Sachsen'],\n",
       "      dtype=object)"
      ]
     },
     "execution_count": 39,
     "metadata": {},
     "output_type": "execute_result"
    }
   ],
   "source": [
    "# Overview over column 'country'\n",
    "df_conv_power['country'].unique()\n",
    "#Remove entries containing entries from Austria (AU), Switzerland (CH) and Luxemburg (LU)\n",
    "df_conv_power = df_conv_power[df_conv_power['country'] == 'DE']\n",
    "# Check whether df_conv_power_de contains entries from Germany only\n",
    "df_conv_power['country'].unique()\n",
    "df_conv_power['state'].unique()"
   ]
  },
  {
   "cell_type": "code",
   "execution_count": 40,
   "id": "2ebca666-52d8-408f-ac73-7eb4b4cd6d5a",
   "metadata": {},
   "outputs": [
    {
     "data": {
      "text/plain": [
       "array(['Lower Saxony', 'Bavaria', 'Saxony-Anhalt', 'Brandenburg',\n",
       "       'North Rhine-Westphalia', 'Berlin', 'Thuringia',\n",
       "       'Baden-Wuerttemberg', 'Hesse', 'Hamburg',\n",
       "       'Mecklenburg-Western Pomerania', 'Saarland', 'Bremen',\n",
       "       'Schleswig-Holstein', 'Rhineland-Palatinate', 'Saxony'],\n",
       "      dtype=object)"
      ]
     },
     "execution_count": 40,
     "metadata": {},
     "output_type": "execute_result"
    }
   ],
   "source": [
    "# Replace German names of federal states with their English equivalents\n",
    "# Create a mapping dictionary\n",
    "state_mapping = {\n",
    "    'Baden-Württemberg': 'Baden-Wuerttemberg',\n",
    "    'Bayern': 'Bavaria',\n",
    "    'Berlin': 'Berlin',\n",
    "    'Brandenburg': 'Brandenburg',\n",
    "    'Bremen': 'Bremen',\n",
    "    'Hamburg': 'Hamburg',\n",
    "    'Hessen': 'Hesse',\n",
    "    'Mecklenburg-Vorpommern': 'Mecklenburg-Western Pomerania',\n",
    "    'Niedersachsen': 'Lower Saxony',\n",
    "    'Nordrhein-Westfalen': 'North Rhine-Westphalia',\n",
    "    'Rheinland-Pfalz': 'Rhineland-Palatinate',\n",
    "    'Saarland': 'Saarland',\n",
    "    'Sachsen': 'Saxony',\n",
    "    'Sachsen-Anhalt': 'Saxony-Anhalt',\n",
    "    'Schleswig-Holstein': 'Schleswig-Holstein',\n",
    "    'Thüringen': 'Thuringia'\n",
    "}\n",
    "\n",
    "# Apply mapping to column 'state'\n",
    "df_conv_power['state'] = df_conv_power['state'].map(state_mapping)\n",
    "\n",
    "# Check whether mapping was successful\n",
    "df_conv_power['state'].unique()"
   ]
  },
  {
   "cell_type": "code",
   "execution_count": 41,
   "id": "b2127e7b-4a04-407b-9c9e-0277ada31892",
   "metadata": {},
   "outputs": [
    {
     "data": {
      "text/html": [
       "<div>\n",
       "<style scoped>\n",
       "    .dataframe tbody tr th:only-of-type {\n",
       "        vertical-align: middle;\n",
       "    }\n",
       "\n",
       "    .dataframe tbody tr th {\n",
       "        vertical-align: top;\n",
       "    }\n",
       "\n",
       "    .dataframe thead th {\n",
       "        text-align: right;\n",
       "    }\n",
       "</style>\n",
       "<table border=\"1\" class=\"dataframe\">\n",
       "  <thead>\n",
       "    <tr style=\"text-align: right;\">\n",
       "      <th></th>\n",
       "      <th>name_bnetza</th>\n",
       "      <th>block_bnetza</th>\n",
       "      <th>state</th>\n",
       "      <th>country</th>\n",
       "      <th>capacity_net_bnetza</th>\n",
       "      <th>capacity_gross_uba</th>\n",
       "      <th>energy_source</th>\n",
       "      <th>technology</th>\n",
       "      <th>chp</th>\n",
       "      <th>chp_capacity_uba</th>\n",
       "      <th>...</th>\n",
       "      <th>commissioned_original</th>\n",
       "      <th>retrofit</th>\n",
       "      <th>shutdown</th>\n",
       "      <th>status</th>\n",
       "      <th>efficiency_data</th>\n",
       "      <th>efficiency_source</th>\n",
       "      <th>efficiency_estimate</th>\n",
       "      <th>energy_source_level_1</th>\n",
       "      <th>energy_source_level_2</th>\n",
       "      <th>energy_source_level_3</th>\n",
       "    </tr>\n",
       "  </thead>\n",
       "  <tbody>\n",
       "    <tr>\n",
       "      <th>0</th>\n",
       "      <td>Werkskraftwerk Sappi Alfeld</td>\n",
       "      <td>Turbine 5</td>\n",
       "      <td>Lower Saxony</td>\n",
       "      <td>DE</td>\n",
       "      <td>13.0</td>\n",
       "      <td>NaN</td>\n",
       "      <td>Biomass and biogas</td>\n",
       "      <td>Steam turbine</td>\n",
       "      <td>yes</td>\n",
       "      <td>NaN</td>\n",
       "      <td>...</td>\n",
       "      <td>23.07.2003</td>\n",
       "      <td>NaN</td>\n",
       "      <td>NaN</td>\n",
       "      <td>operating</td>\n",
       "      <td>NaN</td>\n",
       "      <td>NaN</td>\n",
       "      <td>0.38</td>\n",
       "      <td>Renewable energy</td>\n",
       "      <td>Bioenergy</td>\n",
       "      <td>Biomass and biogas</td>\n",
       "    </tr>\n",
       "    <tr>\n",
       "      <th>1</th>\n",
       "      <td>HKW Altenstadt</td>\n",
       "      <td>NaN</td>\n",
       "      <td>Bavaria</td>\n",
       "      <td>DE</td>\n",
       "      <td>9.8</td>\n",
       "      <td>NaN</td>\n",
       "      <td>Biomass and biogas</td>\n",
       "      <td>Steam turbine</td>\n",
       "      <td>no</td>\n",
       "      <td>NaN</td>\n",
       "      <td>...</td>\n",
       "      <td>01.10.1999</td>\n",
       "      <td>NaN</td>\n",
       "      <td>NaN</td>\n",
       "      <td>operating</td>\n",
       "      <td>NaN</td>\n",
       "      <td>NaN</td>\n",
       "      <td>0.38</td>\n",
       "      <td>Renewable energy</td>\n",
       "      <td>Bioenergy</td>\n",
       "      <td>Biomass and biogas</td>\n",
       "    </tr>\n",
       "    <tr>\n",
       "      <th>2</th>\n",
       "      <td>Zellstoff Stendal GmbH</td>\n",
       "      <td>-</td>\n",
       "      <td>Saxony-Anhalt</td>\n",
       "      <td>DE</td>\n",
       "      <td>138.9</td>\n",
       "      <td>147.0</td>\n",
       "      <td>Biomass and biogas</td>\n",
       "      <td>Steam turbine</td>\n",
       "      <td>yes</td>\n",
       "      <td>600</td>\n",
       "      <td>...</td>\n",
       "      <td>02.09.2004</td>\n",
       "      <td>NaN</td>\n",
       "      <td>NaN</td>\n",
       "      <td>operating</td>\n",
       "      <td>NaN</td>\n",
       "      <td>NaN</td>\n",
       "      <td>0.38</td>\n",
       "      <td>Renewable energy</td>\n",
       "      <td>Bioenergy</td>\n",
       "      <td>Biomass and biogas</td>\n",
       "    </tr>\n",
       "    <tr>\n",
       "      <th>3</th>\n",
       "      <td>UTB</td>\n",
       "      <td>NaN</td>\n",
       "      <td>Brandenburg</td>\n",
       "      <td>DE</td>\n",
       "      <td>16.0</td>\n",
       "      <td>NaN</td>\n",
       "      <td>Biomass and biogas</td>\n",
       "      <td>Steam turbine</td>\n",
       "      <td>yes</td>\n",
       "      <td>NaN</td>\n",
       "      <td>...</td>\n",
       "      <td>28.06.2002</td>\n",
       "      <td>NaN</td>\n",
       "      <td>NaN</td>\n",
       "      <td>operating</td>\n",
       "      <td>NaN</td>\n",
       "      <td>NaN</td>\n",
       "      <td>0.38</td>\n",
       "      <td>Renewable energy</td>\n",
       "      <td>Bioenergy</td>\n",
       "      <td>Biomass and biogas</td>\n",
       "    </tr>\n",
       "    <tr>\n",
       "      <th>4</th>\n",
       "      <td>BHW Beeskow</td>\n",
       "      <td>NaN</td>\n",
       "      <td>Brandenburg</td>\n",
       "      <td>DE</td>\n",
       "      <td>18.3</td>\n",
       "      <td>NaN</td>\n",
       "      <td>Biomass and biogas</td>\n",
       "      <td>Steam turbine</td>\n",
       "      <td>yes</td>\n",
       "      <td>NaN</td>\n",
       "      <td>...</td>\n",
       "      <td>2001</td>\n",
       "      <td>NaN</td>\n",
       "      <td>NaN</td>\n",
       "      <td>operating</td>\n",
       "      <td>NaN</td>\n",
       "      <td>NaN</td>\n",
       "      <td>0.38</td>\n",
       "      <td>Renewable energy</td>\n",
       "      <td>Bioenergy</td>\n",
       "      <td>Biomass and biogas</td>\n",
       "    </tr>\n",
       "  </tbody>\n",
       "</table>\n",
       "<p>5 rows × 21 columns</p>\n",
       "</div>"
      ],
      "text/plain": [
       "                   name_bnetza block_bnetza          state country  \\\n",
       "0  Werkskraftwerk Sappi Alfeld    Turbine 5   Lower Saxony      DE   \n",
       "1               HKW Altenstadt          NaN        Bavaria      DE   \n",
       "2       Zellstoff Stendal GmbH            -  Saxony-Anhalt      DE   \n",
       "3                          UTB          NaN    Brandenburg      DE   \n",
       "4                  BHW Beeskow          NaN    Brandenburg      DE   \n",
       "\n",
       "   capacity_net_bnetza  capacity_gross_uba       energy_source     technology  \\\n",
       "0                 13.0                 NaN  Biomass and biogas  Steam turbine   \n",
       "1                  9.8                 NaN  Biomass and biogas  Steam turbine   \n",
       "2                138.9               147.0  Biomass and biogas  Steam turbine   \n",
       "3                 16.0                 NaN  Biomass and biogas  Steam turbine   \n",
       "4                 18.3                 NaN  Biomass and biogas  Steam turbine   \n",
       "\n",
       "   chp chp_capacity_uba  ...  commissioned_original retrofit  shutdown  \\\n",
       "0  yes              NaN  ...             23.07.2003      NaN       NaN   \n",
       "1   no              NaN  ...             01.10.1999      NaN       NaN   \n",
       "2  yes              600  ...             02.09.2004      NaN       NaN   \n",
       "3  yes              NaN  ...             28.06.2002      NaN       NaN   \n",
       "4  yes              NaN  ...                   2001      NaN       NaN   \n",
       "\n",
       "      status efficiency_data  efficiency_source efficiency_estimate  \\\n",
       "0  operating             NaN                NaN                0.38   \n",
       "1  operating             NaN                NaN                0.38   \n",
       "2  operating             NaN                NaN                0.38   \n",
       "3  operating             NaN                NaN                0.38   \n",
       "4  operating             NaN                NaN                0.38   \n",
       "\n",
       "   energy_source_level_1 energy_source_level_2 energy_source_level_3  \n",
       "0       Renewable energy             Bioenergy    Biomass and biogas  \n",
       "1       Renewable energy             Bioenergy    Biomass and biogas  \n",
       "2       Renewable energy             Bioenergy    Biomass and biogas  \n",
       "3       Renewable energy             Bioenergy    Biomass and biogas  \n",
       "4       Renewable energy             Bioenergy    Biomass and biogas  \n",
       "\n",
       "[5 rows x 21 columns]"
      ]
     },
     "execution_count": 41,
     "metadata": {},
     "output_type": "execute_result"
    }
   ],
   "source": [
    "# Drop several columns which are not relevant for this analysis\n",
    "df_conv_power = df_conv_power.drop(['id', 'name_uba','street', 'postcode', 'lat', 'lon', 'eic_code_plant', 'eic_code_block', 'network_node','merge_comment', 'comment', 'city', 'company', 'eeg', 'network_operator', 'type', 'voltage'], axis = 1)\n",
    "df_conv_power.head()"
   ]
  },
  {
   "cell_type": "markdown",
   "id": "7028ddc4-8462-4660-92bb-11261cb1e9e0",
   "metadata": {},
   "source": [
    "#### Inspection and Cleansing of Columns 'energy_source_level_1-3' and 'energy_source'"
   ]
  },
  {
   "cell_type": "markdown",
   "id": "87f9e77f-8696-4e0a-ba75-c7930f667acb",
   "metadata": {},
   "source": [
    "The dataset includes multiple columns describing energy sources:\n",
    "'energy_source_level_1', 'energy_source_level_2', 'energy_source_level_3', and 'energy_source'. \n",
    "To ensure consistency, we first check for renewable entries and confirm which column is most useful to include into this analysis."
   ]
  },
  {
   "cell_type": "code",
   "execution_count": 42,
   "id": "415f00de-47ea-41d7-87ea-abba52d2e162",
   "metadata": {},
   "outputs": [
    {
     "data": {
      "text/plain": [
       "array(['Fossil fuels', 'Nuclear', 'Other',\n",
       "       'Other or unspecified energy sources', nan], dtype=object)"
      ]
     },
     "execution_count": 42,
     "metadata": {},
     "output_type": "execute_result"
    }
   ],
   "source": [
    "# Overview over column 'energy_source_level_1'\n",
    "df_conv_power['energy_source_level_1'].unique()\n",
    "# Surprisingly, the DataFrame (which is assumed to represent conventional power plants)\n",
    "# also contains entries labelled as 'Renewable energy'.\n",
    "\n",
    "# Count how many rows are classified as renewable energy.\n",
    "df_conv_power[df_conv_power['energy_source_level_1'] == 'Renewable energy'].count()\n",
    "\n",
    "# Remove entries labelled as 'Renewable energy'\n",
    "df_conv_power = df_conv_power[df_conv_power['energy_source_level_1'] != 'Renewable energy']\n",
    "# Check whether removal of entries labelled as 'Renewable energy' was successful\n",
    "df_conv_power['energy_source_level_1'].unique()"
   ]
  },
  {
   "cell_type": "code",
   "execution_count": 43,
   "id": "f92dc48e-8d91-4df7-9e2b-1cde931b0ae2",
   "metadata": {},
   "outputs": [
    {
     "data": {
      "text/plain": [
       "array(['Hard coal', 'Lignite', 'Natural gas', 'Nuclear', 'Oil',\n",
       "       'Other fuels', 'Waste', nan], dtype=object)"
      ]
     },
     "execution_count": 43,
     "metadata": {},
     "output_type": "execute_result"
    }
   ],
   "source": [
    "# Overview over column 'energy_source_level_2'\n",
    "df_conv_power['energy_source_level_2'].unique()\n",
    "# Apparently, the value 'Nuclear' is only present in the column 'energy_source_level_1' and a NaN value at 'energy_source_level_2'\n",
    "# To verify this, it is checked whether there are entries that have a value in 'energy_source_level_1' but none for 'energy_source_level_2'\n",
    "filtered_df = df_conv_power[df_conv_power['energy_source_level_1'].notna() & df_conv_power['energy_source_level_2'].isna()]\n",
    "filtered_df\n",
    "# Copy 'Nuclear' from 'energy_source_level_1' to 'energy_source_level_2' for all relevant rows\n",
    "df_conv_power.loc[df_conv_power['energy_source_level_1'] == 'Nuclear', 'energy_source_level_2'] = 'Nuclear'\n",
    "# Check whether copying of entries was successful\n",
    "df_conv_power['energy_source_level_2'].unique()"
   ]
  },
  {
   "cell_type": "code",
   "execution_count": 44,
   "id": "ee82263d-2c20-4bc4-8dc5-623e759ade49",
   "metadata": {},
   "outputs": [
    {
     "data": {
      "text/plain": [
       "array(['Hard coal', 'Lignite', 'Natural gas', 'Nuclear', 'Oil',\n",
       "       'Other fuels', 'Waste'], dtype=object)"
      ]
     },
     "execution_count": 44,
     "metadata": {},
     "output_type": "execute_result"
    }
   ],
   "source": [
    "df_conv_power['energy_source_level_2'].isnull().sum()\n",
    "# The column 'energy_source_level_2' contains 13 NaN values, which will be removed for further analysis\n",
    "df_conv_power = df_conv_power[df_conv_power['energy_source_level_2'].notnull()]\n",
    "# Check whether removal of NaN entries was successful\n",
    "df_conv_power['energy_source_level_2'].unique()"
   ]
  },
  {
   "cell_type": "code",
   "execution_count": 45,
   "id": "e54a75f3-1a8e-487f-bd8c-a712195a9622",
   "metadata": {},
   "outputs": [
    {
     "data": {
      "text/plain": [
       "array([nan], dtype=object)"
      ]
     },
     "execution_count": 45,
     "metadata": {},
     "output_type": "execute_result"
    }
   ],
   "source": [
    "# Overview over column 'energy_source_level_3'\n",
    "df_conv_power['energy_source_level_3'].unique()\n",
    "# The column 'energy_source_level_3' consists of NaN values only, so it will be ignored\n",
    "\n",
    "# All in all, the column 'energy_source_level_2' proves most useful of all three columns when \n",
    "# investigating energy sources. "
   ]
  },
  {
   "cell_type": "code",
   "execution_count": 46,
   "id": "5d4cad92-dcf4-4442-9922-349bb0acf92e",
   "metadata": {},
   "outputs": [
    {
     "data": {
      "text/html": [
       "<div>\n",
       "<style scoped>\n",
       "    .dataframe tbody tr th:only-of-type {\n",
       "        vertical-align: middle;\n",
       "    }\n",
       "\n",
       "    .dataframe tbody tr th {\n",
       "        vertical-align: top;\n",
       "    }\n",
       "\n",
       "    .dataframe thead th {\n",
       "        text-align: right;\n",
       "    }\n",
       "</style>\n",
       "<table border=\"1\" class=\"dataframe\">\n",
       "  <thead>\n",
       "    <tr style=\"text-align: right;\">\n",
       "      <th></th>\n",
       "      <th>name_bnetza</th>\n",
       "      <th>block_bnetza</th>\n",
       "      <th>state</th>\n",
       "      <th>country</th>\n",
       "      <th>capacity_net_bnetza</th>\n",
       "      <th>capacity_gross_uba</th>\n",
       "      <th>energy_source</th>\n",
       "      <th>technology</th>\n",
       "      <th>chp</th>\n",
       "      <th>chp_capacity_uba</th>\n",
       "      <th>commissioned</th>\n",
       "      <th>commissioned_original</th>\n",
       "      <th>retrofit</th>\n",
       "      <th>shutdown</th>\n",
       "      <th>status</th>\n",
       "      <th>efficiency_data</th>\n",
       "      <th>efficiency_source</th>\n",
       "      <th>efficiency_estimate</th>\n",
       "    </tr>\n",
       "  </thead>\n",
       "  <tbody>\n",
       "    <tr>\n",
       "      <th>46</th>\n",
       "      <td>Papierfabrik Albbruck</td>\n",
       "      <td>NaN</td>\n",
       "      <td>Baden-Wuerttemberg</td>\n",
       "      <td>DE</td>\n",
       "      <td>28.0</td>\n",
       "      <td>NaN</td>\n",
       "      <td>Hard coal</td>\n",
       "      <td>Steam turbine</td>\n",
       "      <td>yes</td>\n",
       "      <td>NaN</td>\n",
       "      <td>2009.0</td>\n",
       "      <td>2009</td>\n",
       "      <td>NaN</td>\n",
       "      <td>2012.0</td>\n",
       "      <td>shutdown</td>\n",
       "      <td>NaN</td>\n",
       "      <td>NaN</td>\n",
       "      <td>0.4475</td>\n",
       "    </tr>\n",
       "    <tr>\n",
       "      <th>47</th>\n",
       "      <td>Heizkraftwerk Altbach/Deizisau</td>\n",
       "      <td>ALT HKW 2 (DT Solobetrieb)</td>\n",
       "      <td>Baden-Wuerttemberg</td>\n",
       "      <td>DE</td>\n",
       "      <td>336.0</td>\n",
       "      <td>476.0</td>\n",
       "      <td>Hard coal</td>\n",
       "      <td>Steam turbine</td>\n",
       "      <td>yes</td>\n",
       "      <td>280</td>\n",
       "      <td>1997.0</td>\n",
       "      <td>01.01.1997</td>\n",
       "      <td>2006.0</td>\n",
       "      <td>NaN</td>\n",
       "      <td>operating</td>\n",
       "      <td>0.44</td>\n",
       "      <td>http://www.feuerwehr-oberboihingen.de/index.ph...</td>\n",
       "      <td>0.4400</td>\n",
       "    </tr>\n",
       "    <tr>\n",
       "      <th>48</th>\n",
       "      <td>Heizkraftwerk Altbach/Deizisau</td>\n",
       "      <td>ALT HKW 1</td>\n",
       "      <td>Baden-Wuerttemberg</td>\n",
       "      <td>DE</td>\n",
       "      <td>433.0</td>\n",
       "      <td>379.0</td>\n",
       "      <td>Hard coal</td>\n",
       "      <td>Steam turbine</td>\n",
       "      <td>yes</td>\n",
       "      <td>280</td>\n",
       "      <td>1985.0</td>\n",
       "      <td>01.01.1985</td>\n",
       "      <td>2012.0</td>\n",
       "      <td>NaN</td>\n",
       "      <td>operating</td>\n",
       "      <td>0.44</td>\n",
       "      <td>http://www.feuerwehr-oberboihingen.de/index.ph...</td>\n",
       "      <td>0.4550</td>\n",
       "    </tr>\n",
       "    <tr>\n",
       "      <th>49</th>\n",
       "      <td>Bergkamen</td>\n",
       "      <td>A</td>\n",
       "      <td>North Rhine-Westphalia</td>\n",
       "      <td>DE</td>\n",
       "      <td>717.0</td>\n",
       "      <td>780.0</td>\n",
       "      <td>Hard coal</td>\n",
       "      <td>Steam turbine</td>\n",
       "      <td>no</td>\n",
       "      <td>20</td>\n",
       "      <td>1981.0</td>\n",
       "      <td>02.07.1981</td>\n",
       "      <td>NaN</td>\n",
       "      <td>NaN</td>\n",
       "      <td>seasonal_conservation</td>\n",
       "      <td>NaN</td>\n",
       "      <td>NaN</td>\n",
       "      <td>0.3775</td>\n",
       "    </tr>\n",
       "    <tr>\n",
       "      <th>50</th>\n",
       "      <td>Reuter</td>\n",
       "      <td>Reuter C</td>\n",
       "      <td>Berlin</td>\n",
       "      <td>DE</td>\n",
       "      <td>124.0</td>\n",
       "      <td>NaN</td>\n",
       "      <td>Hard coal</td>\n",
       "      <td>Steam turbine</td>\n",
       "      <td>yes</td>\n",
       "      <td>NaN</td>\n",
       "      <td>1969.0</td>\n",
       "      <td>01.01.1969</td>\n",
       "      <td>NaN</td>\n",
       "      <td>2019.0</td>\n",
       "      <td>shutdown</td>\n",
       "      <td>NaN</td>\n",
       "      <td>NaN</td>\n",
       "      <td>0.3475</td>\n",
       "    </tr>\n",
       "  </tbody>\n",
       "</table>\n",
       "</div>"
      ],
      "text/plain": [
       "                       name_bnetza                block_bnetza  \\\n",
       "46           Papierfabrik Albbruck                         NaN   \n",
       "47  Heizkraftwerk Altbach/Deizisau  ALT HKW 2 (DT Solobetrieb)   \n",
       "48  Heizkraftwerk Altbach/Deizisau                   ALT HKW 1   \n",
       "49                       Bergkamen                           A   \n",
       "50                          Reuter                    Reuter C   \n",
       "\n",
       "                     state country  capacity_net_bnetza  capacity_gross_uba  \\\n",
       "46      Baden-Wuerttemberg      DE                 28.0                 NaN   \n",
       "47      Baden-Wuerttemberg      DE                336.0               476.0   \n",
       "48      Baden-Wuerttemberg      DE                433.0               379.0   \n",
       "49  North Rhine-Westphalia      DE                717.0               780.0   \n",
       "50                  Berlin      DE                124.0                 NaN   \n",
       "\n",
       "   energy_source     technology  chp chp_capacity_uba  commissioned  \\\n",
       "46     Hard coal  Steam turbine  yes              NaN        2009.0   \n",
       "47     Hard coal  Steam turbine  yes              280        1997.0   \n",
       "48     Hard coal  Steam turbine  yes              280        1985.0   \n",
       "49     Hard coal  Steam turbine   no               20        1981.0   \n",
       "50     Hard coal  Steam turbine  yes              NaN        1969.0   \n",
       "\n",
       "   commissioned_original  retrofit  shutdown                 status  \\\n",
       "46                  2009       NaN    2012.0               shutdown   \n",
       "47            01.01.1997    2006.0       NaN              operating   \n",
       "48            01.01.1985    2012.0       NaN              operating   \n",
       "49            02.07.1981       NaN       NaN  seasonal_conservation   \n",
       "50            01.01.1969       NaN    2019.0               shutdown   \n",
       "\n",
       "    efficiency_data                                  efficiency_source  \\\n",
       "46              NaN                                                NaN   \n",
       "47             0.44  http://www.feuerwehr-oberboihingen.de/index.ph...   \n",
       "48             0.44  http://www.feuerwehr-oberboihingen.de/index.ph...   \n",
       "49              NaN                                                NaN   \n",
       "50              NaN                                                NaN   \n",
       "\n",
       "    efficiency_estimate  \n",
       "46               0.4475  \n",
       "47               0.4400  \n",
       "48               0.4550  \n",
       "49               0.3775  \n",
       "50               0.3475  "
      ]
     },
     "execution_count": 46,
     "metadata": {},
     "output_type": "execute_result"
    }
   ],
   "source": [
    "#In addition to that, there is a column called 'energy_source'. In the following, it is checked whether the columns 'energy_source_level_2'\n",
    "# and 'energy_source' are identical\n",
    "(df_conv_power['energy_source_level_2'] == df_conv_power['energy_source']).all()\n",
    "# The two columns are identical. In the following analysis, the column 'energy_source' will be used, the other columns are dropped.\n",
    "# Drop redundant energy source columns\n",
    "df_conv_power = df_conv_power.drop(['energy_source_level_1',\n",
    "                                    'energy_source_level_2',\n",
    "                                    'energy_source_level_3'], axis=1)\n",
    "\n",
    "df_conv_power.head()\n"
   ]
  },
  {
   "cell_type": "markdown",
   "id": "9a5dab94-04f7-486b-9006-0f20078f236b",
   "metadata": {},
   "source": [
    "## 1.3 Data Analysis: Conventional Power Plants"
   ]
  },
  {
   "cell_type": "markdown",
   "id": "2d36ee2b-a2d3-4e51-a6cb-5f689b28b86e",
   "metadata": {},
   "source": [
    "### 1.3.1 Analysis of Conventional Energy Sources across the Federal States"
   ]
  },
  {
   "cell_type": "markdown",
   "id": "64b6033c-0c23-4def-8fb8-da40b3ebee77",
   "metadata": {},
   "source": [
    "This section explores the distribution of conventional power plants across Germany’s federal states and energy sources.\n",
    "The analysis examines: \n",
    "\n",
    "- the number of plants by state and energy source\n",
    "\n",
    "- the total installed net capacity\n",
    "\n",
    "- the average capacity per plant by energy source\n",
    "\n",
    "Only active (non-shutdown) power plants are considered."
   ]
  },
  {
   "cell_type": "code",
   "execution_count": 47,
   "id": "7c273c7c-0f61-4555-926e-a473beee32e6",
   "metadata": {},
   "outputs": [
    {
     "data": {
      "text/html": [
       "<div>\n",
       "<style scoped>\n",
       "    .dataframe tbody tr th:only-of-type {\n",
       "        vertical-align: middle;\n",
       "    }\n",
       "\n",
       "    .dataframe tbody tr th {\n",
       "        vertical-align: top;\n",
       "    }\n",
       "\n",
       "    .dataframe thead th {\n",
       "        text-align: right;\n",
       "    }\n",
       "</style>\n",
       "<table border=\"1\" class=\"dataframe\">\n",
       "  <thead>\n",
       "    <tr style=\"text-align: right;\">\n",
       "      <th></th>\n",
       "      <th>state</th>\n",
       "      <th>number_of_plants</th>\n",
       "    </tr>\n",
       "  </thead>\n",
       "  <tbody>\n",
       "    <tr>\n",
       "      <th>0</th>\n",
       "      <td>North Rhine-Westphalia</td>\n",
       "      <td>216</td>\n",
       "    </tr>\n",
       "    <tr>\n",
       "      <th>1</th>\n",
       "      <td>Bavaria</td>\n",
       "      <td>94</td>\n",
       "    </tr>\n",
       "    <tr>\n",
       "      <th>2</th>\n",
       "      <td>Baden-Wuerttemberg</td>\n",
       "      <td>67</td>\n",
       "    </tr>\n",
       "    <tr>\n",
       "      <th>3</th>\n",
       "      <td>Lower Saxony</td>\n",
       "      <td>51</td>\n",
       "    </tr>\n",
       "    <tr>\n",
       "      <th>4</th>\n",
       "      <td>Brandenburg</td>\n",
       "      <td>40</td>\n",
       "    </tr>\n",
       "    <tr>\n",
       "      <th>5</th>\n",
       "      <td>Saxony-Anhalt</td>\n",
       "      <td>39</td>\n",
       "    </tr>\n",
       "    <tr>\n",
       "      <th>6</th>\n",
       "      <td>Hesse</td>\n",
       "      <td>37</td>\n",
       "    </tr>\n",
       "    <tr>\n",
       "      <th>7</th>\n",
       "      <td>Schleswig-Holstein</td>\n",
       "      <td>26</td>\n",
       "    </tr>\n",
       "    <tr>\n",
       "      <th>8</th>\n",
       "      <td>Rhineland-Palatinate</td>\n",
       "      <td>23</td>\n",
       "    </tr>\n",
       "    <tr>\n",
       "      <th>9</th>\n",
       "      <td>Saxony</td>\n",
       "      <td>20</td>\n",
       "    </tr>\n",
       "    <tr>\n",
       "      <th>10</th>\n",
       "      <td>Berlin</td>\n",
       "      <td>17</td>\n",
       "    </tr>\n",
       "    <tr>\n",
       "      <th>11</th>\n",
       "      <td>Saarland</td>\n",
       "      <td>17</td>\n",
       "    </tr>\n",
       "    <tr>\n",
       "      <th>12</th>\n",
       "      <td>Thuringia</td>\n",
       "      <td>14</td>\n",
       "    </tr>\n",
       "    <tr>\n",
       "      <th>13</th>\n",
       "      <td>Bremen</td>\n",
       "      <td>14</td>\n",
       "    </tr>\n",
       "    <tr>\n",
       "      <th>14</th>\n",
       "      <td>Mecklenburg-Western Pomerania</td>\n",
       "      <td>10</td>\n",
       "    </tr>\n",
       "    <tr>\n",
       "      <th>15</th>\n",
       "      <td>Hamburg</td>\n",
       "      <td>7</td>\n",
       "    </tr>\n",
       "  </tbody>\n",
       "</table>\n",
       "</div>"
      ],
      "text/plain": [
       "                            state  number_of_plants\n",
       "0          North Rhine-Westphalia               216\n",
       "1                         Bavaria                94\n",
       "2              Baden-Wuerttemberg                67\n",
       "3                    Lower Saxony                51\n",
       "4                     Brandenburg                40\n",
       "5                   Saxony-Anhalt                39\n",
       "6                           Hesse                37\n",
       "7              Schleswig-Holstein                26\n",
       "8            Rhineland-Palatinate                23\n",
       "9                          Saxony                20\n",
       "10                         Berlin                17\n",
       "11                       Saarland                17\n",
       "12                      Thuringia                14\n",
       "13                         Bremen                14\n",
       "14  Mecklenburg-Western Pomerania                10\n",
       "15                        Hamburg                 7"
      ]
     },
     "execution_count": 47,
     "metadata": {},
     "output_type": "execute_result"
    }
   ],
   "source": [
    "# Count total number of power plants per state\n",
    "df_conv_power.columns\n",
    "conv_total_plants_state = (\n",
    "    df_conv_power.groupby('state')\n",
    "    .agg({'name_bnetza':'count'})\n",
    "    .sort_values(by = 'name_bnetza', ascending = False)\n",
    "    .rename(columns = {'name_bnetza': 'number_of_plants'})\n",
    "    ).reset_index()\n",
    "\n",
    "conv_total_plants_state"
   ]
  },
  {
   "cell_type": "markdown",
   "id": "35d6c3cc-41c0-4b3d-a092-06ffa4ac225a",
   "metadata": {},
   "source": [
    "The distribution of conventional power plants across German federal states is highly uneven. North Rhine-Westphalia\t has by far the largest number of plants (216), followed by Bavaria (94) and Baden-Wuerttemberg (67). Smaller states such as Hamburg, Mecklenburg-Western Pomerania, and Thuringia host only a handful of plants, reflecting regional differences in industrial infrastructure and energy production capacity."
   ]
  },
  {
   "cell_type": "code",
   "execution_count": 48,
   "id": "83287328-10fc-4348-97e1-edb5e61b4fcb",
   "metadata": {},
   "outputs": [
    {
     "data": {
      "text/html": [
       "<div>\n",
       "<style scoped>\n",
       "    .dataframe tbody tr th:only-of-type {\n",
       "        vertical-align: middle;\n",
       "    }\n",
       "\n",
       "    .dataframe tbody tr th {\n",
       "        vertical-align: top;\n",
       "    }\n",
       "\n",
       "    .dataframe thead th {\n",
       "        text-align: right;\n",
       "    }\n",
       "</style>\n",
       "<table border=\"1\" class=\"dataframe\">\n",
       "  <thead>\n",
       "    <tr style=\"text-align: right;\">\n",
       "      <th></th>\n",
       "      <th>state</th>\n",
       "      <th>energy_source</th>\n",
       "      <th>number_of_plants</th>\n",
       "    </tr>\n",
       "  </thead>\n",
       "  <tbody>\n",
       "    <tr>\n",
       "      <th>47</th>\n",
       "      <td>North Rhine-Westphalia</td>\n",
       "      <td>Natural gas</td>\n",
       "      <td>62</td>\n",
       "    </tr>\n",
       "    <tr>\n",
       "      <th>6</th>\n",
       "      <td>Bavaria</td>\n",
       "      <td>Natural gas</td>\n",
       "      <td>51</td>\n",
       "    </tr>\n",
       "    <tr>\n",
       "      <th>46</th>\n",
       "      <td>North Rhine-Westphalia</td>\n",
       "      <td>Lignite</td>\n",
       "      <td>33</td>\n",
       "    </tr>\n",
       "    <tr>\n",
       "      <th>36</th>\n",
       "      <td>Lower Saxony</td>\n",
       "      <td>Natural gas</td>\n",
       "      <td>28</td>\n",
       "    </tr>\n",
       "    <tr>\n",
       "      <th>50</th>\n",
       "      <td>North Rhine-Westphalia</td>\n",
       "      <td>Waste</td>\n",
       "      <td>22</td>\n",
       "    </tr>\n",
       "    <tr>\n",
       "      <th>1</th>\n",
       "      <td>Baden-Wuerttemberg</td>\n",
       "      <td>Natural gas</td>\n",
       "      <td>22</td>\n",
       "    </tr>\n",
       "    <tr>\n",
       "      <th>30</th>\n",
       "      <td>Hesse</td>\n",
       "      <td>Natural gas</td>\n",
       "      <td>19</td>\n",
       "    </tr>\n",
       "    <tr>\n",
       "      <th>49</th>\n",
       "      <td>North Rhine-Westphalia</td>\n",
       "      <td>Other fuels</td>\n",
       "      <td>19</td>\n",
       "    </tr>\n",
       "    <tr>\n",
       "      <th>45</th>\n",
       "      <td>North Rhine-Westphalia</td>\n",
       "      <td>Hard coal</td>\n",
       "      <td>18</td>\n",
       "    </tr>\n",
       "    <tr>\n",
       "      <th>64</th>\n",
       "      <td>Saxony-Anhalt</td>\n",
       "      <td>Natural gas</td>\n",
       "      <td>17</td>\n",
       "    </tr>\n",
       "    <tr>\n",
       "      <th>0</th>\n",
       "      <td>Baden-Wuerttemberg</td>\n",
       "      <td>Hard coal</td>\n",
       "      <td>17</td>\n",
       "    </tr>\n",
       "    <tr>\n",
       "      <th>52</th>\n",
       "      <td>Rhineland-Palatinate</td>\n",
       "      <td>Natural gas</td>\n",
       "      <td>15</td>\n",
       "    </tr>\n",
       "    <tr>\n",
       "      <th>16</th>\n",
       "      <td>Brandenburg</td>\n",
       "      <td>Natural gas</td>\n",
       "      <td>14</td>\n",
       "    </tr>\n",
       "    <tr>\n",
       "      <th>8</th>\n",
       "      <td>Bavaria</td>\n",
       "      <td>Oil</td>\n",
       "      <td>13</td>\n",
       "    </tr>\n",
       "    <tr>\n",
       "      <th>74</th>\n",
       "      <td>Thuringia</td>\n",
       "      <td>Natural gas</td>\n",
       "      <td>11</td>\n",
       "    </tr>\n",
       "    <tr>\n",
       "      <th>34</th>\n",
       "      <td>Lower Saxony</td>\n",
       "      <td>Hard coal</td>\n",
       "      <td>11</td>\n",
       "    </tr>\n",
       "    <tr>\n",
       "      <th>10</th>\n",
       "      <td>Bavaria</td>\n",
       "      <td>Waste</td>\n",
       "      <td>11</td>\n",
       "    </tr>\n",
       "    <tr>\n",
       "      <th>15</th>\n",
       "      <td>Brandenburg</td>\n",
       "      <td>Lignite</td>\n",
       "      <td>9</td>\n",
       "    </tr>\n",
       "    <tr>\n",
       "      <th>3</th>\n",
       "      <td>Baden-Wuerttemberg</td>\n",
       "      <td>Oil</td>\n",
       "      <td>9</td>\n",
       "    </tr>\n",
       "    <tr>\n",
       "      <th>60</th>\n",
       "      <td>Saxony</td>\n",
       "      <td>Natural gas</td>\n",
       "      <td>9</td>\n",
       "    </tr>\n",
       "    <tr>\n",
       "      <th>67</th>\n",
       "      <td>Saxony-Anhalt</td>\n",
       "      <td>Waste</td>\n",
       "      <td>8</td>\n",
       "    </tr>\n",
       "    <tr>\n",
       "      <th>4</th>\n",
       "      <td>Baden-Wuerttemberg</td>\n",
       "      <td>Waste</td>\n",
       "      <td>8</td>\n",
       "    </tr>\n",
       "    <tr>\n",
       "      <th>59</th>\n",
       "      <td>Saxony</td>\n",
       "      <td>Lignite</td>\n",
       "      <td>8</td>\n",
       "    </tr>\n",
       "    <tr>\n",
       "      <th>63</th>\n",
       "      <td>Saxony-Anhalt</td>\n",
       "      <td>Lignite</td>\n",
       "      <td>7</td>\n",
       "    </tr>\n",
       "    <tr>\n",
       "      <th>48</th>\n",
       "      <td>North Rhine-Westphalia</td>\n",
       "      <td>Oil</td>\n",
       "      <td>7</td>\n",
       "    </tr>\n",
       "    <tr>\n",
       "      <th>42</th>\n",
       "      <td>Mecklenburg-Western Pomerania</td>\n",
       "      <td>Natural gas</td>\n",
       "      <td>7</td>\n",
       "    </tr>\n",
       "    <tr>\n",
       "      <th>19</th>\n",
       "      <td>Brandenburg</td>\n",
       "      <td>Waste</td>\n",
       "      <td>6</td>\n",
       "    </tr>\n",
       "    <tr>\n",
       "      <th>54</th>\n",
       "      <td>Rhineland-Palatinate</td>\n",
       "      <td>Waste</td>\n",
       "      <td>5</td>\n",
       "    </tr>\n",
       "    <tr>\n",
       "      <th>17</th>\n",
       "      <td>Brandenburg</td>\n",
       "      <td>Oil</td>\n",
       "      <td>5</td>\n",
       "    </tr>\n",
       "    <tr>\n",
       "      <th>33</th>\n",
       "      <td>Hesse</td>\n",
       "      <td>Waste</td>\n",
       "      <td>5</td>\n",
       "    </tr>\n",
       "    <tr>\n",
       "      <th>28</th>\n",
       "      <td>Hesse</td>\n",
       "      <td>Hard coal</td>\n",
       "      <td>5</td>\n",
       "    </tr>\n",
       "    <tr>\n",
       "      <th>12</th>\n",
       "      <td>Berlin</td>\n",
       "      <td>Natural gas</td>\n",
       "      <td>5</td>\n",
       "    </tr>\n",
       "    <tr>\n",
       "      <th>55</th>\n",
       "      <td>Saarland</td>\n",
       "      <td>Hard coal</td>\n",
       "      <td>5</td>\n",
       "    </tr>\n",
       "    <tr>\n",
       "      <th>68</th>\n",
       "      <td>Schleswig-Holstein</td>\n",
       "      <td>Hard coal</td>\n",
       "      <td>5</td>\n",
       "    </tr>\n",
       "    <tr>\n",
       "      <th>5</th>\n",
       "      <td>Bavaria</td>\n",
       "      <td>Hard coal</td>\n",
       "      <td>4</td>\n",
       "    </tr>\n",
       "    <tr>\n",
       "      <th>56</th>\n",
       "      <td>Saarland</td>\n",
       "      <td>Natural gas</td>\n",
       "      <td>4</td>\n",
       "    </tr>\n",
       "    <tr>\n",
       "      <th>71</th>\n",
       "      <td>Schleswig-Holstein</td>\n",
       "      <td>Oil</td>\n",
       "      <td>4</td>\n",
       "    </tr>\n",
       "    <tr>\n",
       "      <th>69</th>\n",
       "      <td>Schleswig-Holstein</td>\n",
       "      <td>Natural gas</td>\n",
       "      <td>4</td>\n",
       "    </tr>\n",
       "    <tr>\n",
       "      <th>57</th>\n",
       "      <td>Saarland</td>\n",
       "      <td>Other fuels</td>\n",
       "      <td>4</td>\n",
       "    </tr>\n",
       "    <tr>\n",
       "      <th>11</th>\n",
       "      <td>Berlin</td>\n",
       "      <td>Hard coal</td>\n",
       "      <td>3</td>\n",
       "    </tr>\n",
       "    <tr>\n",
       "      <th>20</th>\n",
       "      <td>Bremen</td>\n",
       "      <td>Hard coal</td>\n",
       "      <td>3</td>\n",
       "    </tr>\n",
       "    <tr>\n",
       "      <th>24</th>\n",
       "      <td>Bremen</td>\n",
       "      <td>Waste</td>\n",
       "      <td>3</td>\n",
       "    </tr>\n",
       "    <tr>\n",
       "      <th>9</th>\n",
       "      <td>Bavaria</td>\n",
       "      <td>Other fuels</td>\n",
       "      <td>3</td>\n",
       "    </tr>\n",
       "    <tr>\n",
       "      <th>39</th>\n",
       "      <td>Lower Saxony</td>\n",
       "      <td>Other fuels</td>\n",
       "      <td>3</td>\n",
       "    </tr>\n",
       "    <tr>\n",
       "      <th>72</th>\n",
       "      <td>Schleswig-Holstein</td>\n",
       "      <td>Other fuels</td>\n",
       "      <td>3</td>\n",
       "    </tr>\n",
       "    <tr>\n",
       "      <th>66</th>\n",
       "      <td>Saxony-Anhalt</td>\n",
       "      <td>Other fuels</td>\n",
       "      <td>3</td>\n",
       "    </tr>\n",
       "    <tr>\n",
       "      <th>18</th>\n",
       "      <td>Brandenburg</td>\n",
       "      <td>Other fuels</td>\n",
       "      <td>3</td>\n",
       "    </tr>\n",
       "    <tr>\n",
       "      <th>25</th>\n",
       "      <td>Hamburg</td>\n",
       "      <td>Hard coal</td>\n",
       "      <td>3</td>\n",
       "    </tr>\n",
       "    <tr>\n",
       "      <th>40</th>\n",
       "      <td>Lower Saxony</td>\n",
       "      <td>Waste</td>\n",
       "      <td>3</td>\n",
       "    </tr>\n",
       "    <tr>\n",
       "      <th>7</th>\n",
       "      <td>Bavaria</td>\n",
       "      <td>Nuclear</td>\n",
       "      <td>2</td>\n",
       "    </tr>\n",
       "    <tr>\n",
       "      <th>65</th>\n",
       "      <td>Saxony-Anhalt</td>\n",
       "      <td>Oil</td>\n",
       "      <td>2</td>\n",
       "    </tr>\n",
       "    <tr>\n",
       "      <th>58</th>\n",
       "      <td>Saarland</td>\n",
       "      <td>Waste</td>\n",
       "      <td>2</td>\n",
       "    </tr>\n",
       "    <tr>\n",
       "      <th>26</th>\n",
       "      <td>Hamburg</td>\n",
       "      <td>Natural gas</td>\n",
       "      <td>2</td>\n",
       "    </tr>\n",
       "    <tr>\n",
       "      <th>13</th>\n",
       "      <td>Berlin</td>\n",
       "      <td>Oil</td>\n",
       "      <td>2</td>\n",
       "    </tr>\n",
       "    <tr>\n",
       "      <th>23</th>\n",
       "      <td>Bremen</td>\n",
       "      <td>Other fuels</td>\n",
       "      <td>2</td>\n",
       "    </tr>\n",
       "    <tr>\n",
       "      <th>21</th>\n",
       "      <td>Bremen</td>\n",
       "      <td>Natural gas</td>\n",
       "      <td>2</td>\n",
       "    </tr>\n",
       "    <tr>\n",
       "      <th>37</th>\n",
       "      <td>Lower Saxony</td>\n",
       "      <td>Nuclear</td>\n",
       "      <td>2</td>\n",
       "    </tr>\n",
       "    <tr>\n",
       "      <th>53</th>\n",
       "      <td>Rhineland-Palatinate</td>\n",
       "      <td>Other fuels</td>\n",
       "      <td>2</td>\n",
       "    </tr>\n",
       "    <tr>\n",
       "      <th>2</th>\n",
       "      <td>Baden-Wuerttemberg</td>\n",
       "      <td>Nuclear</td>\n",
       "      <td>1</td>\n",
       "    </tr>\n",
       "    <tr>\n",
       "      <th>14</th>\n",
       "      <td>Berlin</td>\n",
       "      <td>Waste</td>\n",
       "      <td>1</td>\n",
       "    </tr>\n",
       "    <tr>\n",
       "      <th>43</th>\n",
       "      <td>Mecklenburg-Western Pomerania</td>\n",
       "      <td>Other fuels</td>\n",
       "      <td>1</td>\n",
       "    </tr>\n",
       "    <tr>\n",
       "      <th>41</th>\n",
       "      <td>Mecklenburg-Western Pomerania</td>\n",
       "      <td>Hard coal</td>\n",
       "      <td>1</td>\n",
       "    </tr>\n",
       "    <tr>\n",
       "      <th>38</th>\n",
       "      <td>Lower Saxony</td>\n",
       "      <td>Oil</td>\n",
       "      <td>1</td>\n",
       "    </tr>\n",
       "    <tr>\n",
       "      <th>35</th>\n",
       "      <td>Lower Saxony</td>\n",
       "      <td>Lignite</td>\n",
       "      <td>1</td>\n",
       "    </tr>\n",
       "    <tr>\n",
       "      <th>31</th>\n",
       "      <td>Hesse</td>\n",
       "      <td>Oil</td>\n",
       "      <td>1</td>\n",
       "    </tr>\n",
       "    <tr>\n",
       "      <th>29</th>\n",
       "      <td>Hesse</td>\n",
       "      <td>Lignite</td>\n",
       "      <td>1</td>\n",
       "    </tr>\n",
       "    <tr>\n",
       "      <th>32</th>\n",
       "      <td>Hesse</td>\n",
       "      <td>Other fuels</td>\n",
       "      <td>1</td>\n",
       "    </tr>\n",
       "    <tr>\n",
       "      <th>27</th>\n",
       "      <td>Hamburg</td>\n",
       "      <td>Waste</td>\n",
       "      <td>1</td>\n",
       "    </tr>\n",
       "    <tr>\n",
       "      <th>22</th>\n",
       "      <td>Bremen</td>\n",
       "      <td>Oil</td>\n",
       "      <td>1</td>\n",
       "    </tr>\n",
       "    <tr>\n",
       "      <th>51</th>\n",
       "      <td>Rhineland-Palatinate</td>\n",
       "      <td>Hard coal</td>\n",
       "      <td>1</td>\n",
       "    </tr>\n",
       "    <tr>\n",
       "      <th>44</th>\n",
       "      <td>Mecklenburg-Western Pomerania</td>\n",
       "      <td>Waste</td>\n",
       "      <td>1</td>\n",
       "    </tr>\n",
       "    <tr>\n",
       "      <th>62</th>\n",
       "      <td>Saxony</td>\n",
       "      <td>Waste</td>\n",
       "      <td>1</td>\n",
       "    </tr>\n",
       "    <tr>\n",
       "      <th>61</th>\n",
       "      <td>Saxony</td>\n",
       "      <td>Oil</td>\n",
       "      <td>1</td>\n",
       "    </tr>\n",
       "    <tr>\n",
       "      <th>70</th>\n",
       "      <td>Schleswig-Holstein</td>\n",
       "      <td>Nuclear</td>\n",
       "      <td>1</td>\n",
       "    </tr>\n",
       "    <tr>\n",
       "      <th>73</th>\n",
       "      <td>Schleswig-Holstein</td>\n",
       "      <td>Waste</td>\n",
       "      <td>1</td>\n",
       "    </tr>\n",
       "    <tr>\n",
       "      <th>75</th>\n",
       "      <td>Thuringia</td>\n",
       "      <td>Waste</td>\n",
       "      <td>1</td>\n",
       "    </tr>\n",
       "  </tbody>\n",
       "</table>\n",
       "</div>"
      ],
      "text/plain": [
       "                            state energy_source  number_of_plants\n",
       "47         North Rhine-Westphalia   Natural gas                62\n",
       "6                         Bavaria   Natural gas                51\n",
       "46         North Rhine-Westphalia       Lignite                33\n",
       "36                   Lower Saxony   Natural gas                28\n",
       "50         North Rhine-Westphalia         Waste                22\n",
       "1              Baden-Wuerttemberg   Natural gas                22\n",
       "30                          Hesse   Natural gas                19\n",
       "49         North Rhine-Westphalia   Other fuels                19\n",
       "45         North Rhine-Westphalia     Hard coal                18\n",
       "64                  Saxony-Anhalt   Natural gas                17\n",
       "0              Baden-Wuerttemberg     Hard coal                17\n",
       "52           Rhineland-Palatinate   Natural gas                15\n",
       "16                    Brandenburg   Natural gas                14\n",
       "8                         Bavaria           Oil                13\n",
       "74                      Thuringia   Natural gas                11\n",
       "34                   Lower Saxony     Hard coal                11\n",
       "10                        Bavaria         Waste                11\n",
       "15                    Brandenburg       Lignite                 9\n",
       "3              Baden-Wuerttemberg           Oil                 9\n",
       "60                         Saxony   Natural gas                 9\n",
       "67                  Saxony-Anhalt         Waste                 8\n",
       "4              Baden-Wuerttemberg         Waste                 8\n",
       "59                         Saxony       Lignite                 8\n",
       "63                  Saxony-Anhalt       Lignite                 7\n",
       "48         North Rhine-Westphalia           Oil                 7\n",
       "42  Mecklenburg-Western Pomerania   Natural gas                 7\n",
       "19                    Brandenburg         Waste                 6\n",
       "54           Rhineland-Palatinate         Waste                 5\n",
       "17                    Brandenburg           Oil                 5\n",
       "33                          Hesse         Waste                 5\n",
       "28                          Hesse     Hard coal                 5\n",
       "12                         Berlin   Natural gas                 5\n",
       "55                       Saarland     Hard coal                 5\n",
       "68             Schleswig-Holstein     Hard coal                 5\n",
       "5                         Bavaria     Hard coal                 4\n",
       "56                       Saarland   Natural gas                 4\n",
       "71             Schleswig-Holstein           Oil                 4\n",
       "69             Schleswig-Holstein   Natural gas                 4\n",
       "57                       Saarland   Other fuels                 4\n",
       "11                         Berlin     Hard coal                 3\n",
       "20                         Bremen     Hard coal                 3\n",
       "24                         Bremen         Waste                 3\n",
       "9                         Bavaria   Other fuels                 3\n",
       "39                   Lower Saxony   Other fuels                 3\n",
       "72             Schleswig-Holstein   Other fuels                 3\n",
       "66                  Saxony-Anhalt   Other fuels                 3\n",
       "18                    Brandenburg   Other fuels                 3\n",
       "25                        Hamburg     Hard coal                 3\n",
       "40                   Lower Saxony         Waste                 3\n",
       "7                         Bavaria       Nuclear                 2\n",
       "65                  Saxony-Anhalt           Oil                 2\n",
       "58                       Saarland         Waste                 2\n",
       "26                        Hamburg   Natural gas                 2\n",
       "13                         Berlin           Oil                 2\n",
       "23                         Bremen   Other fuels                 2\n",
       "21                         Bremen   Natural gas                 2\n",
       "37                   Lower Saxony       Nuclear                 2\n",
       "53           Rhineland-Palatinate   Other fuels                 2\n",
       "2              Baden-Wuerttemberg       Nuclear                 1\n",
       "14                         Berlin         Waste                 1\n",
       "43  Mecklenburg-Western Pomerania   Other fuels                 1\n",
       "41  Mecklenburg-Western Pomerania     Hard coal                 1\n",
       "38                   Lower Saxony           Oil                 1\n",
       "35                   Lower Saxony       Lignite                 1\n",
       "31                          Hesse           Oil                 1\n",
       "29                          Hesse       Lignite                 1\n",
       "32                          Hesse   Other fuels                 1\n",
       "27                        Hamburg         Waste                 1\n",
       "22                         Bremen           Oil                 1\n",
       "51           Rhineland-Palatinate     Hard coal                 1\n",
       "44  Mecklenburg-Western Pomerania         Waste                 1\n",
       "62                         Saxony         Waste                 1\n",
       "61                         Saxony           Oil                 1\n",
       "70             Schleswig-Holstein       Nuclear                 1\n",
       "73             Schleswig-Holstein         Waste                 1\n",
       "75                      Thuringia         Waste                 1"
      ]
     },
     "execution_count": 48,
     "metadata": {},
     "output_type": "execute_result"
    }
   ],
   "source": [
    "# Investigate which energy source is most prevalent in which federal state by number of active plants\n",
    "\n",
    "# Include only active power plants\n",
    "active_conv_plants = df_conv_power[df_conv_power['shutdown'].isna()]\n",
    "\n",
    "conv_number_plants_states_sources = (\n",
    "    active_conv_plants\n",
    "    .groupby(['state', 'energy_source'])\n",
    "    .size()\n",
    "    .reset_index(name='number_of_plants')\n",
    "    .sort_values(by='number_of_plants', ascending=False)\n",
    ")\n",
    "conv_number_plants_states_sources"
   ]
  },
  {
   "cell_type": "markdown",
   "id": "de30484f-e767-420b-ba69-4750731eea23",
   "metadata": {},
   "source": [
    "Natural gas is the most common energy source across most states, particularly in North Rhine-Westphalia and Bavaria. Lignite and hard coal also appear frequently, especially in North Rhine-Westphalia. Smaller numbers of plants use oil, waste, or other fuels, highlighting the diversity of conventional energy sources across federal states."
   ]
  },
  {
   "cell_type": "code",
   "execution_count": 49,
   "id": "b9ed6d1b-3752-423d-a1fb-7394c7f66277",
   "metadata": {},
   "outputs": [
    {
     "data": {
      "text/html": [
       "<div>\n",
       "<style scoped>\n",
       "    .dataframe tbody tr th:only-of-type {\n",
       "        vertical-align: middle;\n",
       "    }\n",
       "\n",
       "    .dataframe tbody tr th {\n",
       "        vertical-align: top;\n",
       "    }\n",
       "\n",
       "    .dataframe thead th {\n",
       "        text-align: right;\n",
       "    }\n",
       "</style>\n",
       "<table border=\"1\" class=\"dataframe\">\n",
       "  <thead>\n",
       "    <tr style=\"text-align: right;\">\n",
       "      <th></th>\n",
       "      <th>state</th>\n",
       "      <th>energy_source</th>\n",
       "      <th>total_net_capacity</th>\n",
       "    </tr>\n",
       "  </thead>\n",
       "  <tbody>\n",
       "    <tr>\n",
       "      <th>0</th>\n",
       "      <td>Baden-Wuerttemberg</td>\n",
       "      <td>Hard coal</td>\n",
       "      <td>5487</td>\n",
       "    </tr>\n",
       "    <tr>\n",
       "      <th>1</th>\n",
       "      <td>Baden-Wuerttemberg</td>\n",
       "      <td>Natural gas</td>\n",
       "      <td>1029</td>\n",
       "    </tr>\n",
       "    <tr>\n",
       "      <th>2</th>\n",
       "      <td>Baden-Wuerttemberg</td>\n",
       "      <td>Nuclear</td>\n",
       "      <td>1310</td>\n",
       "    </tr>\n",
       "    <tr>\n",
       "      <th>3</th>\n",
       "      <td>Baden-Wuerttemberg</td>\n",
       "      <td>Oil</td>\n",
       "      <td>701</td>\n",
       "    </tr>\n",
       "    <tr>\n",
       "      <th>4</th>\n",
       "      <td>Baden-Wuerttemberg</td>\n",
       "      <td>Waste</td>\n",
       "      <td>93</td>\n",
       "    </tr>\n",
       "    <tr>\n",
       "      <th>5</th>\n",
       "      <td>Bavaria</td>\n",
       "      <td>Hard coal</td>\n",
       "      <td>846</td>\n",
       "    </tr>\n",
       "    <tr>\n",
       "      <th>6</th>\n",
       "      <td>Bavaria</td>\n",
       "      <td>Natural gas</td>\n",
       "      <td>4195</td>\n",
       "    </tr>\n",
       "    <tr>\n",
       "      <th>7</th>\n",
       "      <td>Bavaria</td>\n",
       "      <td>Nuclear</td>\n",
       "      <td>2698</td>\n",
       "    </tr>\n",
       "    <tr>\n",
       "      <th>8</th>\n",
       "      <td>Bavaria</td>\n",
       "      <td>Oil</td>\n",
       "      <td>1388</td>\n",
       "    </tr>\n",
       "    <tr>\n",
       "      <th>9</th>\n",
       "      <td>Bavaria</td>\n",
       "      <td>Other fuels</td>\n",
       "      <td>34</td>\n",
       "    </tr>\n",
       "    <tr>\n",
       "      <th>10</th>\n",
       "      <td>Bavaria</td>\n",
       "      <td>Waste</td>\n",
       "      <td>214</td>\n",
       "    </tr>\n",
       "    <tr>\n",
       "      <th>11</th>\n",
       "      <td>Berlin</td>\n",
       "      <td>Hard coal</td>\n",
       "      <td>653</td>\n",
       "    </tr>\n",
       "    <tr>\n",
       "      <th>12</th>\n",
       "      <td>Berlin</td>\n",
       "      <td>Natural gas</td>\n",
       "      <td>1056</td>\n",
       "    </tr>\n",
       "    <tr>\n",
       "      <th>13</th>\n",
       "      <td>Berlin</td>\n",
       "      <td>Oil</td>\n",
       "      <td>218</td>\n",
       "    </tr>\n",
       "    <tr>\n",
       "      <th>14</th>\n",
       "      <td>Berlin</td>\n",
       "      <td>Waste</td>\n",
       "      <td>36</td>\n",
       "    </tr>\n",
       "    <tr>\n",
       "      <th>15</th>\n",
       "      <td>Brandenburg</td>\n",
       "      <td>Lignite</td>\n",
       "      <td>4364</td>\n",
       "    </tr>\n",
       "    <tr>\n",
       "      <th>16</th>\n",
       "      <td>Brandenburg</td>\n",
       "      <td>Natural gas</td>\n",
       "      <td>781</td>\n",
       "    </tr>\n",
       "    <tr>\n",
       "      <th>17</th>\n",
       "      <td>Brandenburg</td>\n",
       "      <td>Oil</td>\n",
       "      <td>333</td>\n",
       "    </tr>\n",
       "    <tr>\n",
       "      <th>18</th>\n",
       "      <td>Brandenburg</td>\n",
       "      <td>Other fuels</td>\n",
       "      <td>124</td>\n",
       "    </tr>\n",
       "    <tr>\n",
       "      <th>19</th>\n",
       "      <td>Brandenburg</td>\n",
       "      <td>Waste</td>\n",
       "      <td>117</td>\n",
       "    </tr>\n",
       "    <tr>\n",
       "      <th>20</th>\n",
       "      <td>Bremen</td>\n",
       "      <td>Hard coal</td>\n",
       "      <td>772</td>\n",
       "    </tr>\n",
       "    <tr>\n",
       "      <th>21</th>\n",
       "      <td>Bremen</td>\n",
       "      <td>Natural gas</td>\n",
       "      <td>459</td>\n",
       "    </tr>\n",
       "    <tr>\n",
       "      <th>22</th>\n",
       "      <td>Bremen</td>\n",
       "      <td>Oil</td>\n",
       "      <td>86</td>\n",
       "    </tr>\n",
       "    <tr>\n",
       "      <th>23</th>\n",
       "      <td>Bremen</td>\n",
       "      <td>Other fuels</td>\n",
       "      <td>178</td>\n",
       "    </tr>\n",
       "    <tr>\n",
       "      <th>24</th>\n",
       "      <td>Bremen</td>\n",
       "      <td>Waste</td>\n",
       "      <td>91</td>\n",
       "    </tr>\n",
       "    <tr>\n",
       "      <th>25</th>\n",
       "      <td>Hamburg</td>\n",
       "      <td>Hard coal</td>\n",
       "      <td>1794</td>\n",
       "    </tr>\n",
       "    <tr>\n",
       "      <th>26</th>\n",
       "      <td>Hamburg</td>\n",
       "      <td>Natural gas</td>\n",
       "      <td>149</td>\n",
       "    </tr>\n",
       "    <tr>\n",
       "      <th>27</th>\n",
       "      <td>Hamburg</td>\n",
       "      <td>Waste</td>\n",
       "      <td>24</td>\n",
       "    </tr>\n",
       "    <tr>\n",
       "      <th>28</th>\n",
       "      <td>Hesse</td>\n",
       "      <td>Hard coal</td>\n",
       "      <td>753</td>\n",
       "    </tr>\n",
       "    <tr>\n",
       "      <th>29</th>\n",
       "      <td>Hesse</td>\n",
       "      <td>Lignite</td>\n",
       "      <td>33</td>\n",
       "    </tr>\n",
       "    <tr>\n",
       "      <th>30</th>\n",
       "      <td>Hesse</td>\n",
       "      <td>Natural gas</td>\n",
       "      <td>1548</td>\n",
       "    </tr>\n",
       "    <tr>\n",
       "      <th>31</th>\n",
       "      <td>Hesse</td>\n",
       "      <td>Oil</td>\n",
       "      <td>24</td>\n",
       "    </tr>\n",
       "    <tr>\n",
       "      <th>32</th>\n",
       "      <td>Hesse</td>\n",
       "      <td>Other fuels</td>\n",
       "      <td>28</td>\n",
       "    </tr>\n",
       "    <tr>\n",
       "      <th>33</th>\n",
       "      <td>Hesse</td>\n",
       "      <td>Waste</td>\n",
       "      <td>112</td>\n",
       "    </tr>\n",
       "    <tr>\n",
       "      <th>34</th>\n",
       "      <td>Lower Saxony</td>\n",
       "      <td>Hard coal</td>\n",
       "      <td>2933</td>\n",
       "    </tr>\n",
       "    <tr>\n",
       "      <th>35</th>\n",
       "      <td>Lower Saxony</td>\n",
       "      <td>Lignite</td>\n",
       "      <td>352</td>\n",
       "    </tr>\n",
       "    <tr>\n",
       "      <th>36</th>\n",
       "      <td>Lower Saxony</td>\n",
       "      <td>Natural gas</td>\n",
       "      <td>3984</td>\n",
       "    </tr>\n",
       "    <tr>\n",
       "      <th>37</th>\n",
       "      <td>Lower Saxony</td>\n",
       "      <td>Nuclear</td>\n",
       "      <td>2696</td>\n",
       "    </tr>\n",
       "    <tr>\n",
       "      <th>38</th>\n",
       "      <td>Lower Saxony</td>\n",
       "      <td>Oil</td>\n",
       "      <td>56</td>\n",
       "    </tr>\n",
       "    <tr>\n",
       "      <th>39</th>\n",
       "      <td>Lower Saxony</td>\n",
       "      <td>Other fuels</td>\n",
       "      <td>288</td>\n",
       "    </tr>\n",
       "    <tr>\n",
       "      <th>40</th>\n",
       "      <td>Lower Saxony</td>\n",
       "      <td>Waste</td>\n",
       "      <td>73</td>\n",
       "    </tr>\n",
       "    <tr>\n",
       "      <th>41</th>\n",
       "      <td>Mecklenburg-Western Pomerania</td>\n",
       "      <td>Hard coal</td>\n",
       "      <td>514</td>\n",
       "    </tr>\n",
       "    <tr>\n",
       "      <th>42</th>\n",
       "      <td>Mecklenburg-Western Pomerania</td>\n",
       "      <td>Natural gas</td>\n",
       "      <td>318</td>\n",
       "    </tr>\n",
       "    <tr>\n",
       "      <th>43</th>\n",
       "      <td>Mecklenburg-Western Pomerania</td>\n",
       "      <td>Other fuels</td>\n",
       "      <td>12</td>\n",
       "    </tr>\n",
       "    <tr>\n",
       "      <th>44</th>\n",
       "      <td>Mecklenburg-Western Pomerania</td>\n",
       "      <td>Waste</td>\n",
       "      <td>17</td>\n",
       "    </tr>\n",
       "    <tr>\n",
       "      <th>45</th>\n",
       "      <td>North Rhine-Westphalia</td>\n",
       "      <td>Hard coal</td>\n",
       "      <td>6739</td>\n",
       "    </tr>\n",
       "    <tr>\n",
       "      <th>46</th>\n",
       "      <td>North Rhine-Westphalia</td>\n",
       "      <td>Lignite</td>\n",
       "      <td>10658</td>\n",
       "    </tr>\n",
       "    <tr>\n",
       "      <th>47</th>\n",
       "      <td>North Rhine-Westphalia</td>\n",
       "      <td>Natural gas</td>\n",
       "      <td>8433</td>\n",
       "    </tr>\n",
       "    <tr>\n",
       "      <th>48</th>\n",
       "      <td>North Rhine-Westphalia</td>\n",
       "      <td>Oil</td>\n",
       "      <td>544</td>\n",
       "    </tr>\n",
       "    <tr>\n",
       "      <th>49</th>\n",
       "      <td>North Rhine-Westphalia</td>\n",
       "      <td>Other fuels</td>\n",
       "      <td>1540</td>\n",
       "    </tr>\n",
       "    <tr>\n",
       "      <th>50</th>\n",
       "      <td>North Rhine-Westphalia</td>\n",
       "      <td>Waste</td>\n",
       "      <td>505</td>\n",
       "    </tr>\n",
       "    <tr>\n",
       "      <th>51</th>\n",
       "      <td>Rhineland-Palatinate</td>\n",
       "      <td>Hard coal</td>\n",
       "      <td>13</td>\n",
       "    </tr>\n",
       "    <tr>\n",
       "      <th>52</th>\n",
       "      <td>Rhineland-Palatinate</td>\n",
       "      <td>Natural gas</td>\n",
       "      <td>1920</td>\n",
       "    </tr>\n",
       "    <tr>\n",
       "      <th>53</th>\n",
       "      <td>Rhineland-Palatinate</td>\n",
       "      <td>Other fuels</td>\n",
       "      <td>97</td>\n",
       "    </tr>\n",
       "    <tr>\n",
       "      <th>54</th>\n",
       "      <td>Rhineland-Palatinate</td>\n",
       "      <td>Waste</td>\n",
       "      <td>83</td>\n",
       "    </tr>\n",
       "    <tr>\n",
       "      <th>55</th>\n",
       "      <td>Saarland</td>\n",
       "      <td>Hard coal</td>\n",
       "      <td>1821</td>\n",
       "    </tr>\n",
       "    <tr>\n",
       "      <th>56</th>\n",
       "      <td>Saarland</td>\n",
       "      <td>Natural gas</td>\n",
       "      <td>155</td>\n",
       "    </tr>\n",
       "    <tr>\n",
       "      <th>57</th>\n",
       "      <td>Saarland</td>\n",
       "      <td>Other fuels</td>\n",
       "      <td>130</td>\n",
       "    </tr>\n",
       "    <tr>\n",
       "      <th>58</th>\n",
       "      <td>Saarland</td>\n",
       "      <td>Waste</td>\n",
       "      <td>27</td>\n",
       "    </tr>\n",
       "    <tr>\n",
       "      <th>59</th>\n",
       "      <td>Saxony</td>\n",
       "      <td>Lignite</td>\n",
       "      <td>4324</td>\n",
       "    </tr>\n",
       "    <tr>\n",
       "      <th>60</th>\n",
       "      <td>Saxony</td>\n",
       "      <td>Natural gas</td>\n",
       "      <td>621</td>\n",
       "    </tr>\n",
       "    <tr>\n",
       "      <th>61</th>\n",
       "      <td>Saxony</td>\n",
       "      <td>Oil</td>\n",
       "      <td>17</td>\n",
       "    </tr>\n",
       "    <tr>\n",
       "      <th>62</th>\n",
       "      <td>Saxony</td>\n",
       "      <td>Waste</td>\n",
       "      <td>15</td>\n",
       "    </tr>\n",
       "    <tr>\n",
       "      <th>63</th>\n",
       "      <td>Saxony-Anhalt</td>\n",
       "      <td>Lignite</td>\n",
       "      <td>1086</td>\n",
       "    </tr>\n",
       "    <tr>\n",
       "      <th>64</th>\n",
       "      <td>Saxony-Anhalt</td>\n",
       "      <td>Natural gas</td>\n",
       "      <td>840</td>\n",
       "    </tr>\n",
       "    <tr>\n",
       "      <th>65</th>\n",
       "      <td>Saxony-Anhalt</td>\n",
       "      <td>Oil</td>\n",
       "      <td>212</td>\n",
       "    </tr>\n",
       "    <tr>\n",
       "      <th>66</th>\n",
       "      <td>Saxony-Anhalt</td>\n",
       "      <td>Other fuels</td>\n",
       "      <td>42</td>\n",
       "    </tr>\n",
       "    <tr>\n",
       "      <th>67</th>\n",
       "      <td>Saxony-Anhalt</td>\n",
       "      <td>Waste</td>\n",
       "      <td>182</td>\n",
       "    </tr>\n",
       "    <tr>\n",
       "      <th>68</th>\n",
       "      <td>Schleswig-Holstein</td>\n",
       "      <td>Hard coal</td>\n",
       "      <td>357</td>\n",
       "    </tr>\n",
       "    <tr>\n",
       "      <th>69</th>\n",
       "      <td>Schleswig-Holstein</td>\n",
       "      <td>Natural gas</td>\n",
       "      <td>316</td>\n",
       "    </tr>\n",
       "    <tr>\n",
       "      <th>70</th>\n",
       "      <td>Schleswig-Holstein</td>\n",
       "      <td>Nuclear</td>\n",
       "      <td>1410</td>\n",
       "    </tr>\n",
       "    <tr>\n",
       "      <th>71</th>\n",
       "      <td>Schleswig-Holstein</td>\n",
       "      <td>Oil</td>\n",
       "      <td>276</td>\n",
       "    </tr>\n",
       "    <tr>\n",
       "      <th>72</th>\n",
       "      <td>Schleswig-Holstein</td>\n",
       "      <td>Other fuels</td>\n",
       "      <td>146</td>\n",
       "    </tr>\n",
       "    <tr>\n",
       "      <th>73</th>\n",
       "      <td>Schleswig-Holstein</td>\n",
       "      <td>Waste</td>\n",
       "      <td>17</td>\n",
       "    </tr>\n",
       "    <tr>\n",
       "      <th>74</th>\n",
       "      <td>Thuringia</td>\n",
       "      <td>Natural gas</td>\n",
       "      <td>432</td>\n",
       "    </tr>\n",
       "    <tr>\n",
       "      <th>75</th>\n",
       "      <td>Thuringia</td>\n",
       "      <td>Waste</td>\n",
       "      <td>12</td>\n",
       "    </tr>\n",
       "  </tbody>\n",
       "</table>\n",
       "</div>"
      ],
      "text/plain": [
       "                            state energy_source  total_net_capacity\n",
       "0              Baden-Wuerttemberg     Hard coal                5487\n",
       "1              Baden-Wuerttemberg   Natural gas                1029\n",
       "2              Baden-Wuerttemberg       Nuclear                1310\n",
       "3              Baden-Wuerttemberg           Oil                 701\n",
       "4              Baden-Wuerttemberg         Waste                  93\n",
       "5                         Bavaria     Hard coal                 846\n",
       "6                         Bavaria   Natural gas                4195\n",
       "7                         Bavaria       Nuclear                2698\n",
       "8                         Bavaria           Oil                1388\n",
       "9                         Bavaria   Other fuels                  34\n",
       "10                        Bavaria         Waste                 214\n",
       "11                         Berlin     Hard coal                 653\n",
       "12                         Berlin   Natural gas                1056\n",
       "13                         Berlin           Oil                 218\n",
       "14                         Berlin         Waste                  36\n",
       "15                    Brandenburg       Lignite                4364\n",
       "16                    Brandenburg   Natural gas                 781\n",
       "17                    Brandenburg           Oil                 333\n",
       "18                    Brandenburg   Other fuels                 124\n",
       "19                    Brandenburg         Waste                 117\n",
       "20                         Bremen     Hard coal                 772\n",
       "21                         Bremen   Natural gas                 459\n",
       "22                         Bremen           Oil                  86\n",
       "23                         Bremen   Other fuels                 178\n",
       "24                         Bremen         Waste                  91\n",
       "25                        Hamburg     Hard coal                1794\n",
       "26                        Hamburg   Natural gas                 149\n",
       "27                        Hamburg         Waste                  24\n",
       "28                          Hesse     Hard coal                 753\n",
       "29                          Hesse       Lignite                  33\n",
       "30                          Hesse   Natural gas                1548\n",
       "31                          Hesse           Oil                  24\n",
       "32                          Hesse   Other fuels                  28\n",
       "33                          Hesse         Waste                 112\n",
       "34                   Lower Saxony     Hard coal                2933\n",
       "35                   Lower Saxony       Lignite                 352\n",
       "36                   Lower Saxony   Natural gas                3984\n",
       "37                   Lower Saxony       Nuclear                2696\n",
       "38                   Lower Saxony           Oil                  56\n",
       "39                   Lower Saxony   Other fuels                 288\n",
       "40                   Lower Saxony         Waste                  73\n",
       "41  Mecklenburg-Western Pomerania     Hard coal                 514\n",
       "42  Mecklenburg-Western Pomerania   Natural gas                 318\n",
       "43  Mecklenburg-Western Pomerania   Other fuels                  12\n",
       "44  Mecklenburg-Western Pomerania         Waste                  17\n",
       "45         North Rhine-Westphalia     Hard coal                6739\n",
       "46         North Rhine-Westphalia       Lignite               10658\n",
       "47         North Rhine-Westphalia   Natural gas                8433\n",
       "48         North Rhine-Westphalia           Oil                 544\n",
       "49         North Rhine-Westphalia   Other fuels                1540\n",
       "50         North Rhine-Westphalia         Waste                 505\n",
       "51           Rhineland-Palatinate     Hard coal                  13\n",
       "52           Rhineland-Palatinate   Natural gas                1920\n",
       "53           Rhineland-Palatinate   Other fuels                  97\n",
       "54           Rhineland-Palatinate         Waste                  83\n",
       "55                       Saarland     Hard coal                1821\n",
       "56                       Saarland   Natural gas                 155\n",
       "57                       Saarland   Other fuels                 130\n",
       "58                       Saarland         Waste                  27\n",
       "59                         Saxony       Lignite                4324\n",
       "60                         Saxony   Natural gas                 621\n",
       "61                         Saxony           Oil                  17\n",
       "62                         Saxony         Waste                  15\n",
       "63                  Saxony-Anhalt       Lignite                1086\n",
       "64                  Saxony-Anhalt   Natural gas                 840\n",
       "65                  Saxony-Anhalt           Oil                 212\n",
       "66                  Saxony-Anhalt   Other fuels                  42\n",
       "67                  Saxony-Anhalt         Waste                 182\n",
       "68             Schleswig-Holstein     Hard coal                 357\n",
       "69             Schleswig-Holstein   Natural gas                 316\n",
       "70             Schleswig-Holstein       Nuclear                1410\n",
       "71             Schleswig-Holstein           Oil                 276\n",
       "72             Schleswig-Holstein   Other fuels                 146\n",
       "73             Schleswig-Holstein         Waste                  17\n",
       "74                      Thuringia   Natural gas                 432\n",
       "75                      Thuringia         Waste                  12"
      ]
     },
     "execution_count": 49,
     "metadata": {},
     "output_type": "execute_result"
    }
   ],
   "source": [
    "# Investigate which energy source is most prevalent in which federal state by total net capacity\n",
    "# (excluding power plants, which have already been shut down)\n",
    "conv_cap_states_sources = (\n",
    "    active_conv_plants\n",
    "    .groupby(['state', 'energy_source'])\n",
    "    .agg({'capacity_net_bnetza':'sum'})\n",
    "    .reset_index()\n",
    "    .rename(columns = {'capacity_net_bnetza':'total_net_capacity'} )\n",
    ")\n",
    "    \n",
    "# Convert values of column 'total_net_capacity' to integers\n",
    "conv_cap_states_sources['total_net_capacity'] = conv_cap_states_sources['total_net_capacity'].astype(int)\n",
    "\n",
    "# Show all rows\n",
    "pd.set_option('display.max_rows', None)\n",
    "conv_cap_states_sources"
   ]
  },
  {
   "cell_type": "markdown",
   "id": "614d4da6-18fe-4536-8b19-0969eb9b0db0",
   "metadata": {},
   "source": [
    "When examining total net capacity across German federal states, North Rhine-Westphalia clearly dominates, particularly in lignite (10,658 MW), natural gas (8,433 MW), and hard coal (6,739 MW). Other states show more mixed patterns: Bavaria has high natural gas (4,195 MW) and nuclear (2,698 MW) capacities, while Brandenburg and Saxony rely heavily on lignite. Smaller states like Hamburg, Saarland, and Mecklenburg-Western Pomerania have relatively low total capacities, mostly from hard coal, natural gas, or waste plants. Overall, lignite and hard coal remain key contributors to Germany’s conventional energy capacity, while nuclear is concentrated in select states like Bavaria, Lower Saxony, and Schleswig-Holstein."
   ]
  },
  {
   "cell_type": "code",
   "execution_count": 50,
   "id": "c99039ab-1ba7-4633-a1d2-631409a38133",
   "metadata": {},
   "outputs": [
    {
     "data": {
      "text/html": [
       "<div>\n",
       "<style scoped>\n",
       "    .dataframe tbody tr th:only-of-type {\n",
       "        vertical-align: middle;\n",
       "    }\n",
       "\n",
       "    .dataframe tbody tr th {\n",
       "        vertical-align: top;\n",
       "    }\n",
       "\n",
       "    .dataframe thead th {\n",
       "        text-align: right;\n",
       "    }\n",
       "</style>\n",
       "<table border=\"1\" class=\"dataframe\">\n",
       "  <thead>\n",
       "    <tr style=\"text-align: right;\">\n",
       "      <th></th>\n",
       "      <th>energy_source</th>\n",
       "      <th>number_of_plants</th>\n",
       "    </tr>\n",
       "  </thead>\n",
       "  <tbody>\n",
       "    <tr>\n",
       "      <th>2</th>\n",
       "      <td>Natural gas</td>\n",
       "      <td>272</td>\n",
       "    </tr>\n",
       "    <tr>\n",
       "      <th>6</th>\n",
       "      <td>Waste</td>\n",
       "      <td>79</td>\n",
       "    </tr>\n",
       "    <tr>\n",
       "      <th>0</th>\n",
       "      <td>Hard coal</td>\n",
       "      <td>76</td>\n",
       "    </tr>\n",
       "    <tr>\n",
       "      <th>1</th>\n",
       "      <td>Lignite</td>\n",
       "      <td>59</td>\n",
       "    </tr>\n",
       "    <tr>\n",
       "      <th>4</th>\n",
       "      <td>Oil</td>\n",
       "      <td>46</td>\n",
       "    </tr>\n",
       "    <tr>\n",
       "      <th>5</th>\n",
       "      <td>Other fuels</td>\n",
       "      <td>44</td>\n",
       "    </tr>\n",
       "    <tr>\n",
       "      <th>3</th>\n",
       "      <td>Nuclear</td>\n",
       "      <td>6</td>\n",
       "    </tr>\n",
       "  </tbody>\n",
       "</table>\n",
       "</div>"
      ],
      "text/plain": [
       "  energy_source  number_of_plants\n",
       "2   Natural gas               272\n",
       "6         Waste                79\n",
       "0     Hard coal                76\n",
       "1       Lignite                59\n",
       "4           Oil                46\n",
       "5   Other fuels                44\n",
       "3       Nuclear                 6"
      ]
     },
     "execution_count": 50,
     "metadata": {},
     "output_type": "execute_result"
    }
   ],
   "source": [
    "# Investivate which energy sources are most prevalent across all states based on the \n",
    "# number of power plants \n",
    "conv_number_plants_sources = (\n",
    "    active_conv_plants\n",
    "    .groupby('energy_source')\n",
    "    .size()\n",
    "    .reset_index(name = 'number_of_plants')\n",
    "    .sort_values(by = 'number_of_plants', ascending = False)\n",
    ")\n",
    "conv_number_plants_sources"
   ]
  },
  {
   "cell_type": "markdown",
   "id": "24485ce0-0252-445d-8707-a48d45711fce",
   "metadata": {},
   "source": [
    "Across all German states, natural gas is by far the most common conventional energy source, with 272 active plants. Waste, hard coal, and lignite follow, while oil and other fuels are less prevalent. Nuclear plants are very few in number (6) but tend to have higher capacities per plant."
   ]
  },
  {
   "cell_type": "code",
   "execution_count": 51,
   "id": "ef356368-a7f0-47a2-971d-e7ef42379282",
   "metadata": {},
   "outputs": [
    {
     "data": {
      "text/html": [
       "<div>\n",
       "<style scoped>\n",
       "    .dataframe tbody tr th:only-of-type {\n",
       "        vertical-align: middle;\n",
       "    }\n",
       "\n",
       "    .dataframe tbody tr th {\n",
       "        vertical-align: top;\n",
       "    }\n",
       "\n",
       "    .dataframe thead th {\n",
       "        text-align: right;\n",
       "    }\n",
       "</style>\n",
       "<table border=\"1\" class=\"dataframe\">\n",
       "  <thead>\n",
       "    <tr style=\"text-align: right;\">\n",
       "      <th></th>\n",
       "      <th>energy_source</th>\n",
       "      <th>total_net_capacity</th>\n",
       "    </tr>\n",
       "  </thead>\n",
       "  <tbody>\n",
       "    <tr>\n",
       "      <th>2</th>\n",
       "      <td>Natural gas</td>\n",
       "      <td>26242</td>\n",
       "    </tr>\n",
       "    <tr>\n",
       "      <th>0</th>\n",
       "      <td>Hard coal</td>\n",
       "      <td>22685</td>\n",
       "    </tr>\n",
       "    <tr>\n",
       "      <th>1</th>\n",
       "      <td>Lignite</td>\n",
       "      <td>20819</td>\n",
       "    </tr>\n",
       "    <tr>\n",
       "      <th>3</th>\n",
       "      <td>Nuclear</td>\n",
       "      <td>8114</td>\n",
       "    </tr>\n",
       "    <tr>\n",
       "      <th>4</th>\n",
       "      <td>Oil</td>\n",
       "      <td>3858</td>\n",
       "    </tr>\n",
       "    <tr>\n",
       "      <th>5</th>\n",
       "      <td>Other fuels</td>\n",
       "      <td>2623</td>\n",
       "    </tr>\n",
       "    <tr>\n",
       "      <th>6</th>\n",
       "      <td>Waste</td>\n",
       "      <td>1622</td>\n",
       "    </tr>\n",
       "  </tbody>\n",
       "</table>\n",
       "</div>"
      ],
      "text/plain": [
       "  energy_source  total_net_capacity\n",
       "2   Natural gas               26242\n",
       "0     Hard coal               22685\n",
       "1       Lignite               20819\n",
       "3       Nuclear                8114\n",
       "4           Oil                3858\n",
       "5   Other fuels                2623\n",
       "6         Waste                1622"
      ]
     },
     "execution_count": 51,
     "metadata": {},
     "output_type": "execute_result"
    }
   ],
   "source": [
    "# Investivate which energy sources are most prevalent across all states \n",
    "# based on the capacity of power plants in MW\n",
    "\n",
    "conv_cap_sources = (\n",
    "    active_conv_plants\n",
    "    .groupby('energy_source')['capacity_net_bnetza']\n",
    "    .sum()\n",
    "    .reset_index(name = 'total_net_capacity')\n",
    "    .sort_values(by = 'total_net_capacity', ascending = False)\n",
    ")\n",
    "# Convert total_net_capacity to integers\n",
    "conv_cap_sources['total_net_capacity'] = conv_cap_sources['total_net_capacity'].astype(int)\n",
    "\n",
    "conv_cap_sources"
   ]
  },
  {
   "cell_type": "markdown",
   "id": "46f5224d-9696-46f8-a59b-ef7579411672",
   "metadata": {},
   "source": [
    "When considering total installed capacity across Germany, natural gas leads with 26,242 MW, followed closely by hard coal (22,686 MW) and lignite (20,819 MW). Nuclear plants, although few in number, contribute a substantial 8,114 MW, reflecting their high capacity per plant. Oil, other fuels, and waste contribute comparatively less to total conventional capacity."
   ]
  },
  {
   "cell_type": "code",
   "execution_count": 52,
   "id": "929fc14a-5680-404f-82ed-2fb4546f61f0",
   "metadata": {},
   "outputs": [
    {
     "data": {
      "text/html": [
       "<div>\n",
       "<style scoped>\n",
       "    .dataframe tbody tr th:only-of-type {\n",
       "        vertical-align: middle;\n",
       "    }\n",
       "\n",
       "    .dataframe tbody tr th {\n",
       "        vertical-align: top;\n",
       "    }\n",
       "\n",
       "    .dataframe thead th {\n",
       "        text-align: right;\n",
       "    }\n",
       "</style>\n",
       "<table border=\"1\" class=\"dataframe\">\n",
       "  <thead>\n",
       "    <tr style=\"text-align: right;\">\n",
       "      <th></th>\n",
       "      <th>name_bnetza</th>\n",
       "      <th>energy_source</th>\n",
       "      <th>capacity_net_bnetza</th>\n",
       "    </tr>\n",
       "  </thead>\n",
       "  <tbody>\n",
       "    <tr>\n",
       "      <th>0</th>\n",
       "      <td>Heizkraftwerk Altbach/Deizisau</td>\n",
       "      <td>Hard coal</td>\n",
       "      <td>336.00</td>\n",
       "    </tr>\n",
       "    <tr>\n",
       "      <th>1</th>\n",
       "      <td>Heizkraftwerk der Sappi Stockstadt GmbH</td>\n",
       "      <td>Hard coal</td>\n",
       "      <td>24.79</td>\n",
       "    </tr>\n",
       "    <tr>\n",
       "      <th>2</th>\n",
       "      <td>HKW Römerbrücke</td>\n",
       "      <td>Hard coal</td>\n",
       "      <td>50.00</td>\n",
       "    </tr>\n",
       "    <tr>\n",
       "      <th>3</th>\n",
       "      <td>KNG Kraftwerk Rostock</td>\n",
       "      <td>Hard coal</td>\n",
       "      <td>514.00</td>\n",
       "    </tr>\n",
       "    <tr>\n",
       "      <th>4</th>\n",
       "      <td>Heizkraftwerk Pforzheim GmbH</td>\n",
       "      <td>Hard coal</td>\n",
       "      <td>26.90</td>\n",
       "    </tr>\n",
       "  </tbody>\n",
       "</table>\n",
       "</div>"
      ],
      "text/plain": [
       "                               name_bnetza energy_source  capacity_net_bnetza\n",
       "0           Heizkraftwerk Altbach/Deizisau     Hard coal               336.00\n",
       "1  Heizkraftwerk der Sappi Stockstadt GmbH     Hard coal                24.79\n",
       "2                          HKW Römerbrücke     Hard coal                50.00\n",
       "3                    KNG Kraftwerk Rostock     Hard coal               514.00\n",
       "4             Heizkraftwerk Pforzheim GmbH     Hard coal                26.90"
      ]
     },
     "execution_count": 52,
     "metadata": {},
     "output_type": "execute_result"
    }
   ],
   "source": [
    "# Extract core columns for all active power plants\n",
    "conv_capacity_raw = (\n",
    "    active_conv_plants[['name_bnetza', 'energy_source', 'capacity_net_bnetza']]\n",
    "    .sort_values('energy_source')\n",
    "    .reset_index(drop=True)\n",
    ")\n",
    "conv_capacity_raw.head()"
   ]
  },
  {
   "cell_type": "code",
   "execution_count": 53,
   "id": "edaa2b9d-21fc-48b1-a712-ec9d81167d49",
   "metadata": {},
   "outputs": [
    {
     "data": {
      "text/html": [
       "<div>\n",
       "<style scoped>\n",
       "    .dataframe tbody tr th:only-of-type {\n",
       "        vertical-align: middle;\n",
       "    }\n",
       "\n",
       "    .dataframe tbody tr th {\n",
       "        vertical-align: top;\n",
       "    }\n",
       "\n",
       "    .dataframe thead th {\n",
       "        text-align: right;\n",
       "    }\n",
       "</style>\n",
       "<table border=\"1\" class=\"dataframe\">\n",
       "  <thead>\n",
       "    <tr style=\"text-align: right;\">\n",
       "      <th></th>\n",
       "      <th>energy_source</th>\n",
       "      <th>avg_capacity_per_plant</th>\n",
       "    </tr>\n",
       "  </thead>\n",
       "  <tbody>\n",
       "    <tr>\n",
       "      <th>0</th>\n",
       "      <td>Nuclear</td>\n",
       "      <td>1352</td>\n",
       "    </tr>\n",
       "    <tr>\n",
       "      <th>1</th>\n",
       "      <td>Lignite</td>\n",
       "      <td>352</td>\n",
       "    </tr>\n",
       "    <tr>\n",
       "      <th>2</th>\n",
       "      <td>Hard coal</td>\n",
       "      <td>298</td>\n",
       "    </tr>\n",
       "    <tr>\n",
       "      <th>3</th>\n",
       "      <td>Natural gas</td>\n",
       "      <td>96</td>\n",
       "    </tr>\n",
       "    <tr>\n",
       "      <th>4</th>\n",
       "      <td>Oil</td>\n",
       "      <td>83</td>\n",
       "    </tr>\n",
       "    <tr>\n",
       "      <th>5</th>\n",
       "      <td>Other fuels</td>\n",
       "      <td>59</td>\n",
       "    </tr>\n",
       "    <tr>\n",
       "      <th>6</th>\n",
       "      <td>Waste</td>\n",
       "      <td>20</td>\n",
       "    </tr>\n",
       "  </tbody>\n",
       "</table>\n",
       "</div>"
      ],
      "text/plain": [
       "  energy_source  avg_capacity_per_plant\n",
       "0       Nuclear                    1352\n",
       "1       Lignite                     352\n",
       "2     Hard coal                     298\n",
       "3   Natural gas                      96\n",
       "4           Oil                      83\n",
       "5   Other fuels                      59\n",
       "6         Waste                      20"
      ]
     },
     "execution_count": 53,
     "metadata": {},
     "output_type": "execute_result"
    }
   ],
   "source": [
    "# Calculate the average capacity per power plant per 'energy_source' in MW\n",
    "conv_avg_cap_source = (\n",
    "    active_conv_plants\n",
    "    .groupby('energy_source')\n",
    "    .agg({'capacity_net_bnetza': 'mean'})\n",
    "    .sort_values(by='capacity_net_bnetza', ascending=False)\n",
    "    .reset_index()\n",
    "    .rename(columns={'capacity_net_bnetza': 'avg_capacity_per_plant'})\n",
    ")\n",
    "# Convert average capacities to integers\n",
    "conv_avg_cap_source['avg_capacity_per_plant'] = conv_avg_cap_source['avg_capacity_per_plant'].astype(int)\n",
    "\n",
    "conv_avg_cap_source"
   ]
  },
  {
   "cell_type": "raw",
   "id": "84c819b6-17c0-4cef-9fea-da26d11559d2",
   "metadata": {},
   "source": [
    "Nuclear plants have by far the highest average capacity per plant (≈1,352 MW), followed by lignite (≈353 MW) and hard coal (≈298 MW). Natural gas, oil, other fuels, and waste plants have much smaller average capacities, reflecting their more distributed, smaller-scale nature across the German conventional power plants. "
   ]
  },
  {
   "cell_type": "markdown",
   "id": "6601117f-5328-4209-9f20-3c6b61308ada",
   "metadata": {},
   "source": [
    "## Summary Conventional Energy Sources across the Federal States: \n",
    "\n",
    "- Geographic Distribution:\n",
    "Germany's conventional power plant landscape is highly concentrated, with North Rhine-Westphalia dominating both in number of plants (216) and total capacity across multiple energy sources. Bavaria and Baden-Wuerttemberg follow as secondary hubs, while smaller states host minimal conventional generation capacity.\n",
    "\n",
    "\n",
    "- Energy Source Patterns:\n",
    "Natural gas emerges as the backbone of Germany's conventional fleet with 272 active plants (26,242 MW total), followed by hard coal (22,686 MW) and lignite (20,819 MW). Despite having only 6 plants, nuclear contributes substantial capacity (8,114 MW) due to exceptionally high per-plant capacity.\n",
    "\n",
    "- Capacity Characteristics:\n",
    "Plant sizes vary dramatically by technology: nuclear plants are by far the largest, averaging ~1,352 MW each, while lignite (~353 MW) and hard coal (~298 MW) plants are medium-sized.\n",
    "\n",
    "\n",
    "- Regional Energy Profiles:\n",
    "States show distinct specializations - North Rhine-Westphalia leads in lignite and gas, Bavaria combines gas with nuclear, while Brandenburg and Saxony focus heavily on lignite, highlighting regional differences in energy infrastructure and resource availability.\n",
    "\n"
   ]
  },
  {
   "cell_type": "markdown",
   "id": "7ad6880c-67fc-4306-823c-1de3462aeaf7",
   "metadata": {},
   "source": [
    "### 1.3.2 Analysis of Reduced Data Frame 'conv_states_comm_source' "
   ]
  },
  {
   "cell_type": "markdown",
   "id": "5fe5dcfb-0b0d-4316-8b0c-fed6fb88ebd4",
   "metadata": {},
   "source": [
    "This section focuses on examining conventional power plants by state, energy source, capacity, and commissioning decade in order to analyse trends in plant commissioning over time. "
   ]
  },
  {
   "cell_type": "code",
   "execution_count": 54,
   "id": "a2e24d9d-037f-4053-b5a9-250b2a6ba18c",
   "metadata": {},
   "outputs": [
    {
     "data": {
      "text/html": [
       "<div>\n",
       "<style scoped>\n",
       "    .dataframe tbody tr th:only-of-type {\n",
       "        vertical-align: middle;\n",
       "    }\n",
       "\n",
       "    .dataframe tbody tr th {\n",
       "        vertical-align: top;\n",
       "    }\n",
       "\n",
       "    .dataframe thead th {\n",
       "        text-align: right;\n",
       "    }\n",
       "</style>\n",
       "<table border=\"1\" class=\"dataframe\">\n",
       "  <thead>\n",
       "    <tr style=\"text-align: right;\">\n",
       "      <th></th>\n",
       "      <th>state</th>\n",
       "      <th>commissioned</th>\n",
       "      <th>energy_source</th>\n",
       "      <th>capacity_net_bnetza</th>\n",
       "      <th>decade</th>\n",
       "    </tr>\n",
       "  </thead>\n",
       "  <tbody>\n",
       "    <tr>\n",
       "      <th>46</th>\n",
       "      <td>Baden-Wuerttemberg</td>\n",
       "      <td>2009.0</td>\n",
       "      <td>Hard coal</td>\n",
       "      <td>28.0</td>\n",
       "      <td>2000s</td>\n",
       "    </tr>\n",
       "    <tr>\n",
       "      <th>47</th>\n",
       "      <td>Baden-Wuerttemberg</td>\n",
       "      <td>1997.0</td>\n",
       "      <td>Hard coal</td>\n",
       "      <td>336.0</td>\n",
       "      <td>1990s</td>\n",
       "    </tr>\n",
       "    <tr>\n",
       "      <th>48</th>\n",
       "      <td>Baden-Wuerttemberg</td>\n",
       "      <td>1985.0</td>\n",
       "      <td>Hard coal</td>\n",
       "      <td>433.0</td>\n",
       "      <td>1980s</td>\n",
       "    </tr>\n",
       "    <tr>\n",
       "      <th>49</th>\n",
       "      <td>North Rhine-Westphalia</td>\n",
       "      <td>1981.0</td>\n",
       "      <td>Hard coal</td>\n",
       "      <td>717.0</td>\n",
       "      <td>1980s</td>\n",
       "    </tr>\n",
       "    <tr>\n",
       "      <th>50</th>\n",
       "      <td>Berlin</td>\n",
       "      <td>1969.0</td>\n",
       "      <td>Hard coal</td>\n",
       "      <td>124.0</td>\n",
       "      <td>1960s</td>\n",
       "    </tr>\n",
       "  </tbody>\n",
       "</table>\n",
       "</div>"
      ],
      "text/plain": [
       "                     state  commissioned energy_source  capacity_net_bnetza  \\\n",
       "46      Baden-Wuerttemberg        2009.0     Hard coal                 28.0   \n",
       "47      Baden-Wuerttemberg        1997.0     Hard coal                336.0   \n",
       "48      Baden-Wuerttemberg        1985.0     Hard coal                433.0   \n",
       "49  North Rhine-Westphalia        1981.0     Hard coal                717.0   \n",
       "50                  Berlin        1969.0     Hard coal                124.0   \n",
       "\n",
       "   decade  \n",
       "46  2000s  \n",
       "47  1990s  \n",
       "48  1980s  \n",
       "49  1980s  \n",
       "50  1960s  "
      ]
     },
     "execution_count": 54,
     "metadata": {},
     "output_type": "execute_result"
    }
   ],
   "source": [
    "# Create reduced dataframe states_comm_source containing columns 'state', 'commissioned', 'energy_source', \n",
    "#'capacity_net_bnetza'\n",
    "conv_states_comm_source =df_conv_power[['state', 'commissioned', 'energy_source', 'capacity_net_bnetza']]\n",
    "conv_states_comm_source.head()\n",
    "\n",
    "#Extract decade from 'commissioned' and store in newly-created column 'decade'\n",
    "def get_decade (year):\n",
    "    if year < 1910:\n",
    "        return '1900s'\n",
    "    elif year < 1920:\n",
    "        return '1910s'\n",
    "    elif year < 1930:\n",
    "        return '1920s'\n",
    "    elif year < 1940:\n",
    "        return '1930s'\n",
    "    elif year < 1950:\n",
    "        return '1940s'\n",
    "    elif year < 1960:\n",
    "        return '1950s'\n",
    "    elif year < 1970:\n",
    "        return '1960s'\n",
    "    elif year < 1980:\n",
    "        return '1970s'\n",
    "    elif year < 1990:\n",
    "        return '1980s'\n",
    "    elif year < 2000:\n",
    "        return '1990s'\n",
    "    elif year < 2010:\n",
    "        return '2000s'\n",
    "    elif year < 2020:\n",
    "        return '2010s'\n",
    "    else:\n",
    "        return '2020s'\n",
    "\n",
    "# Apply the function to create a new column\n",
    "conv_states_comm_source = conv_states_comm_source.copy()\n",
    "conv_states_comm_source['decade'] = conv_states_comm_source['commissioned'].apply(get_decade)\n",
    "\n",
    "conv_states_comm_source.head()"
   ]
  },
  {
   "cell_type": "code",
   "execution_count": 55,
   "id": "6d3b9cec-b446-4754-bf81-de7d8e914ccb",
   "metadata": {},
   "outputs": [
    {
     "data": {
      "text/html": [
       "<div>\n",
       "<style scoped>\n",
       "    .dataframe tbody tr th:only-of-type {\n",
       "        vertical-align: middle;\n",
       "    }\n",
       "\n",
       "    .dataframe tbody tr th {\n",
       "        vertical-align: top;\n",
       "    }\n",
       "\n",
       "    .dataframe thead th {\n",
       "        text-align: right;\n",
       "    }\n",
       "</style>\n",
       "<table border=\"1\" class=\"dataframe\">\n",
       "  <thead>\n",
       "    <tr style=\"text-align: right;\">\n",
       "      <th>energy_source</th>\n",
       "      <th>Hard coal</th>\n",
       "      <th>Lignite</th>\n",
       "      <th>Natural gas</th>\n",
       "      <th>Nuclear</th>\n",
       "      <th>Oil</th>\n",
       "      <th>Other fuels</th>\n",
       "      <th>Waste</th>\n",
       "    </tr>\n",
       "    <tr>\n",
       "      <th>decade</th>\n",
       "      <th></th>\n",
       "      <th></th>\n",
       "      <th></th>\n",
       "      <th></th>\n",
       "      <th></th>\n",
       "      <th></th>\n",
       "      <th></th>\n",
       "    </tr>\n",
       "  </thead>\n",
       "  <tbody>\n",
       "    <tr>\n",
       "      <th>1910s</th>\n",
       "      <td>NaN</td>\n",
       "      <td>1.0</td>\n",
       "      <td>NaN</td>\n",
       "      <td>NaN</td>\n",
       "      <td>NaN</td>\n",
       "      <td>NaN</td>\n",
       "      <td>1.0</td>\n",
       "    </tr>\n",
       "    <tr>\n",
       "      <th>1920s</th>\n",
       "      <td>1.0</td>\n",
       "      <td>NaN</td>\n",
       "      <td>1.0</td>\n",
       "      <td>NaN</td>\n",
       "      <td>NaN</td>\n",
       "      <td>1.0</td>\n",
       "      <td>NaN</td>\n",
       "    </tr>\n",
       "    <tr>\n",
       "      <th>1930s</th>\n",
       "      <td>NaN</td>\n",
       "      <td>2.0</td>\n",
       "      <td>1.0</td>\n",
       "      <td>NaN</td>\n",
       "      <td>NaN</td>\n",
       "      <td>1.0</td>\n",
       "      <td>NaN</td>\n",
       "    </tr>\n",
       "    <tr>\n",
       "      <th>1940s</th>\n",
       "      <td>1.0</td>\n",
       "      <td>NaN</td>\n",
       "      <td>3.0</td>\n",
       "      <td>NaN</td>\n",
       "      <td>NaN</td>\n",
       "      <td>NaN</td>\n",
       "      <td>NaN</td>\n",
       "    </tr>\n",
       "    <tr>\n",
       "      <th>1950s</th>\n",
       "      <td>3.0</td>\n",
       "      <td>6.0</td>\n",
       "      <td>2.0</td>\n",
       "      <td>NaN</td>\n",
       "      <td>NaN</td>\n",
       "      <td>3.0</td>\n",
       "      <td>1.0</td>\n",
       "    </tr>\n",
       "    <tr>\n",
       "      <th>1960s</th>\n",
       "      <td>28.0</td>\n",
       "      <td>17.0</td>\n",
       "      <td>10.0</td>\n",
       "      <td>NaN</td>\n",
       "      <td>1.0</td>\n",
       "      <td>10.0</td>\n",
       "      <td>2.0</td>\n",
       "    </tr>\n",
       "    <tr>\n",
       "      <th>1970s</th>\n",
       "      <td>20.0</td>\n",
       "      <td>15.0</td>\n",
       "      <td>45.0</td>\n",
       "      <td>NaN</td>\n",
       "      <td>25.0</td>\n",
       "      <td>5.0</td>\n",
       "      <td>7.0</td>\n",
       "    </tr>\n",
       "    <tr>\n",
       "      <th>1980s</th>\n",
       "      <td>38.0</td>\n",
       "      <td>11.0</td>\n",
       "      <td>24.0</td>\n",
       "      <td>8.0</td>\n",
       "      <td>7.0</td>\n",
       "      <td>1.0</td>\n",
       "      <td>12.0</td>\n",
       "    </tr>\n",
       "    <tr>\n",
       "      <th>1990s</th>\n",
       "      <td>13.0</td>\n",
       "      <td>14.0</td>\n",
       "      <td>82.0</td>\n",
       "      <td>NaN</td>\n",
       "      <td>13.0</td>\n",
       "      <td>2.0</td>\n",
       "      <td>19.0</td>\n",
       "    </tr>\n",
       "    <tr>\n",
       "      <th>2000s</th>\n",
       "      <td>5.0</td>\n",
       "      <td>4.0</td>\n",
       "      <td>58.0</td>\n",
       "      <td>NaN</td>\n",
       "      <td>2.0</td>\n",
       "      <td>3.0</td>\n",
       "      <td>27.0</td>\n",
       "    </tr>\n",
       "    <tr>\n",
       "      <th>2010s</th>\n",
       "      <td>10.0</td>\n",
       "      <td>6.0</td>\n",
       "      <td>63.0</td>\n",
       "      <td>NaN</td>\n",
       "      <td>2.0</td>\n",
       "      <td>18.0</td>\n",
       "      <td>10.0</td>\n",
       "    </tr>\n",
       "    <tr>\n",
       "      <th>2020s</th>\n",
       "      <td>NaN</td>\n",
       "      <td>NaN</td>\n",
       "      <td>16.0</td>\n",
       "      <td>1.0</td>\n",
       "      <td>6.0</td>\n",
       "      <td>2.0</td>\n",
       "      <td>2.0</td>\n",
       "    </tr>\n",
       "  </tbody>\n",
       "</table>\n",
       "</div>"
      ],
      "text/plain": [
       "energy_source  Hard coal  Lignite  Natural gas  Nuclear   Oil  Other fuels  \\\n",
       "decade                                                                       \n",
       "1910s                NaN      1.0          NaN      NaN   NaN          NaN   \n",
       "1920s                1.0      NaN          1.0      NaN   NaN          1.0   \n",
       "1930s                NaN      2.0          1.0      NaN   NaN          1.0   \n",
       "1940s                1.0      NaN          3.0      NaN   NaN          NaN   \n",
       "1950s                3.0      6.0          2.0      NaN   NaN          3.0   \n",
       "1960s               28.0     17.0         10.0      NaN   1.0         10.0   \n",
       "1970s               20.0     15.0         45.0      NaN  25.0          5.0   \n",
       "1980s               38.0     11.0         24.0      8.0   7.0          1.0   \n",
       "1990s               13.0     14.0         82.0      NaN  13.0          2.0   \n",
       "2000s                5.0      4.0         58.0      NaN   2.0          3.0   \n",
       "2010s               10.0      6.0         63.0      NaN   2.0         18.0   \n",
       "2020s                NaN      NaN         16.0      1.0   6.0          2.0   \n",
       "\n",
       "energy_source  Waste  \n",
       "decade                \n",
       "1910s            1.0  \n",
       "1920s            NaN  \n",
       "1930s            NaN  \n",
       "1940s            NaN  \n",
       "1950s            1.0  \n",
       "1960s            2.0  \n",
       "1970s            7.0  \n",
       "1980s           12.0  \n",
       "1990s           19.0  \n",
       "2000s           27.0  \n",
       "2010s           10.0  \n",
       "2020s            2.0  "
      ]
     },
     "execution_count": 55,
     "metadata": {},
     "output_type": "execute_result"
    }
   ],
   "source": [
    "#Group conv_states_comm_source by 'decade' and 'energy source', then count the number of \n",
    "#entries per group\n",
    "conv_comm_source = (\n",
    "    conv_states_comm_source\n",
    "    .groupby(['decade', 'energy_source'])\n",
    "    .size()\n",
    "    .reset_index(name = 'count')\n",
    ")\n",
    "conv_comm_source\n",
    "\n",
    "# Create a pivot table to show the number of commissioned power plants per 'energy_source' \n",
    "#by 'decade'\n",
    "conv_pivot_comm_source = pd.pivot_table(\n",
    "    conv_comm_source,\n",
    "    index = 'decade',\n",
    "    columns = 'energy_source',\n",
    "    values = 'count'\n",
    ")\n",
    "conv_pivot_comm_source"
   ]
  },
  {
   "cell_type": "markdown",
   "id": "52b5637d-171c-4982-991e-545bb6e3e394",
   "metadata": {},
   "source": [
    "The table shows clear trends in the commissioning of conventional power plants over time. Early decades (1910s–1950s) were dominated by hard coal and lignite, while natural gas plants begin to appear from the 1930s and grow substantially from the 1970s onwards. Nuclear plants appear only from the 1980s, whereas oil, waste, and other fuels show sporadic entries across later decades. Overall, Germany’s conventional energy mix has become more diverse over time, with natural gas plants becoming more common in recent decades."
   ]
  },
  {
   "cell_type": "markdown",
   "id": "85cddb2e-46c8-43b2-89e2-7e25cfa509f5",
   "metadata": {},
   "source": [
    "##### conv_states_comm_source: Commissioned Capacity (MW) per 'decade' and 'energy source'"
   ]
  },
  {
   "cell_type": "code",
   "execution_count": 56,
   "id": "aa0190db-f4b0-417d-94fc-73e838097f45",
   "metadata": {},
   "outputs": [
    {
     "data": {
      "text/html": [
       "<div>\n",
       "<style scoped>\n",
       "    .dataframe tbody tr th:only-of-type {\n",
       "        vertical-align: middle;\n",
       "    }\n",
       "\n",
       "    .dataframe tbody tr th {\n",
       "        vertical-align: top;\n",
       "    }\n",
       "\n",
       "    .dataframe thead th {\n",
       "        text-align: right;\n",
       "    }\n",
       "</style>\n",
       "<table border=\"1\" class=\"dataframe\">\n",
       "  <thead>\n",
       "    <tr style=\"text-align: right;\">\n",
       "      <th></th>\n",
       "      <th>decade</th>\n",
       "      <th>energy_source</th>\n",
       "      <th>commissioned_capacity</th>\n",
       "    </tr>\n",
       "  </thead>\n",
       "  <tbody>\n",
       "    <tr>\n",
       "      <th>0</th>\n",
       "      <td>1910s</td>\n",
       "      <td>Lignite</td>\n",
       "      <td>98.0000</td>\n",
       "    </tr>\n",
       "    <tr>\n",
       "      <th>1</th>\n",
       "      <td>1910s</td>\n",
       "      <td>Waste</td>\n",
       "      <td>13.2000</td>\n",
       "    </tr>\n",
       "    <tr>\n",
       "      <th>2</th>\n",
       "      <td>1920s</td>\n",
       "      <td>Hard coal</td>\n",
       "      <td>19.0000</td>\n",
       "    </tr>\n",
       "    <tr>\n",
       "      <th>3</th>\n",
       "      <td>1920s</td>\n",
       "      <td>Natural gas</td>\n",
       "      <td>40.0000</td>\n",
       "    </tr>\n",
       "    <tr>\n",
       "      <th>4</th>\n",
       "      <td>1920s</td>\n",
       "      <td>Other fuels</td>\n",
       "      <td>38.0000</td>\n",
       "    </tr>\n",
       "    <tr>\n",
       "      <th>5</th>\n",
       "      <td>1930s</td>\n",
       "      <td>Lignite</td>\n",
       "      <td>82.0000</td>\n",
       "    </tr>\n",
       "    <tr>\n",
       "      <th>6</th>\n",
       "      <td>1930s</td>\n",
       "      <td>Natural gas</td>\n",
       "      <td>26.5000</td>\n",
       "    </tr>\n",
       "    <tr>\n",
       "      <th>7</th>\n",
       "      <td>1930s</td>\n",
       "      <td>Other fuels</td>\n",
       "      <td>94.5000</td>\n",
       "    </tr>\n",
       "    <tr>\n",
       "      <th>8</th>\n",
       "      <td>1940s</td>\n",
       "      <td>Hard coal</td>\n",
       "      <td>169.3200</td>\n",
       "    </tr>\n",
       "    <tr>\n",
       "      <th>9</th>\n",
       "      <td>1940s</td>\n",
       "      <td>Natural gas</td>\n",
       "      <td>109.0000</td>\n",
       "    </tr>\n",
       "    <tr>\n",
       "      <th>10</th>\n",
       "      <td>1950s</td>\n",
       "      <td>Hard coal</td>\n",
       "      <td>287.0000</td>\n",
       "    </tr>\n",
       "    <tr>\n",
       "      <th>11</th>\n",
       "      <td>1950s</td>\n",
       "      <td>Lignite</td>\n",
       "      <td>823.0000</td>\n",
       "    </tr>\n",
       "    <tr>\n",
       "      <th>12</th>\n",
       "      <td>1950s</td>\n",
       "      <td>Natural gas</td>\n",
       "      <td>94.6000</td>\n",
       "    </tr>\n",
       "    <tr>\n",
       "      <th>13</th>\n",
       "      <td>1950s</td>\n",
       "      <td>Other fuels</td>\n",
       "      <td>164.0000</td>\n",
       "    </tr>\n",
       "    <tr>\n",
       "      <th>14</th>\n",
       "      <td>1950s</td>\n",
       "      <td>Waste</td>\n",
       "      <td>48.9000</td>\n",
       "    </tr>\n",
       "    <tr>\n",
       "      <th>15</th>\n",
       "      <td>1960s</td>\n",
       "      <td>Hard coal</td>\n",
       "      <td>4484.9000</td>\n",
       "    </tr>\n",
       "    <tr>\n",
       "      <th>16</th>\n",
       "      <td>1960s</td>\n",
       "      <td>Lignite</td>\n",
       "      <td>2912.5000</td>\n",
       "    </tr>\n",
       "    <tr>\n",
       "      <th>17</th>\n",
       "      <td>1960s</td>\n",
       "      <td>Natural gas</td>\n",
       "      <td>255.1865</td>\n",
       "    </tr>\n",
       "    <tr>\n",
       "      <th>18</th>\n",
       "      <td>1960s</td>\n",
       "      <td>Oil</td>\n",
       "      <td>90.0000</td>\n",
       "    </tr>\n",
       "    <tr>\n",
       "      <th>19</th>\n",
       "      <td>1960s</td>\n",
       "      <td>Other fuels</td>\n",
       "      <td>517.7000</td>\n",
       "    </tr>\n",
       "    <tr>\n",
       "      <th>20</th>\n",
       "      <td>1960s</td>\n",
       "      <td>Waste</td>\n",
       "      <td>54.0000</td>\n",
       "    </tr>\n",
       "    <tr>\n",
       "      <th>21</th>\n",
       "      <td>1970s</td>\n",
       "      <td>Hard coal</td>\n",
       "      <td>6601.4500</td>\n",
       "    </tr>\n",
       "    <tr>\n",
       "      <th>22</th>\n",
       "      <td>1970s</td>\n",
       "      <td>Lignite</td>\n",
       "      <td>6082.5000</td>\n",
       "    </tr>\n",
       "    <tr>\n",
       "      <th>23</th>\n",
       "      <td>1970s</td>\n",
       "      <td>Natural gas</td>\n",
       "      <td>7159.6800</td>\n",
       "    </tr>\n",
       "    <tr>\n",
       "      <th>24</th>\n",
       "      <td>1970s</td>\n",
       "      <td>Oil</td>\n",
       "      <td>2819.9000</td>\n",
       "    </tr>\n",
       "    <tr>\n",
       "      <th>25</th>\n",
       "      <td>1970s</td>\n",
       "      <td>Other fuels</td>\n",
       "      <td>920.6000</td>\n",
       "    </tr>\n",
       "    <tr>\n",
       "      <th>26</th>\n",
       "      <td>1970s</td>\n",
       "      <td>Waste</td>\n",
       "      <td>84.1000</td>\n",
       "    </tr>\n",
       "    <tr>\n",
       "      <th>27</th>\n",
       "      <td>1980s</td>\n",
       "      <td>Hard coal</td>\n",
       "      <td>11216.1000</td>\n",
       "    </tr>\n",
       "    <tr>\n",
       "      <th>28</th>\n",
       "      <td>1980s</td>\n",
       "      <td>Lignite</td>\n",
       "      <td>3706.6000</td>\n",
       "    </tr>\n",
       "    <tr>\n",
       "      <th>29</th>\n",
       "      <td>1980s</td>\n",
       "      <td>Natural gas</td>\n",
       "      <td>1408.7910</td>\n",
       "    </tr>\n",
       "    <tr>\n",
       "      <th>30</th>\n",
       "      <td>1980s</td>\n",
       "      <td>Nuclear</td>\n",
       "      <td>10800.0000</td>\n",
       "    </tr>\n",
       "    <tr>\n",
       "      <th>31</th>\n",
       "      <td>1980s</td>\n",
       "      <td>Oil</td>\n",
       "      <td>265.0000</td>\n",
       "    </tr>\n",
       "    <tr>\n",
       "      <th>32</th>\n",
       "      <td>1980s</td>\n",
       "      <td>Other fuels</td>\n",
       "      <td>6.0000</td>\n",
       "    </tr>\n",
       "    <tr>\n",
       "      <th>33</th>\n",
       "      <td>1980s</td>\n",
       "      <td>Waste</td>\n",
       "      <td>262.1100</td>\n",
       "    </tr>\n",
       "    <tr>\n",
       "      <th>34</th>\n",
       "      <td>1990s</td>\n",
       "      <td>Hard coal</td>\n",
       "      <td>2641.7000</td>\n",
       "    </tr>\n",
       "    <tr>\n",
       "      <th>35</th>\n",
       "      <td>1990s</td>\n",
       "      <td>Lignite</td>\n",
       "      <td>3599.1000</td>\n",
       "    </tr>\n",
       "    <tr>\n",
       "      <th>36</th>\n",
       "      <td>1990s</td>\n",
       "      <td>Natural gas</td>\n",
       "      <td>4703.0090</td>\n",
       "    </tr>\n",
       "    <tr>\n",
       "      <th>37</th>\n",
       "      <td>1990s</td>\n",
       "      <td>Oil</td>\n",
       "      <td>592.9000</td>\n",
       "    </tr>\n",
       "    <tr>\n",
       "      <th>38</th>\n",
       "      <td>1990s</td>\n",
       "      <td>Other fuels</td>\n",
       "      <td>19.0000</td>\n",
       "    </tr>\n",
       "    <tr>\n",
       "      <th>39</th>\n",
       "      <td>1990s</td>\n",
       "      <td>Waste</td>\n",
       "      <td>388.2000</td>\n",
       "    </tr>\n",
       "    <tr>\n",
       "      <th>40</th>\n",
       "      <td>2000s</td>\n",
       "      <td>Hard coal</td>\n",
       "      <td>428.6000</td>\n",
       "    </tr>\n",
       "    <tr>\n",
       "      <th>41</th>\n",
       "      <td>2000s</td>\n",
       "      <td>Lignite</td>\n",
       "      <td>2699.2200</td>\n",
       "    </tr>\n",
       "    <tr>\n",
       "      <th>42</th>\n",
       "      <td>2000s</td>\n",
       "      <td>Natural gas</td>\n",
       "      <td>6999.2840</td>\n",
       "    </tr>\n",
       "    <tr>\n",
       "      <th>43</th>\n",
       "      <td>2000s</td>\n",
       "      <td>Oil</td>\n",
       "      <td>157.1000</td>\n",
       "    </tr>\n",
       "    <tr>\n",
       "      <th>44</th>\n",
       "      <td>2000s</td>\n",
       "      <td>Other fuels</td>\n",
       "      <td>267.0000</td>\n",
       "    </tr>\n",
       "    <tr>\n",
       "      <th>45</th>\n",
       "      <td>2000s</td>\n",
       "      <td>Waste</td>\n",
       "      <td>593.5500</td>\n",
       "    </tr>\n",
       "    <tr>\n",
       "      <th>46</th>\n",
       "      <td>2010s</td>\n",
       "      <td>Hard coal</td>\n",
       "      <td>7279.7000</td>\n",
       "    </tr>\n",
       "    <tr>\n",
       "      <th>47</th>\n",
       "      <td>2010s</td>\n",
       "      <td>Lignite</td>\n",
       "      <td>2875.1000</td>\n",
       "    </tr>\n",
       "    <tr>\n",
       "      <th>48</th>\n",
       "      <td>2010s</td>\n",
       "      <td>Natural gas</td>\n",
       "      <td>6743.5810</td>\n",
       "    </tr>\n",
       "    <tr>\n",
       "      <th>49</th>\n",
       "      <td>2010s</td>\n",
       "      <td>Oil</td>\n",
       "      <td>83.8000</td>\n",
       "    </tr>\n",
       "    <tr>\n",
       "      <th>50</th>\n",
       "      <td>2010s</td>\n",
       "      <td>Other fuels</td>\n",
       "      <td>596.5000</td>\n",
       "    </tr>\n",
       "    <tr>\n",
       "      <th>51</th>\n",
       "      <td>2010s</td>\n",
       "      <td>Waste</td>\n",
       "      <td>178.3500</td>\n",
       "    </tr>\n",
       "    <tr>\n",
       "      <th>52</th>\n",
       "      <td>2020s</td>\n",
       "      <td>Natural gas</td>\n",
       "      <td>996.4000</td>\n",
       "    </tr>\n",
       "    <tr>\n",
       "      <th>53</th>\n",
       "      <td>2020s</td>\n",
       "      <td>Nuclear</td>\n",
       "      <td>1275.0000</td>\n",
       "    </tr>\n",
       "    <tr>\n",
       "      <th>54</th>\n",
       "      <td>2020s</td>\n",
       "      <td>Oil</td>\n",
       "      <td>303.0000</td>\n",
       "    </tr>\n",
       "    <tr>\n",
       "      <th>55</th>\n",
       "      <td>2020s</td>\n",
       "      <td>Other fuels</td>\n",
       "      <td>129.7000</td>\n",
       "    </tr>\n",
       "    <tr>\n",
       "      <th>56</th>\n",
       "      <td>2020s</td>\n",
       "      <td>Waste</td>\n",
       "      <td>8.3400</td>\n",
       "    </tr>\n",
       "  </tbody>\n",
       "</table>\n",
       "</div>"
      ],
      "text/plain": [
       "   decade energy_source  commissioned_capacity\n",
       "0   1910s       Lignite                98.0000\n",
       "1   1910s         Waste                13.2000\n",
       "2   1920s     Hard coal                19.0000\n",
       "3   1920s   Natural gas                40.0000\n",
       "4   1920s   Other fuels                38.0000\n",
       "5   1930s       Lignite                82.0000\n",
       "6   1930s   Natural gas                26.5000\n",
       "7   1930s   Other fuels                94.5000\n",
       "8   1940s     Hard coal               169.3200\n",
       "9   1940s   Natural gas               109.0000\n",
       "10  1950s     Hard coal               287.0000\n",
       "11  1950s       Lignite               823.0000\n",
       "12  1950s   Natural gas                94.6000\n",
       "13  1950s   Other fuels               164.0000\n",
       "14  1950s         Waste                48.9000\n",
       "15  1960s     Hard coal              4484.9000\n",
       "16  1960s       Lignite              2912.5000\n",
       "17  1960s   Natural gas               255.1865\n",
       "18  1960s           Oil                90.0000\n",
       "19  1960s   Other fuels               517.7000\n",
       "20  1960s         Waste                54.0000\n",
       "21  1970s     Hard coal              6601.4500\n",
       "22  1970s       Lignite              6082.5000\n",
       "23  1970s   Natural gas              7159.6800\n",
       "24  1970s           Oil              2819.9000\n",
       "25  1970s   Other fuels               920.6000\n",
       "26  1970s         Waste                84.1000\n",
       "27  1980s     Hard coal             11216.1000\n",
       "28  1980s       Lignite              3706.6000\n",
       "29  1980s   Natural gas              1408.7910\n",
       "30  1980s       Nuclear             10800.0000\n",
       "31  1980s           Oil               265.0000\n",
       "32  1980s   Other fuels                 6.0000\n",
       "33  1980s         Waste               262.1100\n",
       "34  1990s     Hard coal              2641.7000\n",
       "35  1990s       Lignite              3599.1000\n",
       "36  1990s   Natural gas              4703.0090\n",
       "37  1990s           Oil               592.9000\n",
       "38  1990s   Other fuels                19.0000\n",
       "39  1990s         Waste               388.2000\n",
       "40  2000s     Hard coal               428.6000\n",
       "41  2000s       Lignite              2699.2200\n",
       "42  2000s   Natural gas              6999.2840\n",
       "43  2000s           Oil               157.1000\n",
       "44  2000s   Other fuels               267.0000\n",
       "45  2000s         Waste               593.5500\n",
       "46  2010s     Hard coal              7279.7000\n",
       "47  2010s       Lignite              2875.1000\n",
       "48  2010s   Natural gas              6743.5810\n",
       "49  2010s           Oil                83.8000\n",
       "50  2010s   Other fuels               596.5000\n",
       "51  2010s         Waste               178.3500\n",
       "52  2020s   Natural gas               996.4000\n",
       "53  2020s       Nuclear              1275.0000\n",
       "54  2020s           Oil               303.0000\n",
       "55  2020s   Other fuels               129.7000\n",
       "56  2020s         Waste                 8.3400"
      ]
     },
     "execution_count": 56,
     "metadata": {},
     "output_type": "execute_result"
    }
   ],
   "source": [
    "# Group conv_states_comm_source by 'decade', 'energy source' and capacity, then \n",
    "# calculate the installed capacity\n",
    "conv_states_comm_source.head()\n",
    "\n",
    "conv_comm_cap_source = (\n",
    "    conv_states_comm_source\n",
    "    .groupby(['decade', 'energy_source'])\n",
    "    .agg({'capacity_net_bnetza': 'sum'})\n",
    "    .reset_index()\n",
    ")\n",
    "# Rename column 'capacity_net_bnetza' to 'commissioned_capacity'\n",
    "conv_comm_cap_source = conv_comm_cap_source.rename(columns = {'capacity_net_bnetza': 'commissioned_capacity'})\n",
    "conv_comm_cap_source"
   ]
  },
  {
   "cell_type": "code",
   "execution_count": 57,
   "id": "71d23de4-5206-4f4c-b860-ca3f5d7f089e",
   "metadata": {},
   "outputs": [
    {
     "data": {
      "text/html": [
       "<div>\n",
       "<style scoped>\n",
       "    .dataframe tbody tr th:only-of-type {\n",
       "        vertical-align: middle;\n",
       "    }\n",
       "\n",
       "    .dataframe tbody tr th {\n",
       "        vertical-align: top;\n",
       "    }\n",
       "\n",
       "    .dataframe thead th {\n",
       "        text-align: right;\n",
       "    }\n",
       "</style>\n",
       "<table border=\"1\" class=\"dataframe\">\n",
       "  <thead>\n",
       "    <tr style=\"text-align: right;\">\n",
       "      <th>energy_source</th>\n",
       "      <th>Hard coal</th>\n",
       "      <th>Lignite</th>\n",
       "      <th>Natural gas</th>\n",
       "      <th>Nuclear</th>\n",
       "      <th>Oil</th>\n",
       "      <th>Other fuels</th>\n",
       "      <th>Waste</th>\n",
       "    </tr>\n",
       "    <tr>\n",
       "      <th>decade</th>\n",
       "      <th></th>\n",
       "      <th></th>\n",
       "      <th></th>\n",
       "      <th></th>\n",
       "      <th></th>\n",
       "      <th></th>\n",
       "      <th></th>\n",
       "    </tr>\n",
       "  </thead>\n",
       "  <tbody>\n",
       "    <tr>\n",
       "      <th>1910s</th>\n",
       "      <td>0.00</td>\n",
       "      <td>98.0</td>\n",
       "      <td>0.0</td>\n",
       "      <td>0.0</td>\n",
       "      <td>0.0</td>\n",
       "      <td>0.0</td>\n",
       "      <td>13.2</td>\n",
       "    </tr>\n",
       "    <tr>\n",
       "      <th>1920s</th>\n",
       "      <td>19.00</td>\n",
       "      <td>0.0</td>\n",
       "      <td>40.0</td>\n",
       "      <td>0.0</td>\n",
       "      <td>0.0</td>\n",
       "      <td>38.0</td>\n",
       "      <td>0.0</td>\n",
       "    </tr>\n",
       "    <tr>\n",
       "      <th>1930s</th>\n",
       "      <td>0.00</td>\n",
       "      <td>82.0</td>\n",
       "      <td>26.5</td>\n",
       "      <td>0.0</td>\n",
       "      <td>0.0</td>\n",
       "      <td>94.5</td>\n",
       "      <td>0.0</td>\n",
       "    </tr>\n",
       "    <tr>\n",
       "      <th>1940s</th>\n",
       "      <td>169.32</td>\n",
       "      <td>0.0</td>\n",
       "      <td>109.0</td>\n",
       "      <td>0.0</td>\n",
       "      <td>0.0</td>\n",
       "      <td>0.0</td>\n",
       "      <td>0.0</td>\n",
       "    </tr>\n",
       "    <tr>\n",
       "      <th>1950s</th>\n",
       "      <td>287.00</td>\n",
       "      <td>823.0</td>\n",
       "      <td>94.6</td>\n",
       "      <td>0.0</td>\n",
       "      <td>0.0</td>\n",
       "      <td>164.0</td>\n",
       "      <td>48.9</td>\n",
       "    </tr>\n",
       "  </tbody>\n",
       "</table>\n",
       "</div>"
      ],
      "text/plain": [
       "energy_source  Hard coal  Lignite  Natural gas  Nuclear  Oil  Other fuels  \\\n",
       "decade                                                                      \n",
       "1910s               0.00     98.0          0.0      0.0  0.0          0.0   \n",
       "1920s              19.00      0.0         40.0      0.0  0.0         38.0   \n",
       "1930s               0.00     82.0         26.5      0.0  0.0         94.5   \n",
       "1940s             169.32      0.0        109.0      0.0  0.0          0.0   \n",
       "1950s             287.00    823.0         94.6      0.0  0.0        164.0   \n",
       "\n",
       "energy_source  Waste  \n",
       "decade                \n",
       "1910s           13.2  \n",
       "1920s            0.0  \n",
       "1930s            0.0  \n",
       "1940s            0.0  \n",
       "1950s           48.9  "
      ]
     },
     "execution_count": 57,
     "metadata": {},
     "output_type": "execute_result"
    }
   ],
   "source": [
    "# Create a pivot table to show the amount of commissioned capacity per 'energy_source' per 'decade'\n",
    "conv_pivot_comm_cap_source = pd.pivot_table(conv_comm_cap_source, \n",
    "                                    index = ['decade'], \n",
    "                                    columns = 'energy_source',\n",
    "                                    values = 'commissioned_capacity'\n",
    ")\n",
    "conv_pivot_comm_cap_source\n",
    "# Replace missing values with '0'\n",
    "conv_pivot_comm_cap_source = conv_pivot_comm_cap_source.fillna(0)\n",
    "conv_pivot_comm_cap_source.head()"
   ]
  },
  {
   "cell_type": "code",
   "execution_count": 58,
   "id": "11bd78e4-18b7-4a6d-b4a0-1cc4c574fbad",
   "metadata": {},
   "outputs": [
    {
     "data": {
      "text/html": [
       "<div>\n",
       "<style scoped>\n",
       "    .dataframe tbody tr th:only-of-type {\n",
       "        vertical-align: middle;\n",
       "    }\n",
       "\n",
       "    .dataframe tbody tr th {\n",
       "        vertical-align: top;\n",
       "    }\n",
       "\n",
       "    .dataframe thead th {\n",
       "        text-align: right;\n",
       "    }\n",
       "</style>\n",
       "<table border=\"1\" class=\"dataframe\">\n",
       "  <thead>\n",
       "    <tr style=\"text-align: right;\">\n",
       "      <th></th>\n",
       "      <th>decade</th>\n",
       "      <th>energy_source</th>\n",
       "      <th>state</th>\n",
       "      <th>commissioned_capacity</th>\n",
       "    </tr>\n",
       "  </thead>\n",
       "  <tbody>\n",
       "    <tr>\n",
       "      <th>0</th>\n",
       "      <td>1910s</td>\n",
       "      <td>Lignite</td>\n",
       "      <td>North Rhine-Westphalia</td>\n",
       "      <td>98.0</td>\n",
       "    </tr>\n",
       "    <tr>\n",
       "      <th>1</th>\n",
       "      <td>1910s</td>\n",
       "      <td>Waste</td>\n",
       "      <td>Lower Saxony</td>\n",
       "      <td>13.2</td>\n",
       "    </tr>\n",
       "    <tr>\n",
       "      <th>2</th>\n",
       "      <td>1920s</td>\n",
       "      <td>Hard coal</td>\n",
       "      <td>North Rhine-Westphalia</td>\n",
       "      <td>19.0</td>\n",
       "    </tr>\n",
       "    <tr>\n",
       "      <th>3</th>\n",
       "      <td>1920s</td>\n",
       "      <td>Natural gas</td>\n",
       "      <td>Bavaria</td>\n",
       "      <td>40.0</td>\n",
       "    </tr>\n",
       "    <tr>\n",
       "      <th>4</th>\n",
       "      <td>1920s</td>\n",
       "      <td>Other fuels</td>\n",
       "      <td>North Rhine-Westphalia</td>\n",
       "      <td>38.0</td>\n",
       "    </tr>\n",
       "  </tbody>\n",
       "</table>\n",
       "</div>"
      ],
      "text/plain": [
       "  decade energy_source                   state  commissioned_capacity\n",
       "0  1910s       Lignite  North Rhine-Westphalia                   98.0\n",
       "1  1910s         Waste            Lower Saxony                   13.2\n",
       "2  1920s     Hard coal  North Rhine-Westphalia                   19.0\n",
       "3  1920s   Natural gas                 Bavaria                   40.0\n",
       "4  1920s   Other fuels  North Rhine-Westphalia                   38.0"
      ]
     },
     "execution_count": 58,
     "metadata": {},
     "output_type": "execute_result"
    }
   ],
   "source": [
    "#Group conv_states_comm_source by 'decade', 'energy source' and capacity and 'state', \n",
    "# then calculate the installed capacity\n",
    "conv_states_comm_source.head()\n",
    "\n",
    "conv_comm_cap_source_state = (\n",
    "    conv_states_comm_source\n",
    "    .groupby(['decade', 'energy_source', 'state'])\n",
    "    .agg({'capacity_net_bnetza': 'sum'})\n",
    "    .reset_index()\n",
    ")\n",
    "\n",
    "# Rename column 'capacity_net_bnetza' to 'commissioned_capacity'\n",
    "conv_comm_cap_source_state = conv_comm_cap_source_state.rename(columns = {'capacity_net_bnetza': 'commissioned_capacity'})\n",
    "conv_comm_cap_source_state.head()"
   ]
  },
  {
   "cell_type": "markdown",
   "id": "210e5e67-e1ac-473a-be2e-6be4b8055fc7",
   "metadata": {},
   "source": [
    "### 1.3.3 Analysis of Column 'shutdown'"
   ]
  },
  {
   "cell_type": "markdown",
   "id": "e755cbc0-ddff-4414-bed6-2d214ca8c854",
   "metadata": {},
   "source": [
    "This section examines the decommissioning of conventional power plants in Germany based on the 'shutdown' column, focussing on the amount of shutdowns per decade per energy source as well as the decommissioned capacity (MW) per decade per energy source.  "
   ]
  },
  {
   "cell_type": "code",
   "execution_count": 59,
   "id": "ab3b8530-7c77-4fd3-a0d0-6fd51f339002",
   "metadata": {},
   "outputs": [
    {
     "data": {
      "text/html": [
       "<div>\n",
       "<style scoped>\n",
       "    .dataframe tbody tr th:only-of-type {\n",
       "        vertical-align: middle;\n",
       "    }\n",
       "\n",
       "    .dataframe tbody tr th {\n",
       "        vertical-align: top;\n",
       "    }\n",
       "\n",
       "    .dataframe thead th {\n",
       "        text-align: right;\n",
       "    }\n",
       "</style>\n",
       "<table border=\"1\" class=\"dataframe\">\n",
       "  <thead>\n",
       "    <tr style=\"text-align: right;\">\n",
       "      <th>shutdown</th>\n",
       "      <th>2011</th>\n",
       "      <th>2012</th>\n",
       "      <th>2013</th>\n",
       "      <th>2014</th>\n",
       "      <th>2015</th>\n",
       "      <th>2016</th>\n",
       "      <th>2017</th>\n",
       "      <th>2018</th>\n",
       "      <th>2019</th>\n",
       "    </tr>\n",
       "    <tr>\n",
       "      <th>energy_source</th>\n",
       "      <th></th>\n",
       "      <th></th>\n",
       "      <th></th>\n",
       "      <th></th>\n",
       "      <th></th>\n",
       "      <th></th>\n",
       "      <th></th>\n",
       "      <th></th>\n",
       "      <th></th>\n",
       "    </tr>\n",
       "  </thead>\n",
       "  <tbody>\n",
       "    <tr>\n",
       "      <th>Hard coal</th>\n",
       "      <td>2</td>\n",
       "      <td>4</td>\n",
       "      <td>5</td>\n",
       "      <td>7</td>\n",
       "      <td>3</td>\n",
       "      <td>5</td>\n",
       "      <td>6</td>\n",
       "      <td>7</td>\n",
       "      <td>4</td>\n",
       "    </tr>\n",
       "    <tr>\n",
       "      <th>Lignite</th>\n",
       "      <td>3</td>\n",
       "      <td>12</td>\n",
       "      <td>1</td>\n",
       "      <td>0</td>\n",
       "      <td>1</td>\n",
       "      <td>0</td>\n",
       "      <td>0</td>\n",
       "      <td>0</td>\n",
       "      <td>0</td>\n",
       "    </tr>\n",
       "    <tr>\n",
       "      <th>Natural gas</th>\n",
       "      <td>0</td>\n",
       "      <td>3</td>\n",
       "      <td>1</td>\n",
       "      <td>2</td>\n",
       "      <td>6</td>\n",
       "      <td>8</td>\n",
       "      <td>3</td>\n",
       "      <td>6</td>\n",
       "      <td>4</td>\n",
       "    </tr>\n",
       "    <tr>\n",
       "      <th>Nuclear</th>\n",
       "      <td>0</td>\n",
       "      <td>0</td>\n",
       "      <td>0</td>\n",
       "      <td>0</td>\n",
       "      <td>1</td>\n",
       "      <td>0</td>\n",
       "      <td>1</td>\n",
       "      <td>0</td>\n",
       "      <td>1</td>\n",
       "    </tr>\n",
       "    <tr>\n",
       "      <th>Oil</th>\n",
       "      <td>0</td>\n",
       "      <td>1</td>\n",
       "      <td>0</td>\n",
       "      <td>1</td>\n",
       "      <td>0</td>\n",
       "      <td>0</td>\n",
       "      <td>4</td>\n",
       "      <td>4</td>\n",
       "      <td>0</td>\n",
       "    </tr>\n",
       "    <tr>\n",
       "      <th>Other fuels</th>\n",
       "      <td>0</td>\n",
       "      <td>0</td>\n",
       "      <td>1</td>\n",
       "      <td>0</td>\n",
       "      <td>0</td>\n",
       "      <td>1</td>\n",
       "      <td>0</td>\n",
       "      <td>0</td>\n",
       "      <td>0</td>\n",
       "    </tr>\n",
       "    <tr>\n",
       "      <th>Waste</th>\n",
       "      <td>0</td>\n",
       "      <td>1</td>\n",
       "      <td>1</td>\n",
       "      <td>0</td>\n",
       "      <td>0</td>\n",
       "      <td>0</td>\n",
       "      <td>0</td>\n",
       "      <td>0</td>\n",
       "      <td>0</td>\n",
       "    </tr>\n",
       "  </tbody>\n",
       "</table>\n",
       "</div>"
      ],
      "text/plain": [
       "shutdown       2011  2012  2013  2014  2015  2016  2017  2018  2019\n",
       "energy_source                                                      \n",
       "Hard coal         2     4     5     7     3     5     6     7     4\n",
       "Lignite           3    12     1     0     1     0     0     0     0\n",
       "Natural gas       0     3     1     2     6     8     3     6     4\n",
       "Nuclear           0     0     0     0     1     0     1     0     1\n",
       "Oil               0     1     0     1     0     0     4     4     0\n",
       "Other fuels       0     0     1     0     0     1     0     0     0\n",
       "Waste             0     1     1     0     0     0     0     0     0"
      ]
     },
     "execution_count": 59,
     "metadata": {},
     "output_type": "execute_result"
    }
   ],
   "source": [
    "# Unique values of 'shutdown' column\n",
    "df_conv_power['shutdown'].unique()\n",
    "\n",
    "# Convert shutdown years from datatype float64 to int\n",
    "df_conv_power['shutdown'] = df_conv_power['shutdown'].astype('Int64')\n",
    "\n",
    "#Create a dataframe of power plants that have already been shut down\n",
    "conv_shutdown_plants = df_conv_power[df_conv_power['shutdown'].notna()]\n",
    "\n",
    "# Show frequency of shutdown plants per year and energy source\n",
    "conv_shutdown_plants[['energy_source', 'shutdown']].value_counts()\n",
    "\n",
    "# Group data by year and energy source and count number of shutdown plants\n",
    "conv_shutdown_counts = (\n",
    "    conv_shutdown_plants\n",
    "    .groupby(['energy_source', 'shutdown'])\n",
    "    .size()\n",
    "    .reset_index(name = 'count')\n",
    ")\n",
    "conv_shutdown_counts\n",
    "\n",
    "# Create a pivot table for dataframe shutdown_plants\n",
    "conv_pivot_shutdown_plants = pd.pivot_table(conv_shutdown_counts, \n",
    "                                    index = 'energy_source', \n",
    "                                    columns = 'shutdown',\n",
    "                                    values = 'count'\n",
    "    \n",
    ")\n",
    "\n",
    "# Replace missing values with '0' and convert numbers to integers\n",
    "conv_pivot_shutdown_plants = conv_pivot_shutdown_plants.fillna(0)\n",
    "conv_pivot_shutdown_plants = conv_pivot_shutdown_plants.astype('int64')\n",
    "conv_pivot_shutdown_plants"
   ]
  },
  {
   "cell_type": "markdown",
   "id": "ac09fb87-64f4-448b-aafd-bfd98b4735f2",
   "metadata": {},
   "source": [
    "This pivot table shows the number of conventional power plants shut down per year (2011–2019), categorized by energy source.\n",
    "\n",
    "The data reveals that hard coal plants were consistently decommissioned each year, peaking around 2014–2018, indicating a steady reduction of coal-based power generation. Lignite closures were concentrated mainly in 2012, natural gas shutdowns occurred throughout the period but at a moderate level, while nuclear shutdowns appear only in select years (2015, 2017, 2019), aligning with Germany’s efforts to phase out nuclear energy."
   ]
  },
  {
   "cell_type": "code",
   "execution_count": 61,
   "id": "8528c8cd-e3be-4220-a9a7-8fe16e452f51",
   "metadata": {},
   "outputs": [
    {
     "data": {
      "text/html": [
       "<div>\n",
       "<style scoped>\n",
       "    .dataframe tbody tr th:only-of-type {\n",
       "        vertical-align: middle;\n",
       "    }\n",
       "\n",
       "    .dataframe tbody tr th {\n",
       "        vertical-align: top;\n",
       "    }\n",
       "\n",
       "    .dataframe thead th {\n",
       "        text-align: right;\n",
       "    }\n",
       "</style>\n",
       "<table border=\"1\" class=\"dataframe\">\n",
       "  <thead>\n",
       "    <tr style=\"text-align: right;\">\n",
       "      <th>shutdown</th>\n",
       "      <th>2011</th>\n",
       "      <th>2012</th>\n",
       "      <th>2013</th>\n",
       "      <th>2014</th>\n",
       "      <th>2015</th>\n",
       "      <th>2016</th>\n",
       "      <th>2017</th>\n",
       "      <th>2018</th>\n",
       "      <th>2019</th>\n",
       "    </tr>\n",
       "    <tr>\n",
       "      <th>energy_source</th>\n",
       "      <th></th>\n",
       "      <th></th>\n",
       "      <th></th>\n",
       "      <th></th>\n",
       "      <th></th>\n",
       "      <th></th>\n",
       "      <th></th>\n",
       "      <th></th>\n",
       "      <th></th>\n",
       "    </tr>\n",
       "  </thead>\n",
       "  <tbody>\n",
       "    <tr>\n",
       "      <th>Hard coal</th>\n",
       "      <td>304.0</td>\n",
       "      <td>547.00</td>\n",
       "      <td>684.00</td>\n",
       "      <td>2159.0</td>\n",
       "      <td>708.0</td>\n",
       "      <td>1234.0</td>\n",
       "      <td>2370.4</td>\n",
       "      <td>1289.6</td>\n",
       "      <td>1146.0</td>\n",
       "    </tr>\n",
       "    <tr>\n",
       "      <th>Lignite</th>\n",
       "      <td>383.0</td>\n",
       "      <td>1571.00</td>\n",
       "      <td>60.00</td>\n",
       "      <td>0.0</td>\n",
       "      <td>45.0</td>\n",
       "      <td>0.0</td>\n",
       "      <td>0.0</td>\n",
       "      <td>0.0</td>\n",
       "      <td>0.0</td>\n",
       "    </tr>\n",
       "    <tr>\n",
       "      <th>Natural gas</th>\n",
       "      <td>0.0</td>\n",
       "      <td>91.40</td>\n",
       "      <td>12.20</td>\n",
       "      <td>245.0</td>\n",
       "      <td>624.0</td>\n",
       "      <td>433.4</td>\n",
       "      <td>69.4</td>\n",
       "      <td>282.9</td>\n",
       "      <td>535.5</td>\n",
       "    </tr>\n",
       "    <tr>\n",
       "      <th>Nuclear</th>\n",
       "      <td>0.0</td>\n",
       "      <td>0.00</td>\n",
       "      <td>0.00</td>\n",
       "      <td>0.0</td>\n",
       "      <td>1275.0</td>\n",
       "      <td>0.0</td>\n",
       "      <td>1284.0</td>\n",
       "      <td>0.0</td>\n",
       "      <td>1402.0</td>\n",
       "    </tr>\n",
       "    <tr>\n",
       "      <th>Oil</th>\n",
       "      <td>0.0</td>\n",
       "      <td>30.00</td>\n",
       "      <td>0.00</td>\n",
       "      <td>19.0</td>\n",
       "      <td>0.0</td>\n",
       "      <td>0.0</td>\n",
       "      <td>254.0</td>\n",
       "      <td>149.8</td>\n",
       "      <td>0.0</td>\n",
       "    </tr>\n",
       "    <tr>\n",
       "      <th>Other fuels</th>\n",
       "      <td>0.0</td>\n",
       "      <td>0.00</td>\n",
       "      <td>110.00</td>\n",
       "      <td>0.0</td>\n",
       "      <td>0.0</td>\n",
       "      <td>19.7</td>\n",
       "      <td>0.0</td>\n",
       "      <td>0.0</td>\n",
       "      <td>0.0</td>\n",
       "    </tr>\n",
       "    <tr>\n",
       "      <th>Waste</th>\n",
       "      <td>0.0</td>\n",
       "      <td>5.56</td>\n",
       "      <td>2.78</td>\n",
       "      <td>0.0</td>\n",
       "      <td>0.0</td>\n",
       "      <td>0.0</td>\n",
       "      <td>0.0</td>\n",
       "      <td>0.0</td>\n",
       "      <td>0.0</td>\n",
       "    </tr>\n",
       "  </tbody>\n",
       "</table>\n",
       "</div>"
      ],
      "text/plain": [
       "shutdown        2011     2012    2013    2014    2015    2016    2017    2018  \\\n",
       "energy_source                                                                   \n",
       "Hard coal      304.0   547.00  684.00  2159.0   708.0  1234.0  2370.4  1289.6   \n",
       "Lignite        383.0  1571.00   60.00     0.0    45.0     0.0     0.0     0.0   \n",
       "Natural gas      0.0    91.40   12.20   245.0   624.0   433.4    69.4   282.9   \n",
       "Nuclear          0.0     0.00    0.00     0.0  1275.0     0.0  1284.0     0.0   \n",
       "Oil              0.0    30.00    0.00    19.0     0.0     0.0   254.0   149.8   \n",
       "Other fuels      0.0     0.00  110.00     0.0     0.0    19.7     0.0     0.0   \n",
       "Waste            0.0     5.56    2.78     0.0     0.0     0.0     0.0     0.0   \n",
       "\n",
       "shutdown         2019  \n",
       "energy_source          \n",
       "Hard coal      1146.0  \n",
       "Lignite           0.0  \n",
       "Natural gas     535.5  \n",
       "Nuclear        1402.0  \n",
       "Oil               0.0  \n",
       "Other fuels       0.0  \n",
       "Waste             0.0  "
      ]
     },
     "execution_count": 61,
     "metadata": {},
     "output_type": "execute_result"
    }
   ],
   "source": [
    "# Calculate capacity of shutdown plants per year per energy source\n",
    "# Create a dataframe of power plants that have already been shut down\n",
    "conv_shutdown_cap = df_conv_power[df_conv_power['shutdown'].notna()]\n",
    "\n",
    "conv_shutdown_cap= (\n",
    "    conv_shutdown_cap\n",
    "    .groupby(['energy_source', 'shutdown'])\n",
    "    .agg({'capacity_net_bnetza':'sum'})\n",
    "    .reset_index()\n",
    ")\n",
    "# Rename column 'capacity_net_bnetza' to 'sum_capacity_shutdown'\n",
    "conv_shutdown_cap = conv_shutdown_cap.rename(columns = {'capacity_net_bnetza':'sum_capacity_shutdown'})\n",
    "conv_shutdown_cap\n",
    "\n",
    "# Create a pivot table for dataframe shutdown_cap\n",
    "conv_pivot_shutdown_cap = pd.pivot_table(conv_shutdown_cap, \n",
    "                                       index = 'energy_source',\n",
    "                                        columns = 'shutdown',\n",
    "                                        values = 'sum_capacity_shutdown'\n",
    "                                       )\n",
    "# Replace missing values with '0'\n",
    "conv_pivot_shutdown_cap = conv_pivot_shutdown_cap.fillna(0)\n",
    "conv_pivot_shutdown_cap"
   ]
  },
  {
   "cell_type": "markdown",
   "id": "3b538b76-f511-4824-8b7d-0bdf75155c4e",
   "metadata": {},
   "source": [
    "This pivot table displays the total decommissioned net capacity (in MW) of conventional power plants per year between 2011 and 2019, broken down by energy source.\n",
    "\n",
    "It shows that hard coal plants made up most of the closed capacity, especially in 2014 and 2017. Lignite plants were mostly shut down in 2012, and nuclear shutdowns in 2015, 2017, and 2019 match Germany’s planned nuclear phase-out. Natural gas and oil plants were closed in smaller amounts and at different times, suggesting gradual updates rather than large shutdowns."
   ]
  },
  {
   "cell_type": "markdown",
   "id": "95c7e2f4-cd52-4254-9ef5-b0faab6e9171",
   "metadata": {},
   "source": [
    "## 1.4 Data Visualization: Conventional Power Plants"
   ]
  },
  {
   "cell_type": "markdown",
   "id": "289a8303-924b-4f84-8819-6630c062b86e",
   "metadata": {},
   "source": [
    "This section provides a visual overview of Germany’s conventional power plants. It explores both the number and capacity of power plants across federal states and energy sources, as well as their commissioning and shutdown trends over time.\n",
    "\n",
    "The visualizations include bar charts, pie charts, and violin plots to show how different energy sources contribute to Germany’s conventional energy mix. Additional heatmaps highlight when new plants were commissioned and when older ones were decommissioned, offering insights into long-term shifts from coal and nuclear towards natural gas and other fuels."
   ]
  },
  {
   "cell_type": "markdown",
   "id": "e9fb3e3c-d29a-44c9-911d-26ef71e9a387",
   "metadata": {},
   "source": [
    "### 1.4.1 Visualizations based on the Total Number of Conventional Power Plants in Germany"
   ]
  },
  {
   "cell_type": "markdown",
   "id": "c89e98de-bf6a-4c6e-8dcd-f6982151d81c",
   "metadata": {},
   "source": [
    "#### Bar Chart: Total Number of Conventional Power Plants per State"
   ]
  },
  {
   "cell_type": "code",
   "execution_count": 62,
   "id": "dab617c0-f95d-4160-bc68-da5cae2a2023",
   "metadata": {},
   "outputs": [
    {
     "data": {
      "application/vnd.plotly.v1+json": {
       "config": {
        "plotlyServerURL": "https://plot.ly"
       },
       "data": [
        {
         "hovertemplate": "state=%{x}<br>number_of_plants=%{y}<extra></extra>",
         "legendgroup": "",
         "marker": {
          "color": "#636efa",
          "pattern": {
           "shape": ""
          }
         },
         "name": "",
         "orientation": "v",
         "showlegend": false,
         "textposition": "auto",
         "type": "bar",
         "x": [
          "North Rhine-Westphalia",
          "Bavaria",
          "Baden-Wuerttemberg",
          "Lower Saxony",
          "Brandenburg",
          "Saxony-Anhalt",
          "Hesse",
          "Schleswig-Holstein",
          "Rhineland-Palatinate",
          "Saxony",
          "Berlin",
          "Saarland",
          "Thuringia",
          "Bremen",
          "Mecklenburg-Western Pomerania",
          "Hamburg"
         ],
         "xaxis": "x",
         "y": {
          "_inputArray": {
           "0": 216,
           "1": 94,
           "10": 17,
           "11": 17,
           "12": 14,
           "13": 14,
           "14": 10,
           "15": 7,
           "2": 67,
           "3": 51,
           "4": 40,
           "5": 39,
           "6": 37,
           "7": 26,
           "8": 23,
           "9": 20,
           "bdata": "2ABeAEMAMwAoACcAJQAaABcAFAARABEADgAOAAoABwA=",
           "dtype": "i2",
           "shape": "16"
          },
          "bdata": "2ABeAEMAMwAoACcAJQAaABcAFAARABEADgAOAAoABwA=",
          "dtype": "i2"
         },
         "yaxis": "y"
        }
       ],
       "layout": {
        "autosize": true,
        "barmode": "relative",
        "legend": {
         "tracegroupgap": 0
        },
        "template": {
         "data": {
          "bar": [
           {
            "error_x": {
             "color": "#2a3f5f"
            },
            "error_y": {
             "color": "#2a3f5f"
            },
            "marker": {
             "line": {
              "color": "#E5ECF6",
              "width": 0.5
             },
             "pattern": {
              "fillmode": "overlay",
              "size": 10,
              "solidity": 0.2
             }
            },
            "type": "bar"
           }
          ],
          "barpolar": [
           {
            "marker": {
             "line": {
              "color": "#E5ECF6",
              "width": 0.5
             },
             "pattern": {
              "fillmode": "overlay",
              "size": 10,
              "solidity": 0.2
             }
            },
            "type": "barpolar"
           }
          ],
          "carpet": [
           {
            "aaxis": {
             "endlinecolor": "#2a3f5f",
             "gridcolor": "white",
             "linecolor": "white",
             "minorgridcolor": "white",
             "startlinecolor": "#2a3f5f"
            },
            "baxis": {
             "endlinecolor": "#2a3f5f",
             "gridcolor": "white",
             "linecolor": "white",
             "minorgridcolor": "white",
             "startlinecolor": "#2a3f5f"
            },
            "type": "carpet"
           }
          ],
          "choropleth": [
           {
            "colorbar": {
             "outlinewidth": 0,
             "ticks": ""
            },
            "type": "choropleth"
           }
          ],
          "contour": [
           {
            "colorbar": {
             "outlinewidth": 0,
             "ticks": ""
            },
            "colorscale": [
             [
              0,
              "#0d0887"
             ],
             [
              0.1111111111111111,
              "#46039f"
             ],
             [
              0.2222222222222222,
              "#7201a8"
             ],
             [
              0.3333333333333333,
              "#9c179e"
             ],
             [
              0.4444444444444444,
              "#bd3786"
             ],
             [
              0.5555555555555556,
              "#d8576b"
             ],
             [
              0.6666666666666666,
              "#ed7953"
             ],
             [
              0.7777777777777778,
              "#fb9f3a"
             ],
             [
              0.8888888888888888,
              "#fdca26"
             ],
             [
              1,
              "#f0f921"
             ]
            ],
            "type": "contour"
           }
          ],
          "contourcarpet": [
           {
            "colorbar": {
             "outlinewidth": 0,
             "ticks": ""
            },
            "type": "contourcarpet"
           }
          ],
          "heatmap": [
           {
            "colorbar": {
             "outlinewidth": 0,
             "ticks": ""
            },
            "colorscale": [
             [
              0,
              "#0d0887"
             ],
             [
              0.1111111111111111,
              "#46039f"
             ],
             [
              0.2222222222222222,
              "#7201a8"
             ],
             [
              0.3333333333333333,
              "#9c179e"
             ],
             [
              0.4444444444444444,
              "#bd3786"
             ],
             [
              0.5555555555555556,
              "#d8576b"
             ],
             [
              0.6666666666666666,
              "#ed7953"
             ],
             [
              0.7777777777777778,
              "#fb9f3a"
             ],
             [
              0.8888888888888888,
              "#fdca26"
             ],
             [
              1,
              "#f0f921"
             ]
            ],
            "type": "heatmap"
           }
          ],
          "histogram": [
           {
            "marker": {
             "pattern": {
              "fillmode": "overlay",
              "size": 10,
              "solidity": 0.2
             }
            },
            "type": "histogram"
           }
          ],
          "histogram2d": [
           {
            "colorbar": {
             "outlinewidth": 0,
             "ticks": ""
            },
            "colorscale": [
             [
              0,
              "#0d0887"
             ],
             [
              0.1111111111111111,
              "#46039f"
             ],
             [
              0.2222222222222222,
              "#7201a8"
             ],
             [
              0.3333333333333333,
              "#9c179e"
             ],
             [
              0.4444444444444444,
              "#bd3786"
             ],
             [
              0.5555555555555556,
              "#d8576b"
             ],
             [
              0.6666666666666666,
              "#ed7953"
             ],
             [
              0.7777777777777778,
              "#fb9f3a"
             ],
             [
              0.8888888888888888,
              "#fdca26"
             ],
             [
              1,
              "#f0f921"
             ]
            ],
            "type": "histogram2d"
           }
          ],
          "histogram2dcontour": [
           {
            "colorbar": {
             "outlinewidth": 0,
             "ticks": ""
            },
            "colorscale": [
             [
              0,
              "#0d0887"
             ],
             [
              0.1111111111111111,
              "#46039f"
             ],
             [
              0.2222222222222222,
              "#7201a8"
             ],
             [
              0.3333333333333333,
              "#9c179e"
             ],
             [
              0.4444444444444444,
              "#bd3786"
             ],
             [
              0.5555555555555556,
              "#d8576b"
             ],
             [
              0.6666666666666666,
              "#ed7953"
             ],
             [
              0.7777777777777778,
              "#fb9f3a"
             ],
             [
              0.8888888888888888,
              "#fdca26"
             ],
             [
              1,
              "#f0f921"
             ]
            ],
            "type": "histogram2dcontour"
           }
          ],
          "mesh3d": [
           {
            "colorbar": {
             "outlinewidth": 0,
             "ticks": ""
            },
            "type": "mesh3d"
           }
          ],
          "parcoords": [
           {
            "line": {
             "colorbar": {
              "outlinewidth": 0,
              "ticks": ""
             }
            },
            "type": "parcoords"
           }
          ],
          "pie": [
           {
            "automargin": true,
            "type": "pie"
           }
          ],
          "scatter": [
           {
            "fillpattern": {
             "fillmode": "overlay",
             "size": 10,
             "solidity": 0.2
            },
            "type": "scatter"
           }
          ],
          "scatter3d": [
           {
            "line": {
             "colorbar": {
              "outlinewidth": 0,
              "ticks": ""
             }
            },
            "marker": {
             "colorbar": {
              "outlinewidth": 0,
              "ticks": ""
             }
            },
            "type": "scatter3d"
           }
          ],
          "scattercarpet": [
           {
            "marker": {
             "colorbar": {
              "outlinewidth": 0,
              "ticks": ""
             }
            },
            "type": "scattercarpet"
           }
          ],
          "scattergeo": [
           {
            "marker": {
             "colorbar": {
              "outlinewidth": 0,
              "ticks": ""
             }
            },
            "type": "scattergeo"
           }
          ],
          "scattergl": [
           {
            "marker": {
             "colorbar": {
              "outlinewidth": 0,
              "ticks": ""
             }
            },
            "type": "scattergl"
           }
          ],
          "scattermap": [
           {
            "marker": {
             "colorbar": {
              "outlinewidth": 0,
              "ticks": ""
             }
            },
            "type": "scattermap"
           }
          ],
          "scattermapbox": [
           {
            "marker": {
             "colorbar": {
              "outlinewidth": 0,
              "ticks": ""
             }
            },
            "type": "scattermapbox"
           }
          ],
          "scatterpolar": [
           {
            "marker": {
             "colorbar": {
              "outlinewidth": 0,
              "ticks": ""
             }
            },
            "type": "scatterpolar"
           }
          ],
          "scatterpolargl": [
           {
            "marker": {
             "colorbar": {
              "outlinewidth": 0,
              "ticks": ""
             }
            },
            "type": "scatterpolargl"
           }
          ],
          "scatterternary": [
           {
            "marker": {
             "colorbar": {
              "outlinewidth": 0,
              "ticks": ""
             }
            },
            "type": "scatterternary"
           }
          ],
          "surface": [
           {
            "colorbar": {
             "outlinewidth": 0,
             "ticks": ""
            },
            "colorscale": [
             [
              0,
              "#0d0887"
             ],
             [
              0.1111111111111111,
              "#46039f"
             ],
             [
              0.2222222222222222,
              "#7201a8"
             ],
             [
              0.3333333333333333,
              "#9c179e"
             ],
             [
              0.4444444444444444,
              "#bd3786"
             ],
             [
              0.5555555555555556,
              "#d8576b"
             ],
             [
              0.6666666666666666,
              "#ed7953"
             ],
             [
              0.7777777777777778,
              "#fb9f3a"
             ],
             [
              0.8888888888888888,
              "#fdca26"
             ],
             [
              1,
              "#f0f921"
             ]
            ],
            "type": "surface"
           }
          ],
          "table": [
           {
            "cells": {
             "fill": {
              "color": "#EBF0F8"
             },
             "line": {
              "color": "white"
             }
            },
            "header": {
             "fill": {
              "color": "#C8D4E3"
             },
             "line": {
              "color": "white"
             }
            },
            "type": "table"
           }
          ]
         },
         "layout": {
          "annotationdefaults": {
           "arrowcolor": "#2a3f5f",
           "arrowhead": 0,
           "arrowwidth": 1
          },
          "autotypenumbers": "strict",
          "coloraxis": {
           "colorbar": {
            "outlinewidth": 0,
            "ticks": ""
           }
          },
          "colorscale": {
           "diverging": [
            [
             0,
             "#8e0152"
            ],
            [
             0.1,
             "#c51b7d"
            ],
            [
             0.2,
             "#de77ae"
            ],
            [
             0.3,
             "#f1b6da"
            ],
            [
             0.4,
             "#fde0ef"
            ],
            [
             0.5,
             "#f7f7f7"
            ],
            [
             0.6,
             "#e6f5d0"
            ],
            [
             0.7,
             "#b8e186"
            ],
            [
             0.8,
             "#7fbc41"
            ],
            [
             0.9,
             "#4d9221"
            ],
            [
             1,
             "#276419"
            ]
           ],
           "sequential": [
            [
             0,
             "#0d0887"
            ],
            [
             0.1111111111111111,
             "#46039f"
            ],
            [
             0.2222222222222222,
             "#7201a8"
            ],
            [
             0.3333333333333333,
             "#9c179e"
            ],
            [
             0.4444444444444444,
             "#bd3786"
            ],
            [
             0.5555555555555556,
             "#d8576b"
            ],
            [
             0.6666666666666666,
             "#ed7953"
            ],
            [
             0.7777777777777778,
             "#fb9f3a"
            ],
            [
             0.8888888888888888,
             "#fdca26"
            ],
            [
             1,
             "#f0f921"
            ]
           ],
           "sequentialminus": [
            [
             0,
             "#0d0887"
            ],
            [
             0.1111111111111111,
             "#46039f"
            ],
            [
             0.2222222222222222,
             "#7201a8"
            ],
            [
             0.3333333333333333,
             "#9c179e"
            ],
            [
             0.4444444444444444,
             "#bd3786"
            ],
            [
             0.5555555555555556,
             "#d8576b"
            ],
            [
             0.6666666666666666,
             "#ed7953"
            ],
            [
             0.7777777777777778,
             "#fb9f3a"
            ],
            [
             0.8888888888888888,
             "#fdca26"
            ],
            [
             1,
             "#f0f921"
            ]
           ]
          },
          "colorway": [
           "#636efa",
           "#EF553B",
           "#00cc96",
           "#ab63fa",
           "#FFA15A",
           "#19d3f3",
           "#FF6692",
           "#B6E880",
           "#FF97FF",
           "#FECB52"
          ],
          "font": {
           "color": "#2a3f5f"
          },
          "geo": {
           "bgcolor": "white",
           "lakecolor": "white",
           "landcolor": "#E5ECF6",
           "showlakes": true,
           "showland": true,
           "subunitcolor": "white"
          },
          "hoverlabel": {
           "align": "left"
          },
          "hovermode": "closest",
          "mapbox": {
           "style": "light"
          },
          "paper_bgcolor": "white",
          "plot_bgcolor": "#E5ECF6",
          "polar": {
           "angularaxis": {
            "gridcolor": "white",
            "linecolor": "white",
            "ticks": ""
           },
           "bgcolor": "#E5ECF6",
           "radialaxis": {
            "gridcolor": "white",
            "linecolor": "white",
            "ticks": ""
           }
          },
          "scene": {
           "xaxis": {
            "backgroundcolor": "#E5ECF6",
            "gridcolor": "white",
            "gridwidth": 2,
            "linecolor": "white",
            "showbackground": true,
            "ticks": "",
            "zerolinecolor": "white"
           },
           "yaxis": {
            "backgroundcolor": "#E5ECF6",
            "gridcolor": "white",
            "gridwidth": 2,
            "linecolor": "white",
            "showbackground": true,
            "ticks": "",
            "zerolinecolor": "white"
           },
           "zaxis": {
            "backgroundcolor": "#E5ECF6",
            "gridcolor": "white",
            "gridwidth": 2,
            "linecolor": "white",
            "showbackground": true,
            "ticks": "",
            "zerolinecolor": "white"
           }
          },
          "shapedefaults": {
           "line": {
            "color": "#2a3f5f"
           }
          },
          "ternary": {
           "aaxis": {
            "gridcolor": "white",
            "linecolor": "white",
            "ticks": ""
           },
           "baxis": {
            "gridcolor": "white",
            "linecolor": "white",
            "ticks": ""
           },
           "bgcolor": "#E5ECF6",
           "caxis": {
            "gridcolor": "white",
            "linecolor": "white",
            "ticks": ""
           }
          },
          "title": {
           "x": 0.05
          },
          "xaxis": {
           "automargin": true,
           "gridcolor": "white",
           "linecolor": "white",
           "ticks": "",
           "title": {
            "standoff": 15
           },
           "zerolinecolor": "white",
           "zerolinewidth": 2
          },
          "yaxis": {
           "automargin": true,
           "gridcolor": "white",
           "linecolor": "white",
           "ticks": "",
           "title": {
            "standoff": 15
           },
           "zerolinecolor": "white",
           "zerolinewidth": 2
          }
         }
        },
        "title": {
         "text": "Total Number of Conventional Power Plants per State"
        },
        "xaxis": {
         "anchor": "y",
         "autorange": true,
         "domain": [
          0,
          1
         ],
         "range": [
          -0.5,
          15.5
         ],
         "title": {
          "text": "state"
         },
         "type": "category"
        },
        "yaxis": {
         "anchor": "x",
         "autorange": true,
         "domain": [
          0,
          1
         ],
         "range": [
          0,
          227.3684210526316
         ],
         "title": {
          "text": "number_of_plants"
         },
         "type": "linear"
        }
       }
      },
      "image/png": "[encoded data removed]"
     },
     "metadata": {},
     "output_type": "display_data"
    }
   ],
   "source": [
    "# Create a bar chart showing the total number of power plants per state\n",
    "fig = px.bar(\n",
    "    conv_total_plants_state,\n",
    "    x='state',\n",
    "    y='number_of_plants',\n",
    "    title='Total Number of Conventional Power Plants per State'\n",
    ")\n",
    "fig.show()"
   ]
  },
  {
   "cell_type": "markdown",
   "id": "d6881b20-be76-4f2c-814e-b5f9fe34fe2b",
   "metadata": {},
   "source": [
    "This bar chart shows highly uneven distribution of conventional power plants across German states. North Rhine-Westphalia dominates with over 200 plants - nearly double any other state. Bavaria (100) and Baden-Wuerttemberg (65) form a second tier, while most other states have 10-50 plants each.\n",
    "\n",
    "This pattern reflects industrial heritage and population density, with Germany's conventional power generation geographically concentrated in a few key states rather than being evenly distributed across the country."
   ]
  },
  {
   "cell_type": "markdown",
   "id": "0bf56060-b98a-414e-84e8-737baeccb15e",
   "metadata": {},
   "source": [
    "#### Stacked Bar Chart: Total Number of Conventional Power Plants per State and Energy Source"
   ]
  },
  {
   "cell_type": "code",
   "execution_count": 63,
   "id": "e37e1b97-bd0b-470b-ad71-4f83bdaadbdf",
   "metadata": {},
   "outputs": [
    {
     "data": {
      "application/vnd.plotly.v1+json": {
       "config": {
        "plotlyServerURL": "https://plot.ly"
       },
       "data": [
        {
         "hovertemplate": "energy_source=Natural gas<br>state=%{x}<br>number_of_plants=%{y}<extra></extra>",
         "legendgroup": "Natural gas",
         "marker": {
          "color": "#636efa",
          "pattern": {
           "shape": ""
          }
         },
         "name": "Natural gas",
         "orientation": "v",
         "showlegend": true,
         "textposition": "auto",
         "type": "bar",
         "x": [
          "North Rhine-Westphalia",
          "Bavaria",
          "Lower Saxony",
          "Baden-Wuerttemberg",
          "Hesse",
          "Saxony-Anhalt",
          "Rhineland-Palatinate",
          "Brandenburg",
          "Thuringia",
          "Saxony",
          "Mecklenburg-Western Pomerania",
          "Berlin",
          "Saarland",
          "Schleswig-Holstein",
          "Hamburg",
          "Bremen"
         ],
         "xaxis": "x",
         "y": {
          "_inputArray": {
           "0": 62,
           "1": 51,
           "10": 7,
           "11": 5,
           "12": 4,
           "13": 4,
           "14": 2,
           "15": 2,
           "2": 28,
           "3": 22,
           "4": 19,
           "5": 17,
           "6": 15,
           "7": 14,
           "8": 11,
           "9": 9,
           "bdata": "PjMcFhMRDw4LCQcFBAQCAg==",
           "dtype": "i1",
           "shape": "16"
          },
          "bdata": "PjMcFhMRDw4LCQcFBAQCAg==",
          "dtype": "i1"
         },
         "yaxis": "y"
        },
        {
         "hovertemplate": "energy_source=Lignite<br>state=%{x}<br>number_of_plants=%{y}<extra></extra>",
         "legendgroup": "Lignite",
         "marker": {
          "color": "#EF553B",
          "pattern": {
           "shape": ""
          }
         },
         "name": "Lignite",
         "orientation": "v",
         "showlegend": true,
         "textposition": "auto",
         "type": "bar",
         "x": [
          "North Rhine-Westphalia",
          "Brandenburg",
          "Saxony",
          "Saxony-Anhalt",
          "Lower Saxony",
          "Hesse"
         ],
         "xaxis": "x",
         "y": {
          "_inputArray": {
           "0": 33,
           "1": 9,
           "2": 8,
           "3": 7,
           "4": 1,
           "5": 1,
           "bdata": "IQkIBwEB",
           "dtype": "i1",
           "shape": "6"
          },
          "bdata": "IQkIBwEB",
          "dtype": "i1"
         },
         "yaxis": "y"
        },
        {
         "hovertemplate": "energy_source=Waste<br>state=%{x}<br>number_of_plants=%{y}<extra></extra>",
         "legendgroup": "Waste",
         "marker": {
          "color": "#00cc96",
          "pattern": {
           "shape": ""
          }
         },
         "name": "Waste",
         "orientation": "v",
         "showlegend": true,
         "textposition": "auto",
         "type": "bar",
         "x": [
          "North Rhine-Westphalia",
          "Bavaria",
          "Saxony-Anhalt",
          "Baden-Wuerttemberg",
          "Brandenburg",
          "Rhineland-Palatinate",
          "Hesse",
          "Bremen",
          "Lower Saxony",
          "Saarland",
          "Berlin",
          "Hamburg",
          "Mecklenburg-Western Pomerania",
          "Saxony",
          "Schleswig-Holstein",
          "Thuringia"
         ],
         "xaxis": "x",
         "y": {
          "_inputArray": {
           "0": 22,
           "1": 11,
           "10": 1,
           "11": 1,
           "12": 1,
           "13": 1,
           "14": 1,
           "15": 1,
           "2": 8,
           "3": 8,
           "4": 6,
           "5": 5,
           "6": 5,
           "7": 3,
           "8": 3,
           "9": 2,
           "bdata": "FgsICAYFBQMDAgEBAQEBAQ==",
           "dtype": "i1",
           "shape": "16"
          },
          "bdata": "FgsICAYFBQMDAgEBAQEBAQ==",
          "dtype": "i1"
         },
         "yaxis": "y"
        },
        {
         "hovertemplate": "energy_source=Other fuels<br>state=%{x}<br>number_of_plants=%{y}<extra></extra>",
         "legendgroup": "Other fuels",
         "marker": {
          "color": "#ab63fa",
          "pattern": {
           "shape": ""
          }
         },
         "name": "Other fuels",
         "orientation": "v",
         "showlegend": true,
         "textposition": "auto",
         "type": "bar",
         "x": [
          "North Rhine-Westphalia",
          "Saarland",
          "Bavaria",
          "Lower Saxony",
          "Schleswig-Holstein",
          "Saxony-Anhalt",
          "Brandenburg",
          "Bremen",
          "Rhineland-Palatinate",
          "Mecklenburg-Western Pomerania",
          "Hesse"
         ],
         "xaxis": "x",
         "y": {
          "_inputArray": {
           "0": 19,
           "1": 4,
           "10": 1,
           "2": 3,
           "3": 3,
           "4": 3,
           "5": 3,
           "6": 3,
           "7": 2,
           "8": 2,
           "9": 1,
           "bdata": "EwQDAwMDAwICAQE=",
           "dtype": "i1",
           "shape": "11"
          },
          "bdata": "EwQDAwMDAwICAQE=",
          "dtype": "i1"
         },
         "yaxis": "y"
        },
        {
         "hovertemplate": "energy_source=Hard coal<br>state=%{x}<br>number_of_plants=%{y}<extra></extra>",
         "legendgroup": "Hard coal",
         "marker": {
          "color": "#FFA15A",
          "pattern": {
           "shape": ""
          }
         },
         "name": "Hard coal",
         "orientation": "v",
         "showlegend": true,
         "textposition": "auto",
         "type": "bar",
         "x": [
          "North Rhine-Westphalia",
          "Baden-Wuerttemberg",
          "Lower Saxony",
          "Hesse",
          "Saarland",
          "Schleswig-Holstein",
          "Bavaria",
          "Berlin",
          "Bremen",
          "Hamburg",
          "Mecklenburg-Western Pomerania",
          "Rhineland-Palatinate"
         ],
         "xaxis": "x",
         "y": {
          "_inputArray": {
           "0": 18,
           "1": 17,
           "10": 1,
           "11": 1,
           "2": 11,
           "3": 5,
           "4": 5,
           "5": 5,
           "6": 4,
           "7": 3,
           "8": 3,
           "9": 3,
           "bdata": "EhELBQUFBAMDAwEB",
           "dtype": "i1",
           "shape": "12"
          },
          "bdata": "EhELBQUFBAMDAwEB",
          "dtype": "i1"
         },
         "yaxis": "y"
        },
        {
         "hovertemplate": "energy_source=Oil<br>state=%{x}<br>number_of_plants=%{y}<extra></extra>",
         "legendgroup": "Oil",
         "marker": {
          "color": "#19d3f3",
          "pattern": {
           "shape": ""
          }
         },
         "name": "Oil",
         "orientation": "v",
         "showlegend": true,
         "textposition": "auto",
         "type": "bar",
         "x": [
          "Bavaria",
          "Baden-Wuerttemberg",
          "North Rhine-Westphalia",
          "Brandenburg",
          "Schleswig-Holstein",
          "Saxony-Anhalt",
          "Berlin",
          "Lower Saxony",
          "Hesse",
          "Bremen",
          "Saxony"
         ],
         "xaxis": "x",
         "y": {
          "_inputArray": {
           "0": 13,
           "1": 9,
           "10": 1,
           "2": 7,
           "3": 5,
           "4": 4,
           "5": 2,
           "6": 2,
           "7": 1,
           "8": 1,
           "9": 1,
           "bdata": "DQkHBQQCAgEBAQE=",
           "dtype": "i1",
           "shape": "11"
          },
          "bdata": "DQkHBQQCAgEBAQE=",
          "dtype": "i1"
         },
         "yaxis": "y"
        },
        {
         "hovertemplate": "energy_source=Nuclear<br>state=%{x}<br>number_of_plants=%{y}<extra></extra>",
         "legendgroup": "Nuclear",
         "marker": {
          "color": "#FF6692",
          "pattern": {
           "shape": ""
          }
         },
         "name": "Nuclear",
         "orientation": "v",
         "showlegend": true,
         "textposition": "auto",
         "type": "bar",
         "x": [
          "Bavaria",
          "Lower Saxony",
          "Baden-Wuerttemberg",
          "Schleswig-Holstein"
         ],
         "xaxis": "x",
         "y": {
          "_inputArray": {
           "0": 2,
           "1": 2,
           "2": 1,
           "3": 1,
           "bdata": "AgIBAQ==",
           "dtype": "i1",
           "shape": "4"
          },
          "bdata": "AgIBAQ==",
          "dtype": "i1"
         },
         "yaxis": "y"
        }
       ],
       "layout": {
        "autosize": true,
        "barmode": "relative",
        "legend": {
         "title": {
          "text": "energy_source"
         },
         "tracegroupgap": 0
        },
        "template": {
         "data": {
          "bar": [
           {
            "error_x": {
             "color": "#2a3f5f"
            },
            "error_y": {
             "color": "#2a3f5f"
            },
            "marker": {
             "line": {
              "color": "#E5ECF6",
              "width": 0.5
             },
             "pattern": {
              "fillmode": "overlay",
              "size": 10,
              "solidity": 0.2
             }
            },
            "type": "bar"
           }
          ],
          "barpolar": [
           {
            "marker": {
             "line": {
              "color": "#E5ECF6",
              "width": 0.5
             },
             "pattern": {
              "fillmode": "overlay",
              "size": 10,
              "solidity": 0.2
             }
            },
            "type": "barpolar"
           }
          ],
          "carpet": [
           {
            "aaxis": {
             "endlinecolor": "#2a3f5f",
             "gridcolor": "white",
             "linecolor": "white",
             "minorgridcolor": "white",
             "startlinecolor": "#2a3f5f"
            },
            "baxis": {
             "endlinecolor": "#2a3f5f",
             "gridcolor": "white",
             "linecolor": "white",
             "minorgridcolor": "white",
             "startlinecolor": "#2a3f5f"
            },
            "type": "carpet"
           }
          ],
          "choropleth": [
           {
            "colorbar": {
             "outlinewidth": 0,
             "ticks": ""
            },
            "type": "choropleth"
           }
          ],
          "contour": [
           {
            "colorbar": {
             "outlinewidth": 0,
             "ticks": ""
            },
            "colorscale": [
             [
              0,
              "#0d0887"
             ],
             [
              0.1111111111111111,
              "#46039f"
             ],
             [
              0.2222222222222222,
              "#7201a8"
             ],
             [
              0.3333333333333333,
              "#9c179e"
             ],
             [
              0.4444444444444444,
              "#bd3786"
             ],
             [
              0.5555555555555556,
              "#d8576b"
             ],
             [
              0.6666666666666666,
              "#ed7953"
             ],
             [
              0.7777777777777778,
              "#fb9f3a"
             ],
             [
              0.8888888888888888,
              "#fdca26"
             ],
             [
              1,
              "#f0f921"
             ]
            ],
            "type": "contour"
           }
          ],
          "contourcarpet": [
           {
            "colorbar": {
             "outlinewidth": 0,
             "ticks": ""
            },
            "type": "contourcarpet"
           }
          ],
          "heatmap": [
           {
            "colorbar": {
             "outlinewidth": 0,
             "ticks": ""
            },
            "colorscale": [
             [
              0,
              "#0d0887"
             ],
             [
              0.1111111111111111,
              "#46039f"
             ],
             [
              0.2222222222222222,
              "#7201a8"
             ],
             [
              0.3333333333333333,
              "#9c179e"
             ],
             [
              0.4444444444444444,
              "#bd3786"
             ],
             [
              0.5555555555555556,
              "#d8576b"
             ],
             [
              0.6666666666666666,
              "#ed7953"
             ],
             [
              0.7777777777777778,
              "#fb9f3a"
             ],
             [
              0.8888888888888888,
              "#fdca26"
             ],
             [
              1,
              "#f0f921"
             ]
            ],
            "type": "heatmap"
           }
          ],
          "histogram": [
           {
            "marker": {
             "pattern": {
              "fillmode": "overlay",
              "size": 10,
              "solidity": 0.2
             }
            },
            "type": "histogram"
           }
          ],
          "histogram2d": [
           {
            "colorbar": {
             "outlinewidth": 0,
             "ticks": ""
            },
            "colorscale": [
             [
              0,
              "#0d0887"
             ],
             [
              0.1111111111111111,
              "#46039f"
             ],
             [
              0.2222222222222222,
              "#7201a8"
             ],
             [
              0.3333333333333333,
              "#9c179e"
             ],
             [
              0.4444444444444444,
              "#bd3786"
             ],
             [
              0.5555555555555556,
              "#d8576b"
             ],
             [
              0.6666666666666666,
              "#ed7953"
             ],
             [
              0.7777777777777778,
              "#fb9f3a"
             ],
             [
              0.8888888888888888,
              "#fdca26"
             ],
             [
              1,
              "#f0f921"
             ]
            ],
            "type": "histogram2d"
           }
          ],
          "histogram2dcontour": [
           {
            "colorbar": {
             "outlinewidth": 0,
             "ticks": ""
            },
            "colorscale": [
             [
              0,
              "#0d0887"
             ],
             [
              0.1111111111111111,
              "#46039f"
             ],
             [
              0.2222222222222222,
              "#7201a8"
             ],
             [
              0.3333333333333333,
              "#9c179e"
             ],
             [
              0.4444444444444444,
              "#bd3786"
             ],
             [
              0.5555555555555556,
              "#d8576b"
             ],
             [
              0.6666666666666666,
              "#ed7953"
             ],
             [
              0.7777777777777778,
              "#fb9f3a"
             ],
             [
              0.8888888888888888,
              "#fdca26"
             ],
             [
              1,
              "#f0f921"
             ]
            ],
            "type": "histogram2dcontour"
           }
          ],
          "mesh3d": [
           {
            "colorbar": {
             "outlinewidth": 0,
             "ticks": ""
            },
            "type": "mesh3d"
           }
          ],
          "parcoords": [
           {
            "line": {
             "colorbar": {
              "outlinewidth": 0,
              "ticks": ""
             }
            },
            "type": "parcoords"
           }
          ],
          "pie": [
           {
            "automargin": true,
            "type": "pie"
           }
          ],
          "scatter": [
           {
            "fillpattern": {
             "fillmode": "overlay",
             "size": 10,
             "solidity": 0.2
            },
            "type": "scatter"
           }
          ],
          "scatter3d": [
           {
            "line": {
             "colorbar": {
              "outlinewidth": 0,
              "ticks": ""
             }
            },
            "marker": {
             "colorbar": {
              "outlinewidth": 0,
              "ticks": ""
             }
            },
            "type": "scatter3d"
           }
          ],
          "scattercarpet": [
           {
            "marker": {
             "colorbar": {
              "outlinewidth": 0,
              "ticks": ""
             }
            },
            "type": "scattercarpet"
           }
          ],
          "scattergeo": [
           {
            "marker": {
             "colorbar": {
              "outlinewidth": 0,
              "ticks": ""
             }
            },
            "type": "scattergeo"
           }
          ],
          "scattergl": [
           {
            "marker": {
             "colorbar": {
              "outlinewidth": 0,
              "ticks": ""
             }
            },
            "type": "scattergl"
           }
          ],
          "scattermap": [
           {
            "marker": {
             "colorbar": {
              "outlinewidth": 0,
              "ticks": ""
             }
            },
            "type": "scattermap"
           }
          ],
          "scattermapbox": [
           {
            "marker": {
             "colorbar": {
              "outlinewidth": 0,
              "ticks": ""
             }
            },
            "type": "scattermapbox"
           }
          ],
          "scatterpolar": [
           {
            "marker": {
             "colorbar": {
              "outlinewidth": 0,
              "ticks": ""
             }
            },
            "type": "scatterpolar"
           }
          ],
          "scatterpolargl": [
           {
            "marker": {
             "colorbar": {
              "outlinewidth": 0,
              "ticks": ""
             }
            },
            "type": "scatterpolargl"
           }
          ],
          "scatterternary": [
           {
            "marker": {
             "colorbar": {
              "outlinewidth": 0,
              "ticks": ""
             }
            },
            "type": "scatterternary"
           }
          ],
          "surface": [
           {
            "colorbar": {
             "outlinewidth": 0,
             "ticks": ""
            },
            "colorscale": [
             [
              0,
              "#0d0887"
             ],
             [
              0.1111111111111111,
              "#46039f"
             ],
             [
              0.2222222222222222,
              "#7201a8"
             ],
             [
              0.3333333333333333,
              "#9c179e"
             ],
             [
              0.4444444444444444,
              "#bd3786"
             ],
             [
              0.5555555555555556,
              "#d8576b"
             ],
             [
              0.6666666666666666,
              "#ed7953"
             ],
             [
              0.7777777777777778,
              "#fb9f3a"
             ],
             [
              0.8888888888888888,
              "#fdca26"
             ],
             [
              1,
              "#f0f921"
             ]
            ],
            "type": "surface"
           }
          ],
          "table": [
           {
            "cells": {
             "fill": {
              "color": "#EBF0F8"
             },
             "line": {
              "color": "white"
             }
            },
            "header": {
             "fill": {
              "color": "#C8D4E3"
             },
             "line": {
              "color": "white"
             }
            },
            "type": "table"
           }
          ]
         },
         "layout": {
          "annotationdefaults": {
           "arrowcolor": "#2a3f5f",
           "arrowhead": 0,
           "arrowwidth": 1
          },
          "autotypenumbers": "strict",
          "coloraxis": {
           "colorbar": {
            "outlinewidth": 0,
            "ticks": ""
           }
          },
          "colorscale": {
           "diverging": [
            [
             0,
             "#8e0152"
            ],
            [
             0.1,
             "#c51b7d"
            ],
            [
             0.2,
             "#de77ae"
            ],
            [
             0.3,
             "#f1b6da"
            ],
            [
             0.4,
             "#fde0ef"
            ],
            [
             0.5,
             "#f7f7f7"
            ],
            [
             0.6,
             "#e6f5d0"
            ],
            [
             0.7,
             "#b8e186"
            ],
            [
             0.8,
             "#7fbc41"
            ],
            [
             0.9,
             "#4d9221"
            ],
            [
             1,
             "#276419"
            ]
           ],
           "sequential": [
            [
             0,
             "#0d0887"
            ],
            [
             0.1111111111111111,
             "#46039f"
            ],
            [
             0.2222222222222222,
             "#7201a8"
            ],
            [
             0.3333333333333333,
             "#9c179e"
            ],
            [
             0.4444444444444444,
             "#bd3786"
            ],
            [
             0.5555555555555556,
             "#d8576b"
            ],
            [
             0.6666666666666666,
             "#ed7953"
            ],
            [
             0.7777777777777778,
             "#fb9f3a"
            ],
            [
             0.8888888888888888,
             "#fdca26"
            ],
            [
             1,
             "#f0f921"
            ]
           ],
           "sequentialminus": [
            [
             0,
             "#0d0887"
            ],
            [
             0.1111111111111111,
             "#46039f"
            ],
            [
             0.2222222222222222,
             "#7201a8"
            ],
            [
             0.3333333333333333,
             "#9c179e"
            ],
            [
             0.4444444444444444,
             "#bd3786"
            ],
            [
             0.5555555555555556,
             "#d8576b"
            ],
            [
             0.6666666666666666,
             "#ed7953"
            ],
            [
             0.7777777777777778,
             "#fb9f3a"
            ],
            [
             0.8888888888888888,
             "#fdca26"
            ],
            [
             1,
             "#f0f921"
            ]
           ]
          },
          "colorway": [
           "#636efa",
           "#EF553B",
           "#00cc96",
           "#ab63fa",
           "#FFA15A",
           "#19d3f3",
           "#FF6692",
           "#B6E880",
           "#FF97FF",
           "#FECB52"
          ],
          "font": {
           "color": "#2a3f5f"
          },
          "geo": {
           "bgcolor": "white",
           "lakecolor": "white",
           "landcolor": "#E5ECF6",
           "showlakes": true,
           "showland": true,
           "subunitcolor": "white"
          },
          "hoverlabel": {
           "align": "left"
          },
          "hovermode": "closest",
          "mapbox": {
           "style": "light"
          },
          "paper_bgcolor": "white",
          "plot_bgcolor": "#E5ECF6",
          "polar": {
           "angularaxis": {
            "gridcolor": "white",
            "linecolor": "white",
            "ticks": ""
           },
           "bgcolor": "#E5ECF6",
           "radialaxis": {
            "gridcolor": "white",
            "linecolor": "white",
            "ticks": ""
           }
          },
          "scene": {
           "xaxis": {
            "backgroundcolor": "#E5ECF6",
            "gridcolor": "white",
            "gridwidth": 2,
            "linecolor": "white",
            "showbackground": true,
            "ticks": "",
            "zerolinecolor": "white"
           },
           "yaxis": {
            "backgroundcolor": "#E5ECF6",
            "gridcolor": "white",
            "gridwidth": 2,
            "linecolor": "white",
            "showbackground": true,
            "ticks": "",
            "zerolinecolor": "white"
           },
           "zaxis": {
            "backgroundcolor": "#E5ECF6",
            "gridcolor": "white",
            "gridwidth": 2,
            "linecolor": "white",
            "showbackground": true,
            "ticks": "",
            "zerolinecolor": "white"
           }
          },
          "shapedefaults": {
           "line": {
            "color": "#2a3f5f"
           }
          },
          "ternary": {
           "aaxis": {
            "gridcolor": "white",
            "linecolor": "white",
            "ticks": ""
           },
           "baxis": {
            "gridcolor": "white",
            "linecolor": "white",
            "ticks": ""
           },
           "bgcolor": "#E5ECF6",
           "caxis": {
            "gridcolor": "white",
            "linecolor": "white",
            "ticks": ""
           }
          },
          "title": {
           "x": 0.05
          },
          "xaxis": {
           "automargin": true,
           "gridcolor": "white",
           "linecolor": "white",
           "ticks": "",
           "title": {
            "standoff": 15
           },
           "zerolinecolor": "white",
           "zerolinewidth": 2
          },
          "yaxis": {
           "automargin": true,
           "gridcolor": "white",
           "linecolor": "white",
           "ticks": "",
           "title": {
            "standoff": 15
           },
           "zerolinecolor": "white",
           "zerolinewidth": 2
          }
         }
        },
        "title": {
         "text": "Total Number of Conventional Power Plants per State per Energy Source"
        },
        "xaxis": {
         "anchor": "y",
         "autorange": true,
         "domain": [
          0,
          1
         ],
         "range": [
          -0.5,
          15.5
         ],
         "title": {
          "text": "state"
         },
         "type": "category"
        },
        "yaxis": {
         "anchor": "x",
         "autorange": true,
         "domain": [
          0,
          1
         ],
         "range": [
          0,
          169.47368421052633
         ],
         "title": {
          "text": "number_of_plants"
         },
         "type": "linear"
        }
       }
      },
      "image/png": "[encoded data removed]"
     },
     "metadata": {},
     "output_type": "display_data"
    }
   ],
   "source": [
    "# Create a stacked bar chart incorporating the different energy sources per state \n",
    "fig = px.bar(\n",
    "    conv_number_plants_states_sources,\n",
    "    x='state',\n",
    "    y='number_of_plants',\n",
    "    color = 'energy_source',\n",
    "    title='Total Number of Conventional Power Plants per State per Energy Source'\n",
    ")\n",
    "fig.show()"
   ]
  },
  {
   "cell_type": "markdown",
   "id": "30135a39-71b2-44da-b32e-9a5a845b80f5",
   "metadata": {},
   "source": [
    "This stacked bar chart reveals both quantity and energy mix patterns across German states. NNorth Rhine-Westphalia's dominance is even more apparent, with substantial representation across all energy sources - particularly natural gas (blue), lignite (red), and hard coal (orange).\n",
    "\n",
    "Natural gas dominates most states (large blue sections), while lignite and hard coal are concentrated in specific regions like North Rhine-Westphalia, Brandenburg, and Saxoxny. Smaller states show simpler energy mixes, often relying primarily on one or two sources. This highlights regional energy specialization - industrial states maintain diverse conventional portfolios while smaller states focus on specific technologies."
   ]
  },
  {
   "cell_type": "markdown",
   "id": "0575c47a-98c4-4165-8d0d-f4d09d508d5d",
   "metadata": {},
   "source": [
    "#### Pie Chart: Distribution of Conventional Energy Sources across Germany by Number of Power Plants"
   ]
  },
  {
   "cell_type": "code",
   "execution_count": 64,
   "id": "ce444410-e322-4674-be9c-c7887f6528d2",
   "metadata": {},
   "outputs": [
    {
     "data": {
      "application/vnd.plotly.v1+json": {
       "config": {
        "plotlyServerURL": "https://plot.ly"
       },
       "data": [
        {
         "domain": {
          "x": [
           0,
           1
          ],
          "y": [
           0,
           1
          ]
         },
         "hovertemplate": "energy_source=%{label}<br>number_of_plants=%{value}<extra></extra>",
         "labels": [
          "Natural gas",
          "Waste",
          "Hard coal",
          "Lignite",
          "Oil",
          "Other fuels",
          "Nuclear"
         ],
         "legendgroup": "",
         "name": "",
         "showlegend": true,
         "type": "pie",
         "values": {
          "_inputArray": {
           "0": 272,
           "1": 79,
           "2": 76,
           "3": 59,
           "4": 46,
           "5": 44,
           "6": 6,
           "bdata": "EAFPAEwAOwAuACwABgA=",
           "dtype": "i2",
           "shape": "7"
          },
          "bdata": "EAFPAEwAOwAuACwABgA=",
          "dtype": "i2"
         }
        }
       ],
       "layout": {
        "autosize": true,
        "legend": {
         "tracegroupgap": 0
        },
        "template": {
         "data": {
          "bar": [
           {
            "error_x": {
             "color": "#2a3f5f"
            },
            "error_y": {
             "color": "#2a3f5f"
            },
            "marker": {
             "line": {
              "color": "#E5ECF6",
              "width": 0.5
             },
             "pattern": {
              "fillmode": "overlay",
              "size": 10,
              "solidity": 0.2
             }
            },
            "type": "bar"
           }
          ],
          "barpolar": [
           {
            "marker": {
             "line": {
              "color": "#E5ECF6",
              "width": 0.5
             },
             "pattern": {
              "fillmode": "overlay",
              "size": 10,
              "solidity": 0.2
             }
            },
            "type": "barpolar"
           }
          ],
          "carpet": [
           {
            "aaxis": {
             "endlinecolor": "#2a3f5f",
             "gridcolor": "white",
             "linecolor": "white",
             "minorgridcolor": "white",
             "startlinecolor": "#2a3f5f"
            },
            "baxis": {
             "endlinecolor": "#2a3f5f",
             "gridcolor": "white",
             "linecolor": "white",
             "minorgridcolor": "white",
             "startlinecolor": "#2a3f5f"
            },
            "type": "carpet"
           }
          ],
          "choropleth": [
           {
            "colorbar": {
             "outlinewidth": 0,
             "ticks": ""
            },
            "type": "choropleth"
           }
          ],
          "contour": [
           {
            "colorbar": {
             "outlinewidth": 0,
             "ticks": ""
            },
            "colorscale": [
             [
              0,
              "#0d0887"
             ],
             [
              0.1111111111111111,
              "#46039f"
             ],
             [
              0.2222222222222222,
              "#7201a8"
             ],
             [
              0.3333333333333333,
              "#9c179e"
             ],
             [
              0.4444444444444444,
              "#bd3786"
             ],
             [
              0.5555555555555556,
              "#d8576b"
             ],
             [
              0.6666666666666666,
              "#ed7953"
             ],
             [
              0.7777777777777778,
              "#fb9f3a"
             ],
             [
              0.8888888888888888,
              "#fdca26"
             ],
             [
              1,
              "#f0f921"
             ]
            ],
            "type": "contour"
           }
          ],
          "contourcarpet": [
           {
            "colorbar": {
             "outlinewidth": 0,
             "ticks": ""
            },
            "type": "contourcarpet"
           }
          ],
          "heatmap": [
           {
            "colorbar": {
             "outlinewidth": 0,
             "ticks": ""
            },
            "colorscale": [
             [
              0,
              "#0d0887"
             ],
             [
              0.1111111111111111,
              "#46039f"
             ],
             [
              0.2222222222222222,
              "#7201a8"
             ],
             [
              0.3333333333333333,
              "#9c179e"
             ],
             [
              0.4444444444444444,
              "#bd3786"
             ],
             [
              0.5555555555555556,
              "#d8576b"
             ],
             [
              0.6666666666666666,
              "#ed7953"
             ],
             [
              0.7777777777777778,
              "#fb9f3a"
             ],
             [
              0.8888888888888888,
              "#fdca26"
             ],
             [
              1,
              "#f0f921"
             ]
            ],
            "type": "heatmap"
           }
          ],
          "histogram": [
           {
            "marker": {
             "pattern": {
              "fillmode": "overlay",
              "size": 10,
              "solidity": 0.2
             }
            },
            "type": "histogram"
           }
          ],
          "histogram2d": [
           {
            "colorbar": {
             "outlinewidth": 0,
             "ticks": ""
            },
            "colorscale": [
             [
              0,
              "#0d0887"
             ],
             [
              0.1111111111111111,
              "#46039f"
             ],
             [
              0.2222222222222222,
              "#7201a8"
             ],
             [
              0.3333333333333333,
              "#9c179e"
             ],
             [
              0.4444444444444444,
              "#bd3786"
             ],
             [
              0.5555555555555556,
              "#d8576b"
             ],
             [
              0.6666666666666666,
              "#ed7953"
             ],
             [
              0.7777777777777778,
              "#fb9f3a"
             ],
             [
              0.8888888888888888,
              "#fdca26"
             ],
             [
              1,
              "#f0f921"
             ]
            ],
            "type": "histogram2d"
           }
          ],
          "histogram2dcontour": [
           {
            "colorbar": {
             "outlinewidth": 0,
             "ticks": ""
            },
            "colorscale": [
             [
              0,
              "#0d0887"
             ],
             [
              0.1111111111111111,
              "#46039f"
             ],
             [
              0.2222222222222222,
              "#7201a8"
             ],
             [
              0.3333333333333333,
              "#9c179e"
             ],
             [
              0.4444444444444444,
              "#bd3786"
             ],
             [
              0.5555555555555556,
              "#d8576b"
             ],
             [
              0.6666666666666666,
              "#ed7953"
             ],
             [
              0.7777777777777778,
              "#fb9f3a"
             ],
             [
              0.8888888888888888,
              "#fdca26"
             ],
             [
              1,
              "#f0f921"
             ]
            ],
            "type": "histogram2dcontour"
           }
          ],
          "mesh3d": [
           {
            "colorbar": {
             "outlinewidth": 0,
             "ticks": ""
            },
            "type": "mesh3d"
           }
          ],
          "parcoords": [
           {
            "line": {
             "colorbar": {
              "outlinewidth": 0,
              "ticks": ""
             }
            },
            "type": "parcoords"
           }
          ],
          "pie": [
           {
            "automargin": true,
            "type": "pie"
           }
          ],
          "scatter": [
           {
            "fillpattern": {
             "fillmode": "overlay",
             "size": 10,
             "solidity": 0.2
            },
            "type": "scatter"
           }
          ],
          "scatter3d": [
           {
            "line": {
             "colorbar": {
              "outlinewidth": 0,
              "ticks": ""
             }
            },
            "marker": {
             "colorbar": {
              "outlinewidth": 0,
              "ticks": ""
             }
            },
            "type": "scatter3d"
           }
          ],
          "scattercarpet": [
           {
            "marker": {
             "colorbar": {
              "outlinewidth": 0,
              "ticks": ""
             }
            },
            "type": "scattercarpet"
           }
          ],
          "scattergeo": [
           {
            "marker": {
             "colorbar": {
              "outlinewidth": 0,
              "ticks": ""
             }
            },
            "type": "scattergeo"
           }
          ],
          "scattergl": [
           {
            "marker": {
             "colorbar": {
              "outlinewidth": 0,
              "ticks": ""
             }
            },
            "type": "scattergl"
           }
          ],
          "scattermap": [
           {
            "marker": {
             "colorbar": {
              "outlinewidth": 0,
              "ticks": ""
             }
            },
            "type": "scattermap"
           }
          ],
          "scattermapbox": [
           {
            "marker": {
             "colorbar": {
              "outlinewidth": 0,
              "ticks": ""
             }
            },
            "type": "scattermapbox"
           }
          ],
          "scatterpolar": [
           {
            "marker": {
             "colorbar": {
              "outlinewidth": 0,
              "ticks": ""
             }
            },
            "type": "scatterpolar"
           }
          ],
          "scatterpolargl": [
           {
            "marker": {
             "colorbar": {
              "outlinewidth": 0,
              "ticks": ""
             }
            },
            "type": "scatterpolargl"
           }
          ],
          "scatterternary": [
           {
            "marker": {
             "colorbar": {
              "outlinewidth": 0,
              "ticks": ""
             }
            },
            "type": "scatterternary"
           }
          ],
          "surface": [
           {
            "colorbar": {
             "outlinewidth": 0,
             "ticks": ""
            },
            "colorscale": [
             [
              0,
              "#0d0887"
             ],
             [
              0.1111111111111111,
              "#46039f"
             ],
             [
              0.2222222222222222,
              "#7201a8"
             ],
             [
              0.3333333333333333,
              "#9c179e"
             ],
             [
              0.4444444444444444,
              "#bd3786"
             ],
             [
              0.5555555555555556,
              "#d8576b"
             ],
             [
              0.6666666666666666,
              "#ed7953"
             ],
             [
              0.7777777777777778,
              "#fb9f3a"
             ],
             [
              0.8888888888888888,
              "#fdca26"
             ],
             [
              1,
              "#f0f921"
             ]
            ],
            "type": "surface"
           }
          ],
          "table": [
           {
            "cells": {
             "fill": {
              "color": "#EBF0F8"
             },
             "line": {
              "color": "white"
             }
            },
            "header": {
             "fill": {
              "color": "#C8D4E3"
             },
             "line": {
              "color": "white"
             }
            },
            "type": "table"
           }
          ]
         },
         "layout": {
          "annotationdefaults": {
           "arrowcolor": "#2a3f5f",
           "arrowhead": 0,
           "arrowwidth": 1
          },
          "autotypenumbers": "strict",
          "coloraxis": {
           "colorbar": {
            "outlinewidth": 0,
            "ticks": ""
           }
          },
          "colorscale": {
           "diverging": [
            [
             0,
             "#8e0152"
            ],
            [
             0.1,
             "#c51b7d"
            ],
            [
             0.2,
             "#de77ae"
            ],
            [
             0.3,
             "#f1b6da"
            ],
            [
             0.4,
             "#fde0ef"
            ],
            [
             0.5,
             "#f7f7f7"
            ],
            [
             0.6,
             "#e6f5d0"
            ],
            [
             0.7,
             "#b8e186"
            ],
            [
             0.8,
             "#7fbc41"
            ],
            [
             0.9,
             "#4d9221"
            ],
            [
             1,
             "#276419"
            ]
           ],
           "sequential": [
            [
             0,
             "#0d0887"
            ],
            [
             0.1111111111111111,
             "#46039f"
            ],
            [
             0.2222222222222222,
             "#7201a8"
            ],
            [
             0.3333333333333333,
             "#9c179e"
            ],
            [
             0.4444444444444444,
             "#bd3786"
            ],
            [
             0.5555555555555556,
             "#d8576b"
            ],
            [
             0.6666666666666666,
             "#ed7953"
            ],
            [
             0.7777777777777778,
             "#fb9f3a"
            ],
            [
             0.8888888888888888,
             "#fdca26"
            ],
            [
             1,
             "#f0f921"
            ]
           ],
           "sequentialminus": [
            [
             0,
             "#0d0887"
            ],
            [
             0.1111111111111111,
             "#46039f"
            ],
            [
             0.2222222222222222,
             "#7201a8"
            ],
            [
             0.3333333333333333,
             "#9c179e"
            ],
            [
             0.4444444444444444,
             "#bd3786"
            ],
            [
             0.5555555555555556,
             "#d8576b"
            ],
            [
             0.6666666666666666,
             "#ed7953"
            ],
            [
             0.7777777777777778,
             "#fb9f3a"
            ],
            [
             0.8888888888888888,
             "#fdca26"
            ],
            [
             1,
             "#f0f921"
            ]
           ]
          },
          "colorway": [
           "#636efa",
           "#EF553B",
           "#00cc96",
           "#ab63fa",
           "#FFA15A",
           "#19d3f3",
           "#FF6692",
           "#B6E880",
           "#FF97FF",
           "#FECB52"
          ],
          "font": {
           "color": "#2a3f5f"
          },
          "geo": {
           "bgcolor": "white",
           "lakecolor": "white",
           "landcolor": "#E5ECF6",
           "showlakes": true,
           "showland": true,
           "subunitcolor": "white"
          },
          "hoverlabel": {
           "align": "left"
          },
          "hovermode": "closest",
          "mapbox": {
           "style": "light"
          },
          "paper_bgcolor": "white",
          "plot_bgcolor": "#E5ECF6",
          "polar": {
           "angularaxis": {
            "gridcolor": "white",
            "linecolor": "white",
            "ticks": ""
           },
           "bgcolor": "#E5ECF6",
           "radialaxis": {
            "gridcolor": "white",
            "linecolor": "white",
            "ticks": ""
           }
          },
          "scene": {
           "xaxis": {
            "backgroundcolor": "#E5ECF6",
            "gridcolor": "white",
            "gridwidth": 2,
            "linecolor": "white",
            "showbackground": true,
            "ticks": "",
            "zerolinecolor": "white"
           },
           "yaxis": {
            "backgroundcolor": "#E5ECF6",
            "gridcolor": "white",
            "gridwidth": 2,
            "linecolor": "white",
            "showbackground": true,
            "ticks": "",
            "zerolinecolor": "white"
           },
           "zaxis": {
            "backgroundcolor": "#E5ECF6",
            "gridcolor": "white",
            "gridwidth": 2,
            "linecolor": "white",
            "showbackground": true,
            "ticks": "",
            "zerolinecolor": "white"
           }
          },
          "shapedefaults": {
           "line": {
            "color": "#2a3f5f"
           }
          },
          "ternary": {
           "aaxis": {
            "gridcolor": "white",
            "linecolor": "white",
            "ticks": ""
           },
           "baxis": {
            "gridcolor": "white",
            "linecolor": "white",
            "ticks": ""
           },
           "bgcolor": "#E5ECF6",
           "caxis": {
            "gridcolor": "white",
            "linecolor": "white",
            "ticks": ""
           }
          },
          "title": {
           "x": 0.05
          },
          "xaxis": {
           "automargin": true,
           "gridcolor": "white",
           "linecolor": "white",
           "ticks": "",
           "title": {
            "standoff": 15
           },
           "zerolinecolor": "white",
           "zerolinewidth": 2
          },
          "yaxis": {
           "automargin": true,
           "gridcolor": "white",
           "linecolor": "white",
           "ticks": "",
           "title": {
            "standoff": 15
           },
           "zerolinecolor": "white",
           "zerolinewidth": 2
          }
         }
        },
        "title": {
         "text": "Distribution of Conventional Energy Sources across Germany based on the Number of Power Plants"
        }
       }
      },
      "image/png": "[encoded data removed]"
     },
     "metadata": {},
     "output_type": "display_data"
    }
   ],
   "source": [
    "# Create pie chart showing the distribution of energy sources across Germany based on the \n",
    "# number of power plants\n",
    "fig = px.pie(conv_number_plants_sources, \n",
    "             values='number_of_plants', \n",
    "             names='energy_source', \n",
    "             title='Distribution of Conventional Energy Sources across Germany based on the Number of Power Plants'\n",
    "            )\n",
    "fig.show()"
   ]
  },
  {
   "cell_type": "markdown",
   "id": "5c801c2b-5416-48d9-bf1a-a148a79d3526",
   "metadata": {},
   "source": [
    "This pie chart illustrates the distribution of conventional energy sources based on the number of power plants. Natural gas represents the largest share, accounting for approximately 50% of the total. Hard coal and waste are the next most significant sources, each making up about 13%. Lignite comprises 10% of the power plants, while oil accounts for roughly 8%. The remaining sources, grouped as \"Other,\" contribute an additional 8%, and nuclear power plants make up 1% of conventional power plants in Germany.\n",
    "\n",
    "Overall, the data highlights a strong dependence on natural gas, while hard coal and waste continue to play a substantial role in the energy mix."
   ]
  },
  {
   "cell_type": "markdown",
   "id": "8ff7c668-2b5c-4526-85e4-9e5bb0dce539",
   "metadata": {},
   "source": [
    "### 1.4.2 Visualizations based on the Capacity of Conventional Power Plants in Germany"
   ]
  },
  {
   "cell_type": "markdown",
   "id": "8d4d43b3-fa07-45d8-8f96-b8cc030df7f3",
   "metadata": {},
   "source": [
    "#### Pie Chart: Distribution of Conventional Energy Sources across Germany by Capacity (MW) of Power Plants"
   ]
  },
  {
   "cell_type": "code",
   "execution_count": 65,
   "id": "83505d11-e468-46d9-89c7-8499ee029e33",
   "metadata": {},
   "outputs": [
    {
     "data": {
      "application/vnd.plotly.v1+json": {
       "config": {
        "plotlyServerURL": "https://plot.ly"
       },
       "data": [
        {
         "domain": {
          "x": [
           0,
           1
          ],
          "y": [
           0,
           1
          ]
         },
         "hovertemplate": "energy_source=%{label}<br>total_net_capacity=%{value}<extra></extra>",
         "labels": [
          "Natural gas",
          "Hard coal",
          "Lignite",
          "Nuclear",
          "Oil",
          "Other fuels",
          "Waste"
         ],
         "legendgroup": "",
         "name": "",
         "showlegend": true,
         "type": "pie",
         "values": {
          "_inputArray": {
           "0": 26242,
           "1": 22685,
           "2": 20819,
           "3": 8114,
           "4": 3858,
           "5": 2623,
           "6": 1622,
           "bdata": "gmadWFNRsh8SDz8KVgY=",
           "dtype": "i2",
           "shape": "7"
          },
          "bdata": "gmadWFNRsh8SDz8KVgY=",
          "dtype": "i2"
         }
        }
       ],
       "layout": {
        "autosize": true,
        "legend": {
         "tracegroupgap": 0
        },
        "template": {
         "data": {
          "bar": [
           {
            "error_x": {
             "color": "#2a3f5f"
            },
            "error_y": {
             "color": "#2a3f5f"
            },
            "marker": {
             "line": {
              "color": "#E5ECF6",
              "width": 0.5
             },
             "pattern": {
              "fillmode": "overlay",
              "size": 10,
              "solidity": 0.2
             }
            },
            "type": "bar"
           }
          ],
          "barpolar": [
           {
            "marker": {
             "line": {
              "color": "#E5ECF6",
              "width": 0.5
             },
             "pattern": {
              "fillmode": "overlay",
              "size": 10,
              "solidity": 0.2
             }
            },
            "type": "barpolar"
           }
          ],
          "carpet": [
           {
            "aaxis": {
             "endlinecolor": "#2a3f5f",
             "gridcolor": "white",
             "linecolor": "white",
             "minorgridcolor": "white",
             "startlinecolor": "#2a3f5f"
            },
            "baxis": {
             "endlinecolor": "#2a3f5f",
             "gridcolor": "white",
             "linecolor": "white",
             "minorgridcolor": "white",
             "startlinecolor": "#2a3f5f"
            },
            "type": "carpet"
           }
          ],
          "choropleth": [
           {
            "colorbar": {
             "outlinewidth": 0,
             "ticks": ""
            },
            "type": "choropleth"
           }
          ],
          "contour": [
           {
            "colorbar": {
             "outlinewidth": 0,
             "ticks": ""
            },
            "colorscale": [
             [
              0,
              "#0d0887"
             ],
             [
              0.1111111111111111,
              "#46039f"
             ],
             [
              0.2222222222222222,
              "#7201a8"
             ],
             [
              0.3333333333333333,
              "#9c179e"
             ],
             [
              0.4444444444444444,
              "#bd3786"
             ],
             [
              0.5555555555555556,
              "#d8576b"
             ],
             [
              0.6666666666666666,
              "#ed7953"
             ],
             [
              0.7777777777777778,
              "#fb9f3a"
             ],
             [
              0.8888888888888888,
              "#fdca26"
             ],
             [
              1,
              "#f0f921"
             ]
            ],
            "type": "contour"
           }
          ],
          "contourcarpet": [
           {
            "colorbar": {
             "outlinewidth": 0,
             "ticks": ""
            },
            "type": "contourcarpet"
           }
          ],
          "heatmap": [
           {
            "colorbar": {
             "outlinewidth": 0,
             "ticks": ""
            },
            "colorscale": [
             [
              0,
              "#0d0887"
             ],
             [
              0.1111111111111111,
              "#46039f"
             ],
             [
              0.2222222222222222,
              "#7201a8"
             ],
             [
              0.3333333333333333,
              "#9c179e"
             ],
             [
              0.4444444444444444,
              "#bd3786"
             ],
             [
              0.5555555555555556,
              "#d8576b"
             ],
             [
              0.6666666666666666,
              "#ed7953"
             ],
             [
              0.7777777777777778,
              "#fb9f3a"
             ],
             [
              0.8888888888888888,
              "#fdca26"
             ],
             [
              1,
              "#f0f921"
             ]
            ],
            "type": "heatmap"
           }
          ],
          "histogram": [
           {
            "marker": {
             "pattern": {
              "fillmode": "overlay",
              "size": 10,
              "solidity": 0.2
             }
            },
            "type": "histogram"
           }
          ],
          "histogram2d": [
           {
            "colorbar": {
             "outlinewidth": 0,
             "ticks": ""
            },
            "colorscale": [
             [
              0,
              "#0d0887"
             ],
             [
              0.1111111111111111,
              "#46039f"
             ],
             [
              0.2222222222222222,
              "#7201a8"
             ],
             [
              0.3333333333333333,
              "#9c179e"
             ],
             [
              0.4444444444444444,
              "#bd3786"
             ],
             [
              0.5555555555555556,
              "#d8576b"
             ],
             [
              0.6666666666666666,
              "#ed7953"
             ],
             [
              0.7777777777777778,
              "#fb9f3a"
             ],
             [
              0.8888888888888888,
              "#fdca26"
             ],
             [
              1,
              "#f0f921"
             ]
            ],
            "type": "histogram2d"
           }
          ],
          "histogram2dcontour": [
           {
            "colorbar": {
             "outlinewidth": 0,
             "ticks": ""
            },
            "colorscale": [
             [
              0,
              "#0d0887"
             ],
             [
              0.1111111111111111,
              "#46039f"
             ],
             [
              0.2222222222222222,
              "#7201a8"
             ],
             [
              0.3333333333333333,
              "#9c179e"
             ],
             [
              0.4444444444444444,
              "#bd3786"
             ],
             [
              0.5555555555555556,
              "#d8576b"
             ],
             [
              0.6666666666666666,
              "#ed7953"
             ],
             [
              0.7777777777777778,
              "#fb9f3a"
             ],
             [
              0.8888888888888888,
              "#fdca26"
             ],
             [
              1,
              "#f0f921"
             ]
            ],
            "type": "histogram2dcontour"
           }
          ],
          "mesh3d": [
           {
            "colorbar": {
             "outlinewidth": 0,
             "ticks": ""
            },
            "type": "mesh3d"
           }
          ],
          "parcoords": [
           {
            "line": {
             "colorbar": {
              "outlinewidth": 0,
              "ticks": ""
             }
            },
            "type": "parcoords"
           }
          ],
          "pie": [
           {
            "automargin": true,
            "type": "pie"
           }
          ],
          "scatter": [
           {
            "fillpattern": {
             "fillmode": "overlay",
             "size": 10,
             "solidity": 0.2
            },
            "type": "scatter"
           }
          ],
          "scatter3d": [
           {
            "line": {
             "colorbar": {
              "outlinewidth": 0,
              "ticks": ""
             }
            },
            "marker": {
             "colorbar": {
              "outlinewidth": 0,
              "ticks": ""
             }
            },
            "type": "scatter3d"
           }
          ],
          "scattercarpet": [
           {
            "marker": {
             "colorbar": {
              "outlinewidth": 0,
              "ticks": ""
             }
            },
            "type": "scattercarpet"
           }
          ],
          "scattergeo": [
           {
            "marker": {
             "colorbar": {
              "outlinewidth": 0,
              "ticks": ""
             }
            },
            "type": "scattergeo"
           }
          ],
          "scattergl": [
           {
            "marker": {
             "colorbar": {
              "outlinewidth": 0,
              "ticks": ""
             }
            },
            "type": "scattergl"
           }
          ],
          "scattermap": [
           {
            "marker": {
             "colorbar": {
              "outlinewidth": 0,
              "ticks": ""
             }
            },
            "type": "scattermap"
           }
          ],
          "scattermapbox": [
           {
            "marker": {
             "colorbar": {
              "outlinewidth": 0,
              "ticks": ""
             }
            },
            "type": "scattermapbox"
           }
          ],
          "scatterpolar": [
           {
            "marker": {
             "colorbar": {
              "outlinewidth": 0,
              "ticks": ""
             }
            },
            "type": "scatterpolar"
           }
          ],
          "scatterpolargl": [
           {
            "marker": {
             "colorbar": {
              "outlinewidth": 0,
              "ticks": ""
             }
            },
            "type": "scatterpolargl"
           }
          ],
          "scatterternary": [
           {
            "marker": {
             "colorbar": {
              "outlinewidth": 0,
              "ticks": ""
             }
            },
            "type": "scatterternary"
           }
          ],
          "surface": [
           {
            "colorbar": {
             "outlinewidth": 0,
             "ticks": ""
            },
            "colorscale": [
             [
              0,
              "#0d0887"
             ],
             [
              0.1111111111111111,
              "#46039f"
             ],
             [
              0.2222222222222222,
              "#7201a8"
             ],
             [
              0.3333333333333333,
              "#9c179e"
             ],
             [
              0.4444444444444444,
              "#bd3786"
             ],
             [
              0.5555555555555556,
              "#d8576b"
             ],
             [
              0.6666666666666666,
              "#ed7953"
             ],
             [
              0.7777777777777778,
              "#fb9f3a"
             ],
             [
              0.8888888888888888,
              "#fdca26"
             ],
             [
              1,
              "#f0f921"
             ]
            ],
            "type": "surface"
           }
          ],
          "table": [
           {
            "cells": {
             "fill": {
              "color": "#EBF0F8"
             },
             "line": {
              "color": "white"
             }
            },
            "header": {
             "fill": {
              "color": "#C8D4E3"
             },
             "line": {
              "color": "white"
             }
            },
            "type": "table"
           }
          ]
         },
         "layout": {
          "annotationdefaults": {
           "arrowcolor": "#2a3f5f",
           "arrowhead": 0,
           "arrowwidth": 1
          },
          "autotypenumbers": "strict",
          "coloraxis": {
           "colorbar": {
            "outlinewidth": 0,
            "ticks": ""
           }
          },
          "colorscale": {
           "diverging": [
            [
             0,
             "#8e0152"
            ],
            [
             0.1,
             "#c51b7d"
            ],
            [
             0.2,
             "#de77ae"
            ],
            [
             0.3,
             "#f1b6da"
            ],
            [
             0.4,
             "#fde0ef"
            ],
            [
             0.5,
             "#f7f7f7"
            ],
            [
             0.6,
             "#e6f5d0"
            ],
            [
             0.7,
             "#b8e186"
            ],
            [
             0.8,
             "#7fbc41"
            ],
            [
             0.9,
             "#4d9221"
            ],
            [
             1,
             "#276419"
            ]
           ],
           "sequential": [
            [
             0,
             "#0d0887"
            ],
            [
             0.1111111111111111,
             "#46039f"
            ],
            [
             0.2222222222222222,
             "#7201a8"
            ],
            [
             0.3333333333333333,
             "#9c179e"
            ],
            [
             0.4444444444444444,
             "#bd3786"
            ],
            [
             0.5555555555555556,
             "#d8576b"
            ],
            [
             0.6666666666666666,
             "#ed7953"
            ],
            [
             0.7777777777777778,
             "#fb9f3a"
            ],
            [
             0.8888888888888888,
             "#fdca26"
            ],
            [
             1,
             "#f0f921"
            ]
           ],
           "sequentialminus": [
            [
             0,
             "#0d0887"
            ],
            [
             0.1111111111111111,
             "#46039f"
            ],
            [
             0.2222222222222222,
             "#7201a8"
            ],
            [
             0.3333333333333333,
             "#9c179e"
            ],
            [
             0.4444444444444444,
             "#bd3786"
            ],
            [
             0.5555555555555556,
             "#d8576b"
            ],
            [
             0.6666666666666666,
             "#ed7953"
            ],
            [
             0.7777777777777778,
             "#fb9f3a"
            ],
            [
             0.8888888888888888,
             "#fdca26"
            ],
            [
             1,
             "#f0f921"
            ]
           ]
          },
          "colorway": [
           "#636efa",
           "#EF553B",
           "#00cc96",
           "#ab63fa",
           "#FFA15A",
           "#19d3f3",
           "#FF6692",
           "#B6E880",
           "#FF97FF",
           "#FECB52"
          ],
          "font": {
           "color": "#2a3f5f"
          },
          "geo": {
           "bgcolor": "white",
           "lakecolor": "white",
           "landcolor": "#E5ECF6",
           "showlakes": true,
           "showland": true,
           "subunitcolor": "white"
          },
          "hoverlabel": {
           "align": "left"
          },
          "hovermode": "closest",
          "mapbox": {
           "style": "light"
          },
          "paper_bgcolor": "white",
          "plot_bgcolor": "#E5ECF6",
          "polar": {
           "angularaxis": {
            "gridcolor": "white",
            "linecolor": "white",
            "ticks": ""
           },
           "bgcolor": "#E5ECF6",
           "radialaxis": {
            "gridcolor": "white",
            "linecolor": "white",
            "ticks": ""
           }
          },
          "scene": {
           "xaxis": {
            "backgroundcolor": "#E5ECF6",
            "gridcolor": "white",
            "gridwidth": 2,
            "linecolor": "white",
            "showbackground": true,
            "ticks": "",
            "zerolinecolor": "white"
           },
           "yaxis": {
            "backgroundcolor": "#E5ECF6",
            "gridcolor": "white",
            "gridwidth": 2,
            "linecolor": "white",
            "showbackground": true,
            "ticks": "",
            "zerolinecolor": "white"
           },
           "zaxis": {
            "backgroundcolor": "#E5ECF6",
            "gridcolor": "white",
            "gridwidth": 2,
            "linecolor": "white",
            "showbackground": true,
            "ticks": "",
            "zerolinecolor": "white"
           }
          },
          "shapedefaults": {
           "line": {
            "color": "#2a3f5f"
           }
          },
          "ternary": {
           "aaxis": {
            "gridcolor": "white",
            "linecolor": "white",
            "ticks": ""
           },
           "baxis": {
            "gridcolor": "white",
            "linecolor": "white",
            "ticks": ""
           },
           "bgcolor": "#E5ECF6",
           "caxis": {
            "gridcolor": "white",
            "linecolor": "white",
            "ticks": ""
           }
          },
          "title": {
           "x": 0.05
          },
          "xaxis": {
           "automargin": true,
           "gridcolor": "white",
           "linecolor": "white",
           "ticks": "",
           "title": {
            "standoff": 15
           },
           "zerolinecolor": "white",
           "zerolinewidth": 2
          },
          "yaxis": {
           "automargin": true,
           "gridcolor": "white",
           "linecolor": "white",
           "ticks": "",
           "title": {
            "standoff": 15
           },
           "zerolinecolor": "white",
           "zerolinewidth": 2
          }
         }
        },
        "title": {
         "text": "Distribution of Conventional Energy Sources across Germany based on the Capacity of Power Plants"
        }
       }
      },
      "image/png": "[encoded data removed]"
     },
     "metadata": {},
     "output_type": "display_data"
    }
   ],
   "source": [
    "# Create pie chart showing the distribution of energy sources across Germany based on the \n",
    "# capacity (MW) of power plants\n",
    "\n",
    "fig = px.pie(conv_cap_sources, \n",
    "             values = 'total_net_capacity', \n",
    "             names = 'energy_source', \n",
    "             title ='Distribution of Conventional Energy Sources across Germany based on the Capacity of Power Plants'\n",
    "            )\n",
    "fig.show()"
   ]
  },
  {
   "cell_type": "markdown",
   "id": "b043d960-4124-423d-b562-6f1c3ec78828",
   "metadata": {},
   "source": [
    "This pie chart illustrates the distribution of conventional energy sources based on the capacity (MW) of power plants. "
   ]
  },
  {
   "cell_type": "markdown",
   "id": "e5f43bc6-8956-4b73-b39a-b6e25f661f1d",
   "metadata": {},
   "source": [
    "#### Bar Chart: Average Capacity (MW) per Conventional Power Plant per Energy Source"
   ]
  },
  {
   "cell_type": "code",
   "execution_count": null,
   "id": "3e8c4677-bf27-4057-be59-118ca3501bc0",
   "metadata": {},
   "outputs": [],
   "source": [
    "# Create a bar chart visualizing the average capacity per power plant per energy source\n",
    "fig = px.bar(conv_avg_cap_source, x='energy_source', y='avg_capacity_per_plant',\n",
    "\t        color='energy_source',\n",
    "                 title='Conventional Energy Sources: Average Capacity (MW) per Plant'\n",
    "                )\n",
    "fig.update_layout(width=1000, height=500)\n",
    "\n",
    "fig.show()"
   ]
  },
  {
   "cell_type": "markdown",
   "id": "cfc761c8-b88e-4618-bd9a-b63628f3fb72",
   "metadata": {},
   "source": [
    "#### Violin Plot: Net Capacity (MW) per Conventional Power Plant per Energy Source"
   ]
  },
  {
   "cell_type": "code",
   "execution_count": null,
   "id": "3c179d02-0a10-45c1-afb0-32e543f6dfcf",
   "metadata": {},
   "outputs": [],
   "source": [
    "# Create a violin plot visualizing the distribution of net capacity per power plant per energy source\n",
    "fig = px.violin(df_conv_power,\n",
    "                x='energy_source',\n",
    "                y='capacity_net_bnetza',\n",
    "                color='energy_source',\n",
    "                box=True,  \n",
    "                points='all',  \n",
    "                title='Distribution of Net Capacity (MW) per Plant by Energy Source')\n",
    "\n",
    "fig.update_layout(width=1000, height=500)\n",
    "fig.show()"
   ]
  },
  {
   "cell_type": "markdown",
   "id": "6cbe73f5-51ba-4c0d-8c69-3204522e8e5f",
   "metadata": {},
   "source": [
    "### 1.4.3 Side-by-Side Pie Charts: Distribution of Conventional Power Plants by Number of Plants and by Net Capacity (MW) "
   ]
  },
  {
   "cell_type": "code",
   "execution_count": null,
   "id": "73237a89-48e6-427d-9c57-d958d3b2c398",
   "metadata": {},
   "outputs": [],
   "source": [
    "# Create a subplot showing the distribution of energy sources by number of \n",
    "# power plants and by capacity across Germany\n",
    "\n",
    "fig1 = px.pie(conv_number_plants_sources, \n",
    "             values='number_of_plants', \n",
    "             names='energy_source'\n",
    "            )\n",
    "\n",
    "fig2 = px.pie(conv_cap_sources, \n",
    "             values = 'total_net_capacity', \n",
    "             names = 'energy_source'\n",
    "            )\n",
    "\n",
    "# Create subplot layout with 1 row and 2 columns for pie charts\n",
    "subplots_fig = make_subplots(\n",
    "    rows=1, cols=2,\n",
    "    specs=[[{'type':'domain'}, {'type':'domain'}]],\n",
    "    subplot_titles=[\n",
    "        'Distribution by Number of Plants',\n",
    "        'Distribution by Capacity (MW)'\n",
    "    ]\n",
    ")\n",
    "# Add traces from the two px pie charts\n",
    "for trace in fig1.data:\n",
    "    subplots_fig.add_trace(trace, row=1, col=1)\n",
    "\n",
    "for trace in fig2.data:\n",
    "    subplots_fig.add_trace(trace, row=1, col=2)\n",
    "    \n",
    "subplots_fig.update_layout(width=1200, height=500)\n",
    "subplots_fig.show()"
   ]
  },
  {
   "cell_type": "markdown",
   "id": "bc86b25e-9fff-44ff-9821-31607909a26a",
   "metadata": {},
   "source": [
    "### 1.4.4 Visualizations showing the Commissionings and Shutdowns of Conventional Power Plants"
   ]
  },
  {
   "cell_type": "markdown",
   "id": "ce283957-cd25-4e4a-b6e5-9c0ba9ba552f",
   "metadata": {},
   "source": [
    "#### Heatmap: Commissionings of Conventional Power Plants per Decade per Energy Source"
   ]
  },
  {
   "cell_type": "code",
   "execution_count": null,
   "id": "53de6ed5-75e9-48b8-a60a-13d644150467",
   "metadata": {},
   "outputs": [],
   "source": [
    "# Create a heatmap displaying the commissioned power plants per decade and energy source\n",
    "\n",
    "fig = px.imshow(\n",
    "    conv_pivot_comm_source,\n",
    "    labels=dict(x='energy_source', y='decade', color='count'),\n",
    "    color_continuous_scale=\"Reds\",\n",
    "    title='Conventional Power Plants Germany: Commissions per Decade and Energy Source', \n",
    "    text_auto = True\n",
    ")\n",
    "fig.update_xaxes(type='category')\n",
    "fig.update_layout(width=1200, height=800)\n",
    "fig.show()"
   ]
  },
  {
   "cell_type": "markdown",
   "id": "bb873896-9c04-4228-9072-134fe9b81219",
   "metadata": {},
   "source": [
    "#### Heatmap: Commissioned Capacity (MW) per Decade and Energy Source"
   ]
  },
  {
   "cell_type": "code",
   "execution_count": null,
   "id": "8d7f0e7f-242c-4e3d-b95b-360ba5101a2c",
   "metadata": {},
   "outputs": [],
   "source": [
    "# Create a heatmap displaying the commissioned capacity per decade and energy source\n",
    "\n",
    "fig = px.imshow(\n",
    "    conv_pivot_comm_cap_source,\n",
    "    labels=dict(x='energy_source', y='decade', color='commissioned_capacity'),\n",
    "    color_continuous_scale=\"Reds\",\n",
    "    title='Conventional Power Plants Germany: Commissioned Capacity (MW) per Decade and Energy Source', \n",
    "    text_auto = True\n",
    ")\n",
    "fig.update_xaxes(type='category')\n",
    "fig.update_layout(width=1200, height=800)\n",
    "fig.show()"
   ]
  },
  {
   "cell_type": "markdown",
   "id": "f879de8b-4886-4a7b-b08e-420ba82a4fab",
   "metadata": {},
   "source": [
    "#### Heatmap: Number of Shutdowns of Conventional Power Plants per Decade per Energy Source"
   ]
  },
  {
   "cell_type": "code",
   "execution_count": null,
   "id": "1e414b57-9727-412c-bda2-22d258e182e1",
   "metadata": {},
   "outputs": [],
   "source": [
    "# Create a heatmap displaying the amount of shutdowns per year and energy source\n",
    "conv_shutdown_plants.columns\n",
    "conv_pivot_shutdown_plants\n",
    "fig = px.imshow(\n",
    "    conv_pivot_shutdown_plants,\n",
    "    labels=dict(x='shutdown', y='energy_source', color='count'),\n",
    "    color_continuous_scale=\"Reds\",\n",
    "    title='Conventional Power Plants Germany: Shutdowns per Year and Energy Source', \n",
    "    text_auto = True\n",
    ")\n",
    "fig.update_xaxes(type='category')\n",
    "fig.update_layout(width=800, height=500)\n",
    "fig.show()"
   ]
  },
  {
   "cell_type": "markdown",
   "id": "094f742b-b2c8-485f-b50c-2b083135bf18",
   "metadata": {},
   "source": [
    "#### Heatmap: Capacity (MW) of Shutdowns of Conventional Power Plants per Decade per Energy Source"
   ]
  },
  {
   "cell_type": "code",
   "execution_count": null,
   "id": "c2bbbb9f-a579-4d8a-b8e6-32874eed5fdf",
   "metadata": {},
   "outputs": [],
   "source": [
    "# Create a heatmap displaying the capacity of shutdowns per year and energy source\n",
    "fig = px.imshow(\n",
    "    conv_pivot_shutdown_cap,\n",
    "    labels=dict(x='shutdown', y='energy_source', color='sum_capacity_shutdown'),\n",
    "    color_continuous_scale=\"Reds\",\n",
    "    title='Conventional Power Plants Germany: Capacity (MW) of Shutdowns per Year and Energy Source', \n",
    "    text_auto = True\n",
    ")\n",
    "fig.update_xaxes(type='category')\n",
    "fig.update_layout(width=1000, height=500)\n",
    "fig.show()"
   ]
  },
  {
   "cell_type": "markdown",
   "id": "599079c6-0303-4ae0-8abd-308178be09e5",
   "metadata": {},
   "source": [
    "# 2 Renewable Power Plants Germany"
   ]
  },
  {
   "cell_type": "markdown",
   "id": "cdc8cec1-068c-439b-8412-ca3deacb595f",
   "metadata": {},
   "source": [
    "## 2.1 Data Inspection: Renewable Power Plants"
   ]
  },
  {
   "cell_type": "code",
   "execution_count": null,
   "id": "aeedc72c-2070-4c4f-bb1f-3a414b28f6c4",
   "metadata": {},
   "outputs": [],
   "source": [
    "#Load and preview csv-file containing data about renewable power plants in Germany\n",
    "\n",
    "df_renew_power = pd.read_csv('renewable_power_plants_DE.csv')\n",
    "df_renew_power.head()\n",
    "df_renew_power.columns"
   ]
  },
  {
   "cell_type": "code",
   "execution_count": null,
   "id": "1cbb6ff1-a364-42f2-a461-692acb63390c",
   "metadata": {},
   "outputs": [],
   "source": [
    "# Inspect the dataframe using summarytools\n",
    "dfSummary(df_renew_power)"
   ]
  },
  {
   "cell_type": "markdown",
   "id": "e0215328-d52b-44c8-ac3a-9451999fd65c",
   "metadata": {},
   "source": [
    "## 2.2 Data Cleansing: Renewable Power Plants"
   ]
  },
  {
   "cell_type": "code",
   "execution_count": null,
   "id": "0caf4e7c-8c32-4baf-aa7d-e32eaaf8b10b",
   "metadata": {},
   "outputs": [],
   "source": [
    "# Inspect federal_state column\n",
    "df_renew_power['federal_state'].unique()"
   ]
  },
  {
   "cell_type": "code",
   "execution_count": null,
   "id": "a7b92ab1-b0e2-4c83-8797-9a6d1ce021a5",
   "metadata": {},
   "outputs": [],
   "source": [
    "# Count occurrences of 'Ausland' in 'federal_state' column\n",
    "df_renew_power[df_renew_power['federal_state'] == 'Ausland'].count()\n",
    "# Remove the 5 occurrences of 'Ausland' as this analysis focuses on Germany \n",
    "df_renew_power = df_renew_power[df_renew_power['federal_state'] != 'Ausland']\n",
    "df_renew_power['federal_state'].unique()"
   ]
  },
  {
   "cell_type": "code",
   "execution_count": null,
   "id": "7eda92bd-9a2d-434d-a88e-fe4ee5e29492",
   "metadata": {},
   "outputs": [],
   "source": [
    "# Drop several columns which are not relevant for this analysis\n",
    "df_renew_power = df_renew_power.drop(['address', 'postcode', 'lat', 'lon', 'municipality', 'municipality_code', 'dso', 'dso_id', 'tso' ], axis = 1)\n",
    "df_renew_power.columns"
   ]
  },
  {
   "cell_type": "code",
   "execution_count": null,
   "id": "9f3a11ee-3db2-48c0-a31a-9662d102297c",
   "metadata": {},
   "outputs": [],
   "source": [
    "# Rename column 'federal_state' to 'state' in order to be consistent with the dataframe on conventional power plants\n",
    "df_renew_power = df_renew_power.rename(columns = {'federal_state' : 'state' })\n",
    "df_renew_power.columns"
   ]
  },
  {
   "cell_type": "markdown",
   "id": "6fd16bd6-baf1-436c-8f51-17deddc5435a",
   "metadata": {},
   "source": [
    "#### Inspection and Cleansing of Columns 'energy_source_level_1-3'"
   ]
  },
  {
   "cell_type": "code",
   "execution_count": null,
   "id": "60cba7ff-4ab7-40e2-b8b1-909fbaee1ef7",
   "metadata": {},
   "outputs": [],
   "source": [
    "# Unique values of column 'energy_source_level_1'\n",
    "df_renew_power['energy_source_level_1'].unique()\n",
    "# The column energy_source_level_1 contains the value 'renewable energy' for all entries and will not be explored here any further"
   ]
  },
  {
   "cell_type": "code",
   "execution_count": null,
   "id": "491a4265-f249-4841-9e81-221fabf88863",
   "metadata": {},
   "outputs": [],
   "source": [
    "# Unique values of column 'energy_source_level_2'\n",
    "df_renew_power['energy_source_level_2'].unique()"
   ]
  },
  {
   "cell_type": "code",
   "execution_count": null,
   "id": "41b71bef-3038-43ba-8e57-29d89a200f5d",
   "metadata": {},
   "outputs": [],
   "source": [
    "# Unique values of column 'energy_source_level_3'\n",
    "df_renew_power['energy_source_level_3'].unique()"
   ]
  },
  {
   "cell_type": "code",
   "execution_count": null,
   "id": "3a774c92-8fcc-44f7-876a-2627d92b3146",
   "metadata": {},
   "outputs": [],
   "source": [
    "# It is hypothesized, that 'Bioenergy' on level 2 splits up into 'Sewage and landfill gas', nan and 'Biomass and biogas' on Level 3. \n",
    "# To verify this, all unique combinations of level 2 and level 3 energy sources are investigated:\n",
    "\n",
    "df_renew_power[['energy_source_level_2', 'energy_source_level_3']].drop_duplicates()"
   ]
  },
  {
   "cell_type": "code",
   "execution_count": null,
   "id": "f414a5eb-818e-48e7-b993-7acc9f3b2900",
   "metadata": {},
   "outputs": [],
   "source": [
    "# In order to obtain a more detailed breakdown of bioenergy, the 'Bioenergy' label at energy source level 2 will be \n",
    "# replaced by the specific subcategories provided at level 3.\n",
    "\n",
    "# Create a dataframe that contains level 3 categories that should trigger replacement in level 2\n",
    "bioenergy_types = ['Biomass and biogas', 'Sewage and landfill gas']\n",
    "\n",
    "# Replace level 2 values with 'Bioenergy' only when level 3 is one of the specified types of 'bioenergy_types' (and not NaN)\n",
    "\n",
    "mask = (df_renew_power['energy_source_level_2'] == 'Bioenergy') & df_renew_power['energy_source_level_3'].notnull()\n",
    "df_renew_power.loc[mask, 'energy_source_level_2'] = df_renew_power.loc[mask, 'energy_source_level_3']\n",
    "\n",
    "# Check whether replacement was successful\n",
    "df_renew_power[['energy_source_level_2', 'energy_source_level_3']].drop_duplicates()\n",
    "# Analogous to the section on conventional power plants, the column energy_source_level_2 will be used for further analysis.\n",
    "# To maintain consistency in naming, the column will be renamed to energy_source.\n",
    "\n",
    "df_renew_power = df_renew_power.rename(columns = {'energy_source_level_2': 'energy_source'})\n",
    "df_renew_power.columns"
   ]
  },
  {
   "cell_type": "markdown",
   "id": "c3228c2d-d00b-49fb-aa3e-8723322f8b6f",
   "metadata": {},
   "source": [
    "## 2.3 Data Analysis: Renewable Power Plants"
   ]
  },
  {
   "cell_type": "markdown",
   "id": "180e8a04-9f50-4f9e-bc6e-fbaba259de52",
   "metadata": {},
   "source": [
    "### 2.3.1 Analysis of Renewable Energy Sources across the Federal States"
   ]
  },
  {
   "cell_type": "code",
   "execution_count": null,
   "id": "3bdae15a-692a-497f-9ed2-87ca65360339",
   "metadata": {},
   "outputs": [],
   "source": [
    "# Count total number of power plants per state\n",
    "\n",
    "# Since df_renew_power does not contain the names of the power plants, the capacity column is \n",
    "# used to count entries, as it does not contain any NaN values.\n",
    "renew_total_plants_state = df_renew_power.groupby('state').agg({'electrical_capacity':'count'}).sort_values(by = 'electrical_capacity', ascending = False).rename(columns = {'electrical_capacity': 'number_of_plants'}).reset_index()\n",
    "renew_total_plants_state"
   ]
  },
  {
   "cell_type": "code",
   "execution_count": null,
   "id": "b63426f6-2f67-4be1-ac13-4728e917689e",
   "metadata": {},
   "outputs": [],
   "source": [
    "# Investigate which energy source is most prevalent in which federal state \n",
    "\n",
    "renew_number_plants_states_sources = df_renew_power.groupby(['state', 'energy_source']).size().reset_index(name='number_of_plants').sort_values(by='number_of_plants', ascending=False)\n",
    "renew_number_plants_states_sources.head(15)"
   ]
  },
  {
   "cell_type": "code",
   "execution_count": null,
   "id": "a07258a0-f784-4842-baee-eb582c26501f",
   "metadata": {},
   "outputs": [],
   "source": [
    "# Investivate which energy sources are most prevalent across all states based on the \n",
    "# number of power plants \n",
    "renew_number_plants_sources = df_renew_power.groupby('energy_source').size().reset_index(name = 'number_of_plants').sort_values(by = 'number_of_plants', ascending = False)\n",
    "renew_number_plants_sources"
   ]
  },
  {
   "cell_type": "code",
   "execution_count": null,
   "id": "fd4e4ab6-8683-4f8a-a47d-b2c4ea82f3ad",
   "metadata": {},
   "outputs": [],
   "source": [
    "# Investivate which energy sources are most prevalent across all states based on the \n",
    "# capacity of power plants in MW \n",
    "df_renew_power.columns\n",
    "renew_cap_sources = df_renew_power.groupby('energy_source')['electrical_capacity'].sum().reset_index(name = 'total_capacity').sort_values(by = 'total_capacity', ascending = False)\n",
    "renew_cap_sources"
   ]
  },
  {
   "cell_type": "code",
   "execution_count": null,
   "id": "adfeb6dc-d3fb-4075-8adc-6c8ecc8d5d4e",
   "metadata": {},
   "outputs": [],
   "source": [
    "# Investivate which energy sources are most prevalent across all states based on \n",
    "# the capacity of power plants in MW \n",
    "renew_cap_sources = df_renew_power.groupby('energy_source')['electrical_capacity'].sum().reset_index(name = 'total_capacity').sort_values(by = 'total_capacity', ascending = False)\n",
    "renew_cap_sources"
   ]
  },
  {
   "cell_type": "code",
   "execution_count": null,
   "id": "3ca1928f-c203-46e8-8fd0-d30d29246bb0",
   "metadata": {},
   "outputs": [],
   "source": [
    "# Calculation of average capacity per power plant per 'energy_source'\n",
    "# According to the documentation on the data,  'electrical_capacity' refers to \n",
    "# the installed electrical capacity in MW \n",
    "#(https://nbviewer.org/github/Open-Power-System-Data/renewable_power_plants/blob/2020-08-25/main.ipynb)\n",
    "renew_avg_cap_source = df_renew_power.groupby('energy_source').agg({'electrical_capacity': 'mean'}).reset_index()\n",
    "renew_avg_cap_source = renew_avg_cap_source.rename(columns={'electrical_capacity': 'avg_capacity_per_plant'})\n",
    "renew_avg_cap_source"
   ]
  },
  {
   "cell_type": "code",
   "execution_count": null,
   "id": "2be2dc82-61e6-4f29-ae85-90ff10ed9f25",
   "metadata": {},
   "outputs": [],
   "source": [
    "# Investigate which energy source is most prevalent in which federal state by total net capacity\n",
    "renew_cap_states_sources = df_renew_power.groupby(\n",
    "    ['state', 'energy_source']).agg(\n",
    "    {'electrical_capacity':'sum'}).reset_index()\n",
    "# Rename column 'electrical_capacity' to 'total_net_capacity' \n",
    "renew_cap_states_sources = renew_cap_states_sources.rename(\n",
    "    columns = {'electrical_capacity':'total_net_capacity'})\n",
    "# Convert values of column 'total_net_capacity' to integers\n",
    "renew_cap_states_sources['total_net_capacity'] = renew_cap_states_sources['total_net_capacity'].astype(int)\n",
    "renew_cap_states_sources.head()\n"
   ]
  },
  {
   "cell_type": "markdown",
   "id": "923bd460-4d6d-41e0-a5cf-786b3decea34",
   "metadata": {},
   "source": [
    "### 2.3.2 Analysis of Reduced Data Frame 'renew_states_comm_source' "
   ]
  },
  {
   "cell_type": "code",
   "execution_count": null,
   "id": "fc89eaaa-c86b-4efa-b806-0d06850f9272",
   "metadata": {},
   "outputs": [],
   "source": [
    "#Create reduced dataframe 'states_comm_source' containing columns 'state', \n",
    "# 'commissioned', 'energy_source', 'electrical_capacity'\n",
    "renew_states_comm_source = df_renew_power[['state', 'commissioning_date', 'energy_source', 'electrical_capacity']]\n",
    "renew_states_comm_source.head()\n",
    "# For further analysis, the year of commissioning will be taken into consideration. \n",
    "#However, the data in the column 'commissioning_year' is in\n",
    "# the format YYYY-MM-DD. \n",
    "\n",
    "# Remove NaN values from 'commissioning_date'\n",
    "renew_states_comm_source = renew_states_comm_source[renew_states_comm_source['commissioning_date'].notnull()]\n",
    "renew_states_comm_source['commissioning_date'].isnull().sum()\n",
    "renew_states_comm_source['commissioned'] = renew_states_comm_source['commissioning_date'].str.split('-').str[0].astype('int')\n",
    "renew_states_comm_source.head()\n"
   ]
  },
  {
   "cell_type": "code",
   "execution_count": null,
   "id": "a6f27c33-b3ab-4eef-b3fc-4fe698b4cfc2",
   "metadata": {},
   "outputs": [],
   "source": [
    "#Extract decade from 'commissioning_date' and store in newly-created column 'decade'\n",
    "def get_decade (year):\n",
    "    if year < 1910:\n",
    "        return '1900s'\n",
    "    elif year < 1920:\n",
    "        return '1910s'\n",
    "    elif year < 1930:\n",
    "        return '1920s'\n",
    "    elif year < 1940:\n",
    "        return '1930s'\n",
    "    elif year < 1950:\n",
    "        return '1940s'\n",
    "    elif year < 1960:\n",
    "        return '1950s'\n",
    "    elif year < 1970:\n",
    "        return '1960s'\n",
    "    elif year < 1980:\n",
    "        return '1970s'\n",
    "    elif year < 1990:\n",
    "        return '1980s'\n",
    "    elif year < 2000:\n",
    "        return '1990s'\n",
    "    elif year < 2010:\n",
    "        return '2000s'\n",
    "    elif year < 2020:\n",
    "        return '2010s'\n",
    "    else:\n",
    "        return '2020s'\n",
    "        \n",
    "renew_states_comm_source = renew_states_comm_source.copy()\n",
    "renew_states_comm_source['decade'] = renew_states_comm_source['commissioned'].apply(get_decade)\n",
    "renew_states_comm_source.head()"
   ]
  },
  {
   "cell_type": "markdown",
   "id": "a3f944ca-93cc-4ae3-aad9-e081c57b0ce2",
   "metadata": {},
   "source": [
    "##### renew_states_comm_source: Number of Power Plants per 'decade' and 'energy source'"
   ]
  },
  {
   "cell_type": "code",
   "execution_count": null,
   "id": "b5553f63-cffd-4824-8cf3-1fc17cfa6c6e",
   "metadata": {},
   "outputs": [],
   "source": [
    "#Group renew_states_comm_source by 'decade' and 'energy source', then count the number of entries per group\n",
    "renew_comm_source = renew_states_comm_source.groupby([ 'decade', 'energy_source']).size().reset_index(name = 'count')\n",
    "renew_comm_source\n",
    "# Create a pivot table to show the number of commissioned units per 'energy_source' by 'decade'\n",
    "renew_pivot_comm_source = pd.pivot_table(renew_comm_source,\n",
    "    index = 'decade',\n",
    "    columns = 'energy_source',\n",
    "    values = 'count'\n",
    ")\n",
    "renew_pivot_comm_source.head()"
   ]
  },
  {
   "cell_type": "markdown",
   "id": "5713bc75-d449-43d2-8bd9-be6186649021",
   "metadata": {},
   "source": [
    "##### renew_states_comm_source: Number of Power Plants per 'decade', 'energy source' and 'state'"
   ]
  },
  {
   "cell_type": "code",
   "execution_count": null,
   "id": "52b8df24-6f7e-469f-9344-157676f9fffa",
   "metadata": {},
   "outputs": [],
   "source": [
    "#Group renew_comm_source by 'state', 'decade' and 'energy source', then count the number of entries per group\n",
    "renew_states_count_source = renew_states_comm_source.groupby(['state', 'decade', 'energy_source']).size().reset_index(name = 'count')\n",
    "renew_states_count_source\n",
    "\n",
    "# Create a pivot table to show the number of commissioned power plants per 'energy_source' by 'decade' and 'state'\n",
    "renew_pivot_states_count_source = pd.pivot_table(renew_states_count_source, \n",
    "                                    index = ['state', 'decade'], \n",
    "                                    columns = 'energy_source',\n",
    "                                    values = 'count'\n",
    ")\n",
    "renew_pivot_states_count_source\n",
    "# Replace missing values with '0'\n",
    "renew_pivot_states_count_source = renew_pivot_states_count_source.fillna(0)\n",
    "renew_pivot_states_count_source.sample(10)"
   ]
  },
  {
   "cell_type": "markdown",
   "id": "144f3f78-e990-4b3e-8cb7-f6c7e282ac49",
   "metadata": {},
   "source": [
    "##### renew_states_comm_source: Commissioned Capacity per 'decade' and 'energy source' "
   ]
  },
  {
   "cell_type": "code",
   "execution_count": null,
   "id": "fc1e4465-171b-4e86-877d-3f63d014efae",
   "metadata": {},
   "outputs": [],
   "source": [
    "#Group renew_states_comm_source by 'decade', 'energy source' and 'electrical_capacity', then calculate \n",
    "#the installed capacity\n",
    "renew_comm_cap_source = renew_states_comm_source.groupby(['decade', 'energy_source']).agg({'electrical_capacity': 'sum'}).reset_index()\n",
    "# Rename column 'electrical_capacity' to 'commissioned_capacity'\n",
    "renew_comm_cap_source =renew_comm_cap_source.rename(columns = {'electrical_capacity': 'commissioned_capacity'})\n",
    "# Convert 'commissioned_capacity' to integer\n",
    "renew_comm_cap_source['commissioned_capacity'] = renew_comm_cap_source['commissioned_capacity'].astype(int)\n",
    "renew_comm_cap_source.head()"
   ]
  },
  {
   "cell_type": "code",
   "execution_count": null,
   "id": "8da1d7ff-7fb1-4ada-81f0-9f412a003bfc",
   "metadata": {},
   "outputs": [],
   "source": [
    "# Group renew_states_comm_source by 'decade', 'energy source' and capacity and 'state', \n",
    "# then calculate the installed capacity\n",
    "renew_comm_cap_source_state = renew_states_comm_source.groupby(['decade', 'energy_source', 'state']).agg({'electrical_capacity': 'sum'}).reset_index()\n",
    "# Rename column 'electrical_capacity' to 'commissioned_capacity'\n",
    "renew_comm_cap_source_state = renew_comm_cap_source_state.rename(columns = {'electrical_capacity': 'commissioned_capacity'})\n",
    "renew_comm_cap_source_state['commissioned_capacity'].info()\n"
   ]
  },
  {
   "cell_type": "code",
   "execution_count": null,
   "id": "5826723b-9588-4b62-8593-948ec1898cac",
   "metadata": {},
   "outputs": [],
   "source": [
    "# Create a pivot table to show the amount of commissioned capacity per 'energy_source' per 'decade'\n",
    "renew_pivot_comm_cap_source = pd.pivot_table(renew_comm_cap_source, \n",
    "                                    index = ['decade'], \n",
    "                                    columns = 'energy_source',\n",
    "                                    values = 'commissioned_capacity'\n",
    ")\n",
    "renew_pivot_comm_cap_source\n",
    "# Replace missing values with '0'\n",
    "renew_pivot_comm_cap_source = renew_pivot_comm_cap_source.fillna(0)\n",
    "# Round conv_comm_cap_source to one decimal place\n",
    "renew_pivot_comm_cap_source = renew_pivot_comm_cap_source.round(1)\n",
    "renew_pivot_comm_cap_source.head()"
   ]
  },
  {
   "cell_type": "markdown",
   "id": "e88419f2-e0f9-4bca-bda9-dfba0fa4d9e1",
   "metadata": {},
   "source": [
    "### 2.3.3 Analysis of Column on Decommissioning\n",
    "As df_renew_power reveals, there are no entries for the column on decommissioning so this will not be explored here any further"
   ]
  },
  {
   "cell_type": "markdown",
   "id": "d3675406-e269-45c5-853b-477556a4b6fa",
   "metadata": {},
   "source": [
    "## 2.4 Data Visualization: Renewable Power Plants"
   ]
  },
  {
   "cell_type": "markdown",
   "id": "7e56c60d-34af-477b-9b8c-7847231709ab",
   "metadata": {},
   "source": [
    "### 2.4.1 Visualizations based on the Total Number of Renewable Power Plants in Germany"
   ]
  },
  {
   "cell_type": "markdown",
   "id": "892bf6de-0494-46f6-b698-84715029ec6d",
   "metadata": {},
   "source": [
    "#### Bar Chart: Total Number of Renewable Power Plants per State"
   ]
  },
  {
   "cell_type": "code",
   "execution_count": null,
   "id": "e16d6bbf-a60f-4b48-83dc-c516ac511699",
   "metadata": {},
   "outputs": [],
   "source": [
    "# Create a bar chart showing the total number of power plants per state\n",
    "fig = px.bar(\n",
    "    renew_total_plants_state,\n",
    "    x='state',\n",
    "    y='number_of_plants',\n",
    "    title='Total Number of Renewable Power Plants per State'\n",
    ")\n",
    "fig.show()"
   ]
  },
  {
   "cell_type": "markdown",
   "id": "df10bfc8-f7df-4424-b7bb-57924327cdc2",
   "metadata": {},
   "source": [
    "#### Stacked Bar Chart: Total Number of Renewable Power Plants per State and Energy Source"
   ]
  },
  {
   "cell_type": "code",
   "execution_count": null,
   "id": "0ed8d4f4-e65b-4c9c-8fcb-ba7efc8f5929",
   "metadata": {},
   "outputs": [],
   "source": [
    "# Create a stacked bar chart incorporating the different energy sources per state \n",
    "fig = px.bar(\n",
    "    renew_number_plants_states_sources,\n",
    "    x='state',\n",
    "    y='number_of_plants',\n",
    "    color = 'energy_source',\n",
    "    title='Total Number of Renewable Power Plants per State per Energy Source'\n",
    ")\n",
    "fig.update_layout(width=1000, height=400)\n",
    "fig.show()"
   ]
  },
  {
   "cell_type": "markdown",
   "id": "369dd79f-6d9f-4dd3-a7b9-8c37941c7a12",
   "metadata": {},
   "source": [
    "#### Pie Chart: Distribution of Renewable Energy Sources across Germany by Number of Power Plants"
   ]
  },
  {
   "cell_type": "code",
   "execution_count": null,
   "id": "8e744ce2-4187-4f38-82ea-59322f609083",
   "metadata": {},
   "outputs": [],
   "source": [
    "# Create pie chart showing the distribution of energy sources across Germany based on the \n",
    "# number of power plants\n",
    "fig = px.pie(renew_number_plants_sources, \n",
    "             values='number_of_plants', \n",
    "             names='energy_source', \n",
    "             title='Distribution of Renewable Energy Sources across Germany based on the Number of Power Plants'\n",
    "            )\n",
    "fig.update_layout(width=1000, height=900)\n",
    "fig.show()"
   ]
  },
  {
   "cell_type": "markdown",
   "id": "d238b1fc-7946-4731-a6bb-ace73c6139bd",
   "metadata": {},
   "source": [
    "### 2.4.2 Visualizations based on the Capacity of Renewawble Power Plants in Germany"
   ]
  },
  {
   "cell_type": "markdown",
   "id": "fe4e6b77-e380-4300-8ec2-f59455b307ed",
   "metadata": {},
   "source": [
    "#### Pie Chart: Distribution of Renewable Energy Sources across Germany by Capacity (MW) of Power Plants"
   ]
  },
  {
   "cell_type": "code",
   "execution_count": null,
   "id": "2a97b1db-d1b9-4294-b731-1b9c32204ecd",
   "metadata": {},
   "outputs": [],
   "source": [
    "# Create pie chart showing the distribution of energy sources across Germany based on the \n",
    "# capacity (MW) of power plants\n",
    "\n",
    "fig = px.pie(renew_cap_sources, \n",
    "             values = 'total_capacity', \n",
    "             names = 'energy_source', \n",
    "             title ='Distribution of Renewable Energy Sources across Germany based on the Capacity of Power Plants'\n",
    "            )\n",
    "fig.show()"
   ]
  },
  {
   "cell_type": "markdown",
   "id": "ac20ca2b-9328-4f2d-b9ff-9118914e1510",
   "metadata": {},
   "source": [
    "#### Bar Chart: Average Capacity (MW) per Renewable Power Plant per Energy Source"
   ]
  },
  {
   "cell_type": "code",
   "execution_count": null,
   "id": "2ccad620-6b27-4c2c-80de-781e6e79bb38",
   "metadata": {},
   "outputs": [],
   "source": [
    "# Create a bar chart visualizing the average capacity per power plant per energy source\n",
    "fig = px.bar(renew_avg_cap_source, x='energy_source', y='avg_capacity_per_plant',\n",
    "\t        color='energy_source',\n",
    "                 title='Renewable Energy Sources: Average Capacity per Plant'\n",
    "                )\n",
    "fig.update_layout(width=1000, height=500)\n",
    "\n",
    "fig.show()"
   ]
  },
  {
   "cell_type": "markdown",
   "id": "f7039eef-8619-4794-8f1a-b1ae5d54f083",
   "metadata": {},
   "source": [
    "### 2.4.3 Side-by-Side Pie Charts: Distribution of Renewable Power Plants by Number of Plants and by Net Capacity (MW) "
   ]
  },
  {
   "cell_type": "code",
   "execution_count": null,
   "id": "03c8924f-f2ac-4a03-b244-59e2239fbb99",
   "metadata": {},
   "outputs": [],
   "source": [
    "# Create a subplot showing the distribution of energy sources by number of power plants and by \n",
    "# capacity across Germany\n",
    "\n",
    "fig1 = px.pie(renew_number_plants_sources, \n",
    "             values='number_of_plants', \n",
    "             names='energy_source'\n",
    "            )\n",
    "\n",
    "fig2 = px.pie(renew_cap_sources, \n",
    "             values = 'total_capacity', \n",
    "             names = 'energy_source'\n",
    "            )\n",
    "\n",
    "# Create subplot layout with 1 row and 2 columns for pie charts\n",
    "subplots_fig = make_subplots(\n",
    "    rows=1, cols=2,\n",
    "    specs=[[{'type':'domain'}, {'type':'domain'}]],\n",
    "    subplot_titles=[\n",
    "        'Distribution by Number of Plants',\n",
    "        'Distribution by Capacity (MW)'\n",
    "    ]\n",
    ")\n",
    "# Add traces from the two px pie charts\n",
    "for trace in fig1.data:\n",
    "    subplots_fig.add_trace(trace, row=1, col=1)\n",
    "\n",
    "for trace in fig2.data:\n",
    "    subplots_fig.add_trace(trace, row=1, col=2)\n",
    "    \n",
    "subplots_fig.update_layout(width=1200, height=800)\n",
    "subplots_fig.show()"
   ]
  },
  {
   "cell_type": "markdown",
   "id": "cda09cfa-282a-4922-a82e-8fabe9c67197",
   "metadata": {},
   "source": [
    "### 2.4.4 Visualizations showing the Commissionings of Renewable Power Plants"
   ]
  },
  {
   "cell_type": "markdown",
   "id": "7d10d32d-599b-4aff-975b-fdfef6c653c3",
   "metadata": {
    "jp-MarkdownHeadingCollapsed": true
   },
   "source": [
    "#### Heatmap: Commissionings of Renewable Power Plants per Decade per Energy Source"
   ]
  },
  {
   "cell_type": "code",
   "execution_count": null,
   "id": "637a8979-cd4e-444b-94f2-40a56311e305",
   "metadata": {},
   "outputs": [],
   "source": [
    "# Create a heatmap displaying the commissioned power plants per decade and energy source\n",
    "\n",
    "fig = px.imshow(\n",
    "    renew_pivot_comm_source,\n",
    "    labels=dict(x='decade', y='energy_source', color='count'),\n",
    "    color_continuous_scale=\"Reds\",\n",
    "    title='Renewable Power Plants Germany: Commissions per Decade and Energy Source', \n",
    "    text_auto = True\n",
    ")\n",
    "fig.update_xaxes(type='category')\n",
    "fig.update_layout(width=1200, height=800)\n",
    "fig.show()"
   ]
  },
  {
   "cell_type": "code",
   "execution_count": null,
   "id": "a370fb48-b008-4926-8c8c-b62867472188",
   "metadata": {},
   "outputs": [],
   "source": [
    "renew_pivot_comm_cap_source"
   ]
  },
  {
   "cell_type": "markdown",
   "id": "28f73168-47b6-4185-bc03-d7e3eb8fe3e2",
   "metadata": {},
   "source": [
    "#### Heatmap: Commissioned Capacity (MW) per Decade per Energy Source"
   ]
  },
  {
   "cell_type": "code",
   "execution_count": null,
   "id": "bf0da5ac-58a3-4785-9d12-514ff11dde66",
   "metadata": {},
   "outputs": [],
   "source": [
    "# Create a heatmap displaying the commissioned capacity\n",
    "#per decade and energy source\n",
    "\n",
    "fig = px.imshow(\n",
    "    renew_pivot_comm_cap_source,\n",
    "    labels=dict(x='decade', y='energy_source', color='commissioned_capacity'),\n",
    "    color_continuous_scale=\"Reds\",\n",
    "    title='Renewable Power Plants Germany: Commissioned Capacity (MW) per Decade and Energy Source', \n",
    "    text_auto = True\n",
    ")\n",
    "fig.update_xaxes(type='category')\n",
    "fig.update_layout(width=1200, height=800)\n",
    "fig.show()"
   ]
  },
  {
   "cell_type": "markdown",
   "id": "797d7456-6740-4d96-ab00-9afb492493af",
   "metadata": {},
   "source": [
    "# 3.  Data Analysis:  Conventional vs. Renewable Power Plants in Germany"
   ]
  },
  {
   "cell_type": "code",
   "execution_count": null,
   "id": "dd7e397a-70e2-4be3-9e6c-55905985c7e6",
   "metadata": {},
   "outputs": [],
   "source": [
    "# Create a combined data frame of conv_comm_cap_source and renew_comm_cap_source \n",
    "# and round to one decimal place\n",
    "\n",
    "combined_comm_cap_source = pd.concat([conv_comm_cap_source, renew_comm_cap_source ], ignore_index=True).round(1)\n",
    "combined_comm_cap_source.columns\n",
    "combined_comm_cap_source['decade'].info()\n",
    "# Create additional column 'decade_num' which contains the decades as integers\n",
    "# (in order to ensure numerical sorting along x-axis)\n",
    "combined_comm_cap_source['decade_num'] = combined_comm_cap_source['decade'].str.split('s').str[0].astype(int)\n",
    "combined_comm_cap_source.columns\n",
    "# Exclude energy sources with the value 'other fuels' to increase clarity\n",
    "combined_comm_cap_source = combined_comm_cap_source[combined_comm_cap_source['energy_source']!= 'Other fuels']"
   ]
  },
  {
   "cell_type": "code",
   "execution_count": null,
   "id": "747159d7-6692-4b72-a826-19c57eb119cf",
   "metadata": {},
   "outputs": [],
   "source": [
    "# Create a combined dataframe of conv_comm_cap_source and renew_comm_cap_source diregarding\n",
    "# the different types of energy sources and\n",
    "# round to one decimal place\n",
    "# Copy renew_comm_cap_source and set all energy sources to 'Renewable'\n",
    "renew_comm_cap_source = renew_comm_cap_source.copy()\n",
    "renew_comm_cap_source['energy_source'] = 'Renewable'\n",
    "\n",
    "# Copy conv_comm_cap_source and set all energy sources to 'Conventional'\n",
    "conv_comm_cap_source = conv_comm_cap_source.copy()\n",
    "conv_comm_cap_source['energy_source'] = 'Conventional'\n",
    "\n",
    "combined_comm_cap_source2 = pd.concat([renew_comm_cap_source, conv_comm_cap_source], ignore_index=True)\n",
    "combined_comm_cap_source2.head()\n",
    "# Create additional column 'decade_num' which contains the decades as integers\n",
    "# (in order to ensure numerical sorting along x-axis)\n",
    "combined_comm_cap_source2['decade_num'] = combined_comm_cap_source2['decade'].str.split('s').str[0].astype(int)\n",
    "combined_comm_cap_source2.columns"
   ]
  },
  {
   "cell_type": "code",
   "execution_count": null,
   "id": "ba9ed1a9-fc54-4604-8106-ce688cab1281",
   "metadata": {},
   "outputs": [],
   "source": [
    "# Create a concatenated dataframe containing the total net capacity of (active)\n",
    "# power plants by state and energy source (including all sources)\n",
    "combined_cap_states_sources = pd.concat([conv_cap_states_sources, renew_cap_states_sources])\n"
   ]
  },
  {
   "cell_type": "code",
   "execution_count": null,
   "id": "fa0c6a41-0140-4a6a-a63c-a53611765cf1",
   "metadata": {},
   "outputs": [],
   "source": [
    "# Create a concatenated dataframe from dataframes containing the total net capacity of \n",
    "# (active) power plants by state and energy source (Conventional vs. Renewable)\n",
    "\n",
    "# Replace individual energy sources with 'Conventional' \n",
    "conv_cap_states_sources['energy_source'] = 'Conventional'\n",
    "# Group by 'state' and 'energy_source' and calculate total capacity\n",
    "grouped_conv_cap_states_sources = conv_cap_states_sources.groupby(['state', 'energy_source'], as_index=False).agg(\n",
    "    {'total_net_capacity': 'sum'})\n",
    "\n",
    "# Replace individual energy sources with 'Renewable' \n",
    "renew_cap_states_sources['energy_source'] = 'Renewable'\n",
    "# Group by 'state' and 'energy_source' and calculate total capacity\n",
    "grouped_renew_cap_states_sources =renew_cap_states_sources.groupby(['state', 'energy_source'], as_index=False).agg(\n",
    "    {'total_net_capacity': 'sum'})"
   ]
  },
  {
   "cell_type": "code",
   "execution_count": null,
   "id": "7c0de71d-56bd-4059-be77-686826e34f15",
   "metadata": {},
   "outputs": [],
   "source": [
    "# Concatenate the two dataframes\n",
    "combined_grouped_cap_states_sources = pd.concat(\n",
    "    [grouped_conv_cap_states_sources, grouped_renew_cap_states_sources]\n",
    ")\n",
    "combined_grouped_cap_states_sources.head()"
   ]
  },
  {
   "cell_type": "markdown",
   "id": "4e0160dc-b309-4f1c-beb1-df65d2ba9589",
   "metadata": {},
   "source": [
    "# 4.  Visualizations:  Conventional vs. Renewable Power Plants in Germany"
   ]
  },
  {
   "cell_type": "markdown",
   "id": "de32d652-8cfa-431a-a784-214a7d783ca1",
   "metadata": {},
   "source": [
    "## Line Chart: Commissioned Capacity (MW) of Power Plants per Decade and Energy Source (Including All Sources)"
   ]
  },
  {
   "cell_type": "code",
   "execution_count": null,
   "id": "a4571f49-81fa-4e07-850b-5fe8722c22b4",
   "metadata": {},
   "outputs": [],
   "source": [
    "fig = px.line(\n",
    "    combined_comm_cap_source,\n",
    "    x='decade_num',\n",
    "    y='commissioned_capacity',\n",
    "    color='energy_source',\n",
    "    color_discrete_sequence=px.colors.qualitative.Set3,\n",
    "    title='Development of Commissioned Capacity (MW) by Source Over Decades (Including All Sources)'\n",
    ")    \n",
    "fig.update_layout(width=1200, height=800)\n",
    "fig.show()\n"
   ]
  },
  {
   "cell_type": "markdown",
   "id": "24797d73-a104-4e58-a24f-96b823ca66df",
   "metadata": {},
   "source": [
    "## Area Chart: Commissioned Capacity (MW) of Power Plants per Decade and Energy Source (Including All Sources)"
   ]
  },
  {
   "cell_type": "code",
   "execution_count": null,
   "id": "fa38e5fe-6681-45e7-9d7e-dbd5c0684201",
   "metadata": {},
   "outputs": [],
   "source": [
    "fig = px.area(\n",
    "    combined_comm_cap_source,\n",
    "    x='decade_num',\n",
    "    y='commissioned_capacity',\n",
    "    color='energy_source',\n",
    "    color_discrete_sequence=px.colors.qualitative.Set3,\n",
    "    title='Development of Commissioned Capacity (MW) by Source Over Decades (Including All Sources)'\n",
    ")\n",
    "fig.update_layout(width=1200, height=800)\n",
    "fig.show()"
   ]
  },
  {
   "cell_type": "markdown",
   "id": "737637d3-5e5b-45d5-8619-bcc7e3b7cd66",
   "metadata": {},
   "source": [
    "## Stacked Bar Chart: Commissioned Capacity (MW) of Power Plants per Decade and Energy Source (Including All Sources)"
   ]
  },
  {
   "cell_type": "markdown",
   "id": "babf9f4c-a774-4d31-a7f9-1ea5900a4617",
   "metadata": {},
   "source": [
    "## Stacked Bar Chart: Commissioned Capacity (MW) of Power Plants per Decade and Energy Source (Conventional vs. Renewable Sources)"
   ]
  },
  {
   "cell_type": "code",
   "execution_count": null,
   "id": "098cb327-b84c-4121-a159-837a1eb126b6",
   "metadata": {},
   "outputs": [],
   "source": [
    "fig = px.bar(combined_comm_cap_source, \n",
    "             x='decade_num', \n",
    "             y='commissioned_capacity', \n",
    "             color='energy_source', \n",
    "             color_discrete_sequence=px.colors.qualitative.Set3,\n",
    "             title='Development of Commissioned Capacity (MW) by Source Over Decades (Including All Sources)',\n",
    "             barmode='stack')\n",
    "fig.update_layout(width=1200, height=800)\n",
    "fig.show()"
   ]
  },
  {
   "cell_type": "code",
   "execution_count": null,
   "id": "de8f4717-e8e3-4d19-9a19-bfff2f44140b",
   "metadata": {},
   "outputs": [],
   "source": [
    "fig = px.bar(\n",
    "    combined_comm_cap_source2,\n",
    "    x='decade_num',\n",
    "    y='commissioned_capacity',\n",
    "    color='energy_source',\n",
    "    title='Development of Commissioned Capacity (MW) by Source Over Decades (Conventional vs. Renewable Sources)'\n",
    ")    \n",
    "fig.update_layout(width=1200, height=800)\n",
    "fig.show()"
   ]
  },
  {
   "cell_type": "markdown",
   "id": "a2d78b1d-2080-46d5-a631-d55d095101ce",
   "metadata": {},
   "source": [
    "## Sunburst Chart: Commissioned Capacity (MW) by State and Energy Source (Including All Sources)"
   ]
  },
  {
   "cell_type": "code",
   "execution_count": null,
   "id": "3acf176e-4b50-45af-a3aa-221999c96345",
   "metadata": {},
   "outputs": [],
   "source": [
    "# Add a root level to the dataframe\n",
    "combined_cap_states_sources['root'] = 'Germany'\n",
    "\n",
    "# Create a suburst chart visualizing the commissioned capacity (MW) by State and Energy Source\n",
    "fig = px.sunburst(\n",
    "    combined_cap_states_sources,\n",
    "    path=['root', 'state', 'energy_source'],\n",
    "    values='total_net_capacity',\n",
    "    title = 'Commissioned Capacity (MW) by State and Energy Source (Including All Sources)'\n",
    ")\n",
    "fig.update_layout(width=1200, height=800)\n",
    "\n",
    "fig.show()"
   ]
  },
  {
   "cell_type": "markdown",
   "id": "22083340-cd42-4957-a08e-fc03c0302483",
   "metadata": {},
   "source": [
    "## Sunburst Chart: Commissioned Capacity (MW) by State and Energy Source (Including All Sources)"
   ]
  },
  {
   "cell_type": "code",
   "execution_count": null,
   "id": "c35ba5bb-ab6a-42ce-8c57-60d69d176c95",
   "metadata": {},
   "outputs": [],
   "source": [
    "# Add a root level\n",
    "combined_grouped_cap_states_sources['root'] = 'Germany'\n",
    "\n",
    "# Define special colours for 'Conventional' and 'Renewable'\n",
    "color_map = {\n",
    "    'Conventional': 'orange',\n",
    "    'Renewable': 'green'\n",
    "}\n",
    "# Create the suburst chart\n",
    "fig = px.sunburst(\n",
    "    combined_grouped_cap_states_sources,\n",
    "    path=['root', 'state', 'energy_source'],\n",
    "    values='total_net_capacity',\n",
    "    color='energy_source',\n",
    "    title = 'Commissioned Capacity (MW) by State and Energy Source (Conventional vs. Renewable)'\n",
    ")\n",
    "fig.update_layout(width=1200, height=800)\n",
    "\n",
    "fig.show()"
   ]
  },
  {
   "cell_type": "markdown",
   "id": "22e17faa-cfa5-4f1b-aa72-7c8e7db4f6d9",
   "metadata": {},
   "source": [
    "# 5. Export of Relevant Dataframes for Dashboard Creation"
   ]
  },
  {
   "cell_type": "markdown",
   "id": "bb7f4da6-7b37-4ca4-8928-b941ec838677",
   "metadata": {},
   "source": [
    "## 5.1. Conventional Power"
   ]
  },
  {
   "cell_type": "code",
   "execution_count": null,
   "id": "de619eef-c76e-441f-ac2e-8747d2f173b7",
   "metadata": {},
   "outputs": [],
   "source": [
    "# Export dataframes containing data on amount of conventional power plants\n",
    "conv_total_plants_state.to_csv('conv_total_plants_state.csv', index=False)\n",
    "conv_number_plants_states_sources.to_csv('conv_number_plants_states_sources.csv', index=False)\n",
    "\n",
    "# Export dataframes containing data on capacity of conventional power plants\n",
    "conv_cap_sources.to_csv('conv_cap_sources.csv', index=False)\n",
    "conv_avg_cap_source.to_csv('conv_avg_cap_source.csv', index=False)\n",
    "\n",
    "# Export dataframes containing data on commissionings of conventional power plants\n",
    "conv_states_comm_source.to_csv('conv_states_comm_source.csv', index=False)\n",
    "conv_comm_source.to_csv('conv_comm_source.csv', index=False)\n",
    "conv_comm_cap_source_state.to_csv('conv_comm_cap_source_state.csv', index=False)\n",
    "\n",
    "# Export dataframes containing data on shutdowns of conventional power plants\n",
    "conv_shutdown_plants.to_csv('conv_shutdown_plants.csv', index=False)\n",
    "conv_shutdown_cap.to_csv('conv_shutdown_cap.csv', index=False)\n",
    "\n",
    "# Export dataframes containing data on amount of conventional power plants\n",
    "conv_total_plants_state.to_csv('conv_total_plants_state.csv', index=False)\n",
    "conv_number_plants_states_sources.to_csv('conv_number_plants_states_sources.csv', index=False)"
   ]
  },
  {
   "cell_type": "markdown",
   "id": "1f62b24d-e7ab-41ef-ac45-b6d195bea19c",
   "metadata": {},
   "source": [
    "## 5.1. Renewable Power"
   ]
  },
  {
   "cell_type": "code",
   "execution_count": null,
   "id": "2bc30246-1661-47bb-954e-62cad59e679e",
   "metadata": {},
   "outputs": [],
   "source": [
    "# Export dataframes containing data on capacity of renewable power plants\n",
    "renew_cap_sources.to_csv('renew_cap_sources.csv', index=False)\n",
    "renew_avg_cap_source.to_csv('renew_avg_cap_source.csv', index=False)\n",
    "\n",
    "# Export of dataframes containing data on commissionings of renewable power plants\n",
    "renew_states_comm_source.to_csv('renew_states_comm_source.csv', index=False)\n",
    "renew_comm_source.to_csv('renew_comm_source.csv', index=False)\n",
    "renew_comm_cap_source_state.to_csv('renew_comm_cap_source_state.csv', index=False)"
   ]
  }
 ],
 "metadata": {
  "kernelspec": {
   "display_name": "Python 3 (ipykernel)",
   "language": "python",
   "name": "python3"
  },
  "language_info": {
   "codemirror_mode": {
    "name": "ipython",
    "version": 3
   },
   "file_extension": ".py",
   "mimetype": "text/x-python",
   "name": "python",
   "nbconvert_exporter": "python",
   "pygments_lexer": "ipython3",
   "version": "3.12.5"
  }
 },
 "nbformat": 4,
 "nbformat_minor": 5
}
